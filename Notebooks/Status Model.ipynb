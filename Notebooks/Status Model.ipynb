{
 "cells": [
  {
   "cell_type": "code",
   "execution_count": 3,
   "id": "105ee261",
   "metadata": {
    "id": "105ee261"
   },
   "outputs": [],
   "source": [
    "import pandas as pd\n",
    "import numpy as np\n",
    "import seaborn as sns\n",
    "import matplotlib.pyplot as plt\n",
    "%matplotlib inline\n",
    "\n",
    "from datetime import date as dt\n",
    "from sklearn.preprocessing import StandardScaler\n",
    "from sklearn.model_selection import train_test_split,cross_val_score,StratifiedKFold,GridSearchCV,RandomizedSearchCV\n",
    "from imblearn.under_sampling import NearMiss\n",
    "from sklearn.decomposition import PCA\n",
    "from sklearn import preprocessing, model_selection\n",
    "from sklearn.metrics import accuracy_score,confusion_matrix,classification_report,plot_roc_curve,auc\n",
    "from sklearn.ensemble import RandomForestClassifier\n",
    "from sklearn.neighbors import KNeighborsClassifier\n",
    "from sklearn.pipeline import Pipeline\n",
    "from sklearn.discriminant_analysis import QuadraticDiscriminantAnalysis\n",
    "\n",
    "from collections import Counter\n",
    "import warnings\n",
    "warnings.filterwarnings('ignore')"
   ]
  },
  {
   "cell_type": "code",
   "execution_count": 5,
   "id": "ac5253b2",
   "metadata": {},
   "outputs": [],
   "source": [
    "import pickle\n",
    "\n",
    "with open('data.pickle', 'rb') as data:\n",
    "    data = pickle.load(data)"
   ]
  },
  {
   "cell_type": "code",
   "execution_count": 8,
   "id": "1afac4bd",
   "metadata": {},
   "outputs": [],
   "source": [
    "x = data.drop('status',axis = 1)\n",
    "y = data.status"
   ]
  },
  {
   "cell_type": "code",
   "execution_count": 9,
   "id": "ee71b1ff",
   "metadata": {},
   "outputs": [],
   "source": [
    "scaler = StandardScaler()\n",
    "x_scaled = scaler.fit_transform(x)"
   ]
  },
  {
   "cell_type": "code",
   "execution_count": 10,
   "id": "fe8c8e41",
   "metadata": {},
   "outputs": [],
   "source": [
    "def score(clas, x_train, x_test, y_train, y_test, train = True):\n",
    "    if train:\n",
    "        y_pred = clas.predict(x_train)\n",
    "        print('\\n ----- Train Result ----- \\n')\n",
    "        print('Accuracy Score:', accuracy_score(y_train,y_pred))\n",
    "        print('\\n ----- Classification Report ----- \\n', classification_report(y_train,y_pred))\n",
    "        print('\\n ----- Confusion matrix ----- \\n', confusion_matrix(y_train,y_pred))\n",
    "    \n",
    "    elif train == False:\n",
    "        pred = clas.predict(x_test)\n",
    "        print('\\n ----- Test Result ----- \\n')\n",
    "        print('Accuracy Score:', accuracy_score(y_test,pred))\n",
    "        print('\\n ----- Classification Report ----- \\n', classification_report(y_test,pred))\n",
    "        print('\\n ----- Confusion matrix ----- \\n', confusion_matrix(y_test,pred))"
   ]
  },
  {
   "cell_type": "code",
   "execution_count": 11,
   "id": "353b1b13",
   "metadata": {},
   "outputs": [],
   "source": [
    "x_train,x_test,y_train,y_test = train_test_split(x_scaled, y, test_size = 0.25, random_state = 8)"
   ]
  },
  {
   "cell_type": "code",
   "execution_count": 12,
   "id": "7f69ec59",
   "metadata": {},
   "outputs": [],
   "source": [
    "rfc = RandomForestClassifier()"
   ]
  },
  {
   "cell_type": "code",
   "execution_count": 13,
   "id": "28ad68f4",
   "metadata": {},
   "outputs": [
    {
     "name": "stdout",
     "output_type": "stream",
     "text": [
      "\n",
      " ----- Train Result ----- \n",
      "\n",
      "Accuracy Score: 1.0\n",
      "\n",
      " ----- Classification Report ----- \n",
      "               precision    recall  f1-score   support\n",
      "\n",
      "           0       1.00      1.00      1.00      3635\n",
      "           1       1.00      1.00      1.00     41416\n",
      "\n",
      "    accuracy                           1.00     45051\n",
      "   macro avg       1.00      1.00      1.00     45051\n",
      "weighted avg       1.00      1.00      1.00     45051\n",
      "\n",
      "\n",
      " ----- Confusion matrix ----- \n",
      " [[ 3635     0]\n",
      " [    0 41416]]\n",
      "\n",
      " ----- Test Result ----- \n",
      "\n",
      "Accuracy Score: 0.9514582500998802\n",
      "\n",
      " ----- Classification Report ----- \n",
      "               precision    recall  f1-score   support\n",
      "\n",
      "           0       0.89      0.44      0.59      1194\n",
      "           1       0.95      1.00      0.97     13824\n",
      "\n",
      "    accuracy                           0.95     15018\n",
      "   macro avg       0.92      0.72      0.78     15018\n",
      "weighted avg       0.95      0.95      0.94     15018\n",
      "\n",
      "\n",
      " ----- Confusion matrix ----- \n",
      " [[  529   665]\n",
      " [   64 13760]]\n"
     ]
    }
   ],
   "source": [
    "rfc.fit(x_train,y_train)\n",
    "score(rfc, x_train, x_test, y_train, y_test, train = True)\n",
    "score(rfc, x_train, x_test, y_train, y_test, train = False)"
   ]
  },
  {
   "cell_type": "code",
   "execution_count": 14,
   "id": "6f0bfc9f",
   "metadata": {},
   "outputs": [
    {
     "data": {
      "text/html": [
       "<div>\n",
       "<style scoped>\n",
       "    .dataframe tbody tr th:only-of-type {\n",
       "        vertical-align: middle;\n",
       "    }\n",
       "\n",
       "    .dataframe tbody tr th {\n",
       "        vertical-align: top;\n",
       "    }\n",
       "\n",
       "    .dataframe thead th {\n",
       "        text-align: right;\n",
       "    }\n",
       "</style>\n",
       "<table border=\"1\" class=\"dataframe\">\n",
       "  <thead>\n",
       "    <tr style=\"text-align: right;\">\n",
       "      <th></th>\n",
       "      <th>Original</th>\n",
       "      <th>Predicted</th>\n",
       "    </tr>\n",
       "  </thead>\n",
       "  <tbody>\n",
       "    <tr>\n",
       "      <th>0</th>\n",
       "      <td>1</td>\n",
       "      <td>1</td>\n",
       "    </tr>\n",
       "    <tr>\n",
       "      <th>1</th>\n",
       "      <td>1</td>\n",
       "      <td>1</td>\n",
       "    </tr>\n",
       "    <tr>\n",
       "      <th>2</th>\n",
       "      <td>1</td>\n",
       "      <td>1</td>\n",
       "    </tr>\n",
       "    <tr>\n",
       "      <th>3</th>\n",
       "      <td>1</td>\n",
       "      <td>1</td>\n",
       "    </tr>\n",
       "    <tr>\n",
       "      <th>4</th>\n",
       "      <td>1</td>\n",
       "      <td>1</td>\n",
       "    </tr>\n",
       "    <tr>\n",
       "      <th>...</th>\n",
       "      <td>...</td>\n",
       "      <td>...</td>\n",
       "    </tr>\n",
       "    <tr>\n",
       "      <th>15013</th>\n",
       "      <td>0</td>\n",
       "      <td>1</td>\n",
       "    </tr>\n",
       "    <tr>\n",
       "      <th>15014</th>\n",
       "      <td>1</td>\n",
       "      <td>1</td>\n",
       "    </tr>\n",
       "    <tr>\n",
       "      <th>15015</th>\n",
       "      <td>1</td>\n",
       "      <td>1</td>\n",
       "    </tr>\n",
       "    <tr>\n",
       "      <th>15016</th>\n",
       "      <td>1</td>\n",
       "      <td>1</td>\n",
       "    </tr>\n",
       "    <tr>\n",
       "      <th>15017</th>\n",
       "      <td>1</td>\n",
       "      <td>1</td>\n",
       "    </tr>\n",
       "  </tbody>\n",
       "</table>\n",
       "<p>15018 rows × 2 columns</p>\n",
       "</div>"
      ],
      "text/plain": [
       "       Original  Predicted\n",
       "0             1          1\n",
       "1             1          1\n",
       "2             1          1\n",
       "3             1          1\n",
       "4             1          1\n",
       "...         ...        ...\n",
       "15013         0          1\n",
       "15014         1          1\n",
       "15015         1          1\n",
       "15016         1          1\n",
       "15017         1          1\n",
       "\n",
       "[15018 rows x 2 columns]"
      ]
     },
     "execution_count": 14,
     "metadata": {},
     "output_type": "execute_result"
    }
   ],
   "source": [
    "a_rfc = np.array(y_test)\n",
    "predicted_rfc = np.array(rfc.predict(x_test))\n",
    "df_rfc = pd.DataFrame({'Original':a_rfc,'Predicted':predicted_rfc})\n",
    "df_rfc"
   ]
  },
  {
   "cell_type": "code",
   "execution_count": 15,
   "id": "d3bfe7a6",
   "metadata": {},
   "outputs": [],
   "source": [
    "from joblib import dump"
   ]
  },
  {
   "cell_type": "code",
   "execution_count": 16,
   "id": "f244811f",
   "metadata": {},
   "outputs": [
    {
     "data": {
      "text/plain": [
       "['./../savedModels/model.joblib']"
      ]
     },
     "execution_count": 16,
     "metadata": {},
     "output_type": "execute_result"
    }
   ],
   "source": [
    "dump(rfc,'./../savedModels/model.joblib')"
   ]
  },
  {
   "cell_type": "code",
   "execution_count": null,
   "id": "a875ec57",
   "metadata": {},
   "outputs": [],
   "source": []
  }
 ],
 "metadata": {
  "kernelspec": {
   "display_name": "Python 3 (ipykernel)",
   "language": "python",
   "name": "python3"
  },
  "language_info": {
   "codemirror_mode": {
    "name": "ipython",
    "version": 3
   },
   "file_extension": ".py",
   "mimetype": "text/x-python",
   "name": "python",
   "nbconvert_exporter": "python",
   "pygments_lexer": "ipython3",
   "version": "3.10.6"
  }
 },
 "nbformat": 4,
 "nbformat_minor": 5
}
