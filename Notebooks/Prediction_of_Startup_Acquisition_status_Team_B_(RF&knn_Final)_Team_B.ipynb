{
 "cells": [
  {
   "cell_type": "code",
   "execution_count": 20,
   "id": "105ee261",
   "metadata": {
    "id": "105ee261"
   },
   "outputs": [],
   "source": [
    "import pandas as pd\n",
    "import numpy as np\n",
    "import seaborn as sns\n",
    "import matplotlib.pyplot as plt\n",
    "%matplotlib inline\n",
    "\n",
    "from datetime import date as dt\n",
    "from sklearn.preprocessing import StandardScaler\n",
    "from sklearn.model_selection import train_test_split,cross_val_score,StratifiedKFold,GridSearchCV,RandomizedSearchCV\n",
    "from imblearn.under_sampling import NearMiss\n",
    "from sklearn.decomposition import PCA\n",
    "from sklearn import preprocessing, model_selection\n",
    "from sklearn.metrics import accuracy_score,confusion_matrix,classification_report,plot_roc_curve,auc\n",
    "from sklearn.ensemble import RandomForestClassifier\n",
    "from sklearn.neighbors import KNeighborsClassifier\n",
    "from sklearn.pipeline import Pipeline\n",
    "from sklearn.discriminant_analysis import QuadraticDiscriminantAnalysis\n",
    "\n",
    "from collections import Counter\n",
    "import warnings\n",
    "warnings.filterwarnings('ignore')"
   ]
  },
  {
   "cell_type": "code",
   "execution_count": 23,
   "id": "3c7240ff",
   "metadata": {
    "colab": {
     "base_uri": "https://localhost:8080/",
     "height": 404
    },
    "id": "3c7240ff",
    "outputId": "971d9032-b498-4edb-bc0e-0413caf4d38f"
   },
   "outputs": [
    {
     "data": {
      "text/html": [
       "<div>\n",
       "<style scoped>\n",
       "    .dataframe tbody tr th:only-of-type {\n",
       "        vertical-align: middle;\n",
       "    }\n",
       "\n",
       "    .dataframe tbody tr th {\n",
       "        vertical-align: top;\n",
       "    }\n",
       "\n",
       "    .dataframe thead th {\n",
       "        text-align: right;\n",
       "    }\n",
       "</style>\n",
       "<table border=\"1\" class=\"dataframe\">\n",
       "  <thead>\n",
       "    <tr style=\"text-align: right;\">\n",
       "      <th></th>\n",
       "      <th>id</th>\n",
       "      <th>Unnamed: 0.1</th>\n",
       "      <th>entity_type</th>\n",
       "      <th>entity_id</th>\n",
       "      <th>parent_id</th>\n",
       "      <th>name</th>\n",
       "      <th>normalized_name</th>\n",
       "      <th>permalink</th>\n",
       "      <th>category_code</th>\n",
       "      <th>status</th>\n",
       "      <th>...</th>\n",
       "      <th>first_milestone_at</th>\n",
       "      <th>last_milestone_at</th>\n",
       "      <th>milestones</th>\n",
       "      <th>relationships</th>\n",
       "      <th>created_by</th>\n",
       "      <th>created_at</th>\n",
       "      <th>updated_at</th>\n",
       "      <th>lat</th>\n",
       "      <th>lng</th>\n",
       "      <th>ROI</th>\n",
       "    </tr>\n",
       "  </thead>\n",
       "  <tbody>\n",
       "    <tr>\n",
       "      <th>0</th>\n",
       "      <td>c:1</td>\n",
       "      <td>0</td>\n",
       "      <td>Company</td>\n",
       "      <td>1</td>\n",
       "      <td>NaN</td>\n",
       "      <td>Wetpaint</td>\n",
       "      <td>wetpaint</td>\n",
       "      <td>/company/wetpaint</td>\n",
       "      <td>web</td>\n",
       "      <td>operating</td>\n",
       "      <td>...</td>\n",
       "      <td>2010-09-05</td>\n",
       "      <td>2013-09-18</td>\n",
       "      <td>5.0</td>\n",
       "      <td>17.0</td>\n",
       "      <td>initial-importer</td>\n",
       "      <td>2007-05-25 06:51:27</td>\n",
       "      <td>2013-04-13 03:29:00</td>\n",
       "      <td>47.606209</td>\n",
       "      <td>-122.332071</td>\n",
       "      <td>15.5</td>\n",
       "    </tr>\n",
       "    <tr>\n",
       "      <th>1</th>\n",
       "      <td>c:10</td>\n",
       "      <td>1</td>\n",
       "      <td>Company</td>\n",
       "      <td>10</td>\n",
       "      <td>NaN</td>\n",
       "      <td>Flektor</td>\n",
       "      <td>flektor</td>\n",
       "      <td>/company/flektor</td>\n",
       "      <td>games_video</td>\n",
       "      <td>acquired</td>\n",
       "      <td>...</td>\n",
       "      <td>NaN</td>\n",
       "      <td>NaN</td>\n",
       "      <td>NaN</td>\n",
       "      <td>6.0</td>\n",
       "      <td>initial-importer</td>\n",
       "      <td>2007-05-31 21:11:51</td>\n",
       "      <td>2008-05-23 23:23:14</td>\n",
       "      <td>34.021122</td>\n",
       "      <td>-118.396467</td>\n",
       "      <td>NaN</td>\n",
       "    </tr>\n",
       "    <tr>\n",
       "      <th>2</th>\n",
       "      <td>c:100</td>\n",
       "      <td>2</td>\n",
       "      <td>Company</td>\n",
       "      <td>100</td>\n",
       "      <td>NaN</td>\n",
       "      <td>There</td>\n",
       "      <td>there</td>\n",
       "      <td>/company/there</td>\n",
       "      <td>games_video</td>\n",
       "      <td>acquired</td>\n",
       "      <td>...</td>\n",
       "      <td>2003-02-01</td>\n",
       "      <td>2011-09-23</td>\n",
       "      <td>4.0</td>\n",
       "      <td>12.0</td>\n",
       "      <td>initial-importer</td>\n",
       "      <td>2007-08-06 23:52:45</td>\n",
       "      <td>2013-11-04 02:09:48</td>\n",
       "      <td>37.562992</td>\n",
       "      <td>-122.325525</td>\n",
       "      <td>NaN</td>\n",
       "    </tr>\n",
       "    <tr>\n",
       "      <th>3</th>\n",
       "      <td>c:10000</td>\n",
       "      <td>3</td>\n",
       "      <td>Company</td>\n",
       "      <td>10000</td>\n",
       "      <td>NaN</td>\n",
       "      <td>MYWEBBO</td>\n",
       "      <td>mywebbo</td>\n",
       "      <td>/company/mywebbo</td>\n",
       "      <td>network_hosting</td>\n",
       "      <td>operating</td>\n",
       "      <td>...</td>\n",
       "      <td>NaN</td>\n",
       "      <td>NaN</td>\n",
       "      <td>NaN</td>\n",
       "      <td>NaN</td>\n",
       "      <td>NaN</td>\n",
       "      <td>2008-08-24 16:51:57</td>\n",
       "      <td>2008-09-06 14:19:18</td>\n",
       "      <td>NaN</td>\n",
       "      <td>NaN</td>\n",
       "      <td>NaN</td>\n",
       "    </tr>\n",
       "    <tr>\n",
       "      <th>4</th>\n",
       "      <td>c:10001</td>\n",
       "      <td>4</td>\n",
       "      <td>Company</td>\n",
       "      <td>10001</td>\n",
       "      <td>NaN</td>\n",
       "      <td>THE Movie Streamer</td>\n",
       "      <td>the movie streamer</td>\n",
       "      <td>/company/the-movie-streamer</td>\n",
       "      <td>games_video</td>\n",
       "      <td>operating</td>\n",
       "      <td>...</td>\n",
       "      <td>NaN</td>\n",
       "      <td>NaN</td>\n",
       "      <td>NaN</td>\n",
       "      <td>NaN</td>\n",
       "      <td>NaN</td>\n",
       "      <td>2008-08-24 17:10:34</td>\n",
       "      <td>2008-09-06 14:19:18</td>\n",
       "      <td>NaN</td>\n",
       "      <td>NaN</td>\n",
       "      <td>NaN</td>\n",
       "    </tr>\n",
       "  </tbody>\n",
       "</table>\n",
       "<p>5 rows × 44 columns</p>\n",
       "</div>"
      ],
      "text/plain": [
       "        id  Unnamed: 0.1 entity_type  entity_id  parent_id  \\\n",
       "0      c:1             0     Company          1        NaN   \n",
       "1     c:10             1     Company         10        NaN   \n",
       "2    c:100             2     Company        100        NaN   \n",
       "3  c:10000             3     Company      10000        NaN   \n",
       "4  c:10001             4     Company      10001        NaN   \n",
       "\n",
       "                 name     normalized_name                    permalink  \\\n",
       "0            Wetpaint            wetpaint            /company/wetpaint   \n",
       "1             Flektor             flektor             /company/flektor   \n",
       "2               There               there               /company/there   \n",
       "3             MYWEBBO             mywebbo             /company/mywebbo   \n",
       "4  THE Movie Streamer  the movie streamer  /company/the-movie-streamer   \n",
       "\n",
       "     category_code     status  ... first_milestone_at last_milestone_at  \\\n",
       "0              web  operating  ...         2010-09-05        2013-09-18   \n",
       "1      games_video   acquired  ...                NaN               NaN   \n",
       "2      games_video   acquired  ...         2003-02-01        2011-09-23   \n",
       "3  network_hosting  operating  ...                NaN               NaN   \n",
       "4      games_video  operating  ...                NaN               NaN   \n",
       "\n",
       "  milestones relationships        created_by           created_at  \\\n",
       "0        5.0          17.0  initial-importer  2007-05-25 06:51:27   \n",
       "1        NaN           6.0  initial-importer  2007-05-31 21:11:51   \n",
       "2        4.0          12.0  initial-importer  2007-08-06 23:52:45   \n",
       "3        NaN           NaN               NaN  2008-08-24 16:51:57   \n",
       "4        NaN           NaN               NaN  2008-08-24 17:10:34   \n",
       "\n",
       "            updated_at        lat         lng   ROI  \n",
       "0  2013-04-13 03:29:00  47.606209 -122.332071  15.5  \n",
       "1  2008-05-23 23:23:14  34.021122 -118.396467   NaN  \n",
       "2  2013-11-04 02:09:48  37.562992 -122.325525   NaN  \n",
       "3  2008-09-06 14:19:18        NaN         NaN   NaN  \n",
       "4  2008-09-06 14:19:18        NaN         NaN   NaN  \n",
       "\n",
       "[5 rows x 44 columns]"
      ]
     },
     "execution_count": 23,
     "metadata": {},
     "output_type": "execute_result"
    }
   ],
   "source": [
    "com = pd.read_csv(\"C:/Users/NADA HEGAZY/OneDrive/Desktop/companies.csv\")\n",
    "com.head()"
   ]
  },
  {
   "cell_type": "markdown",
   "id": "78db8edd",
   "metadata": {
    "id": "78db8edd"
   },
   "source": [
    "## EDA:"
   ]
  },
  {
   "cell_type": "code",
   "execution_count": 24,
   "id": "52cc1055",
   "metadata": {
    "colab": {
     "base_uri": "https://localhost:8080/",
     "height": 0
    },
    "id": "52cc1055",
    "outputId": "ff5c7e36-8402-4846-a4b1-681a686f88c1"
   },
   "outputs": [
    {
     "data": {
      "text/html": [
       "<div>\n",
       "<style scoped>\n",
       "    .dataframe tbody tr th:only-of-type {\n",
       "        vertical-align: middle;\n",
       "    }\n",
       "\n",
       "    .dataframe tbody tr th {\n",
       "        vertical-align: top;\n",
       "    }\n",
       "\n",
       "    .dataframe thead th {\n",
       "        text-align: right;\n",
       "    }\n",
       "</style>\n",
       "<table border=\"1\" class=\"dataframe\">\n",
       "  <thead>\n",
       "    <tr style=\"text-align: right;\">\n",
       "      <th></th>\n",
       "      <th>Unnamed: 0.1</th>\n",
       "      <th>entity_id</th>\n",
       "      <th>parent_id</th>\n",
       "      <th>logo_width</th>\n",
       "      <th>logo_height</th>\n",
       "      <th>investment_rounds</th>\n",
       "      <th>invested_companies</th>\n",
       "      <th>funding_rounds</th>\n",
       "      <th>funding_total_usd</th>\n",
       "      <th>milestones</th>\n",
       "      <th>relationships</th>\n",
       "      <th>lat</th>\n",
       "      <th>lng</th>\n",
       "      <th>ROI</th>\n",
       "    </tr>\n",
       "  </thead>\n",
       "  <tbody>\n",
       "    <tr>\n",
       "      <th>count</th>\n",
       "      <td>196553.000000</td>\n",
       "      <td>196553.000000</td>\n",
       "      <td>0.0</td>\n",
       "      <td>110110.000000</td>\n",
       "      <td>110110.000000</td>\n",
       "      <td>2591.000000</td>\n",
       "      <td>2591.000000</td>\n",
       "      <td>31707.000000</td>\n",
       "      <td>2.787400e+04</td>\n",
       "      <td>91699.000000</td>\n",
       "      <td>129667.000000</td>\n",
       "      <td>83852.000000</td>\n",
       "      <td>83852.000000</td>\n",
       "      <td>726.000000</td>\n",
       "    </tr>\n",
       "    <tr>\n",
       "      <th>mean</th>\n",
       "      <td>98276.000000</td>\n",
       "      <td>153006.227333</td>\n",
       "      <td>NaN</td>\n",
       "      <td>459.132685</td>\n",
       "      <td>222.728917</td>\n",
       "      <td>2.372057</td>\n",
       "      <td>2.204940</td>\n",
       "      <td>1.659760</td>\n",
       "      <td>1.481652e+07</td>\n",
       "      <td>1.199402</td>\n",
       "      <td>2.852067</td>\n",
       "      <td>37.564512</td>\n",
       "      <td>-52.123066</td>\n",
       "      <td>45.745037</td>\n",
       "    </tr>\n",
       "    <tr>\n",
       "      <th>std</th>\n",
       "      <td>56740.108067</td>\n",
       "      <td>90209.250941</td>\n",
       "      <td>NaN</td>\n",
       "      <td>594.982577</td>\n",
       "      <td>333.090722</td>\n",
       "      <td>12.173510</td>\n",
       "      <td>11.436955</td>\n",
       "      <td>1.201666</td>\n",
       "      <td>6.775937e+07</td>\n",
       "      <td>0.540099</td>\n",
       "      <td>9.100309</td>\n",
       "      <td>15.477102</td>\n",
       "      <td>70.049067</td>\n",
       "      <td>572.035638</td>\n",
       "    </tr>\n",
       "    <tr>\n",
       "      <th>min</th>\n",
       "      <td>0.000000</td>\n",
       "      <td>1.000000</td>\n",
       "      <td>NaN</td>\n",
       "      <td>1.000000</td>\n",
       "      <td>1.000000</td>\n",
       "      <td>1.000000</td>\n",
       "      <td>1.000000</td>\n",
       "      <td>1.000000</td>\n",
       "      <td>2.910000e+02</td>\n",
       "      <td>1.000000</td>\n",
       "      <td>1.000000</td>\n",
       "      <td>-50.942326</td>\n",
       "      <td>-159.497746</td>\n",
       "      <td>0.011111</td>\n",
       "    </tr>\n",
       "    <tr>\n",
       "      <th>25%</th>\n",
       "      <td>49138.000000</td>\n",
       "      <td>59850.000000</td>\n",
       "      <td>NaN</td>\n",
       "      <td>192.000000</td>\n",
       "      <td>70.000000</td>\n",
       "      <td>1.000000</td>\n",
       "      <td>1.000000</td>\n",
       "      <td>1.000000</td>\n",
       "      <td>5.000000e+05</td>\n",
       "      <td>1.000000</td>\n",
       "      <td>1.000000</td>\n",
       "      <td>34.052234</td>\n",
       "      <td>-111.940005</td>\n",
       "      <td>2.648879</td>\n",
       "    </tr>\n",
       "    <tr>\n",
       "      <th>50%</th>\n",
       "      <td>98276.000000</td>\n",
       "      <td>174539.000000</td>\n",
       "      <td>NaN</td>\n",
       "      <td>267.000000</td>\n",
       "      <td>105.000000</td>\n",
       "      <td>1.000000</td>\n",
       "      <td>1.000000</td>\n",
       "      <td>1.000000</td>\n",
       "      <td>2.564500e+06</td>\n",
       "      <td>1.000000</td>\n",
       "      <td>1.000000</td>\n",
       "      <td>39.768403</td>\n",
       "      <td>-77.036871</td>\n",
       "      <td>6.500497</td>\n",
       "    </tr>\n",
       "    <tr>\n",
       "      <th>75%</th>\n",
       "      <td>147414.000000</td>\n",
       "      <td>232655.000000</td>\n",
       "      <td>NaN</td>\n",
       "      <td>484.000000</td>\n",
       "      <td>232.000000</td>\n",
       "      <td>1.000000</td>\n",
       "      <td>1.000000</td>\n",
       "      <td>2.000000</td>\n",
       "      <td>1.100000e+07</td>\n",
       "      <td>1.000000</td>\n",
       "      <td>3.000000</td>\n",
       "      <td>45.421530</td>\n",
       "      <td>-0.127758</td>\n",
       "      <td>13.549900</td>\n",
       "    </tr>\n",
       "    <tr>\n",
       "      <th>max</th>\n",
       "      <td>196552.000000</td>\n",
       "      <td>286215.000000</td>\n",
       "      <td>NaN</td>\n",
       "      <td>18200.000000</td>\n",
       "      <td>9600.000000</td>\n",
       "      <td>478.000000</td>\n",
       "      <td>459.000000</td>\n",
       "      <td>15.000000</td>\n",
       "      <td>5.700000e+09</td>\n",
       "      <td>9.000000</td>\n",
       "      <td>1189.000000</td>\n",
       "      <td>77.553604</td>\n",
       "      <td>176.212549</td>\n",
       "      <td>13333.333333</td>\n",
       "    </tr>\n",
       "  </tbody>\n",
       "</table>\n",
       "</div>"
      ],
      "text/plain": [
       "        Unnamed: 0.1      entity_id  parent_id     logo_width    logo_height  \\\n",
       "count  196553.000000  196553.000000        0.0  110110.000000  110110.000000   \n",
       "mean    98276.000000  153006.227333        NaN     459.132685     222.728917   \n",
       "std     56740.108067   90209.250941        NaN     594.982577     333.090722   \n",
       "min         0.000000       1.000000        NaN       1.000000       1.000000   \n",
       "25%     49138.000000   59850.000000        NaN     192.000000      70.000000   \n",
       "50%     98276.000000  174539.000000        NaN     267.000000     105.000000   \n",
       "75%    147414.000000  232655.000000        NaN     484.000000     232.000000   \n",
       "max    196552.000000  286215.000000        NaN   18200.000000    9600.000000   \n",
       "\n",
       "       investment_rounds  invested_companies  funding_rounds  \\\n",
       "count        2591.000000         2591.000000    31707.000000   \n",
       "mean            2.372057            2.204940        1.659760   \n",
       "std            12.173510           11.436955        1.201666   \n",
       "min             1.000000            1.000000        1.000000   \n",
       "25%             1.000000            1.000000        1.000000   \n",
       "50%             1.000000            1.000000        1.000000   \n",
       "75%             1.000000            1.000000        2.000000   \n",
       "max           478.000000          459.000000       15.000000   \n",
       "\n",
       "       funding_total_usd    milestones  relationships           lat  \\\n",
       "count       2.787400e+04  91699.000000  129667.000000  83852.000000   \n",
       "mean        1.481652e+07      1.199402       2.852067     37.564512   \n",
       "std         6.775937e+07      0.540099       9.100309     15.477102   \n",
       "min         2.910000e+02      1.000000       1.000000    -50.942326   \n",
       "25%         5.000000e+05      1.000000       1.000000     34.052234   \n",
       "50%         2.564500e+06      1.000000       1.000000     39.768403   \n",
       "75%         1.100000e+07      1.000000       3.000000     45.421530   \n",
       "max         5.700000e+09      9.000000    1189.000000     77.553604   \n",
       "\n",
       "                lng           ROI  \n",
       "count  83852.000000    726.000000  \n",
       "mean     -52.123066     45.745037  \n",
       "std       70.049067    572.035638  \n",
       "min     -159.497746      0.011111  \n",
       "25%     -111.940005      2.648879  \n",
       "50%      -77.036871      6.500497  \n",
       "75%       -0.127758     13.549900  \n",
       "max      176.212549  13333.333333  "
      ]
     },
     "execution_count": 24,
     "metadata": {},
     "output_type": "execute_result"
    }
   ],
   "source": [
    "com.describe()"
   ]
  },
  {
   "cell_type": "markdown",
   "id": "15907afb",
   "metadata": {
    "id": "15907afb"
   },
   "source": [
    "Short description of our dataset, this will give us the short summary of dataset it gives the \n",
    "- counts \n",
    "- mean \n",
    "- standard deviation\n",
    "- minimum\n",
    "- 1st quantile\n",
    "- 2nd quantile\n",
    "- 3rd quantile \n",
    "- maximum value of each columns."
   ]
  },
  {
   "cell_type": "code",
   "execution_count": 25,
   "id": "30ae0838",
   "metadata": {
    "colab": {
     "base_uri": "https://localhost:8080/"
    },
    "id": "30ae0838",
    "outputId": "ce9a1050-1617-4414-be22-1347c59c9471"
   },
   "outputs": [
    {
     "name": "stdout",
     "output_type": "stream",
     "text": [
      "<class 'pandas.core.frame.DataFrame'>\n",
      "RangeIndex: 196553 entries, 0 to 196552\n",
      "Data columns (total 44 columns):\n",
      " #   Column               Non-Null Count   Dtype  \n",
      "---  ------               --------------   -----  \n",
      " 0   id                   196553 non-null  object \n",
      " 1   Unnamed: 0.1         196553 non-null  int64  \n",
      " 2   entity_type          196553 non-null  object \n",
      " 3   entity_id            196553 non-null  int64  \n",
      " 4   parent_id            0 non-null       float64\n",
      " 5   name                 196531 non-null  object \n",
      " 6   normalized_name      196527 non-null  object \n",
      " 7   permalink            196553 non-null  object \n",
      " 8   category_code        123186 non-null  object \n",
      " 9   status               196553 non-null  object \n",
      " 10  founded_at           91227 non-null   object \n",
      " 11  closed_at            2620 non-null    object \n",
      " 12  domain               126545 non-null  object \n",
      " 13  homepage_url         126545 non-null  object \n",
      " 14  twitter_username     80591 non-null   object \n",
      " 15  logo_url             110110 non-null  object \n",
      " 16  logo_width           110110 non-null  float64\n",
      " 17  logo_height          110110 non-null  float64\n",
      " 18  short_description    7131 non-null    object \n",
      " 19  description          92048 non-null   object \n",
      " 20  overview             126971 non-null  object \n",
      " 21  tag_list             81452 non-null   object \n",
      " 22  country_code         87990 non-null   object \n",
      " 23  state_code           50903 non-null   object \n",
      " 24  city                 83890 non-null   object \n",
      " 25  region               196553 non-null  object \n",
      " 26  first_investment_at  2583 non-null    object \n",
      " 27  last_investment_at   2583 non-null    object \n",
      " 28  investment_rounds    2591 non-null    float64\n",
      " 29  invested_companies   2591 non-null    float64\n",
      " 30  first_funding_at     31507 non-null   object \n",
      " 31  last_funding_at      31507 non-null   object \n",
      " 32  funding_rounds       31707 non-null   float64\n",
      " 33  funding_total_usd    27874 non-null   float64\n",
      " 34  first_milestone_at   91699 non-null   object \n",
      " 35  last_milestone_at    91699 non-null   object \n",
      " 36  milestones           91699 non-null   float64\n",
      " 37  relationships        129667 non-null  float64\n",
      " 38  created_by           155533 non-null  object \n",
      " 39  created_at           196553 non-null  object \n",
      " 40  updated_at           196553 non-null  object \n",
      " 41  lat                  83852 non-null   float64\n",
      " 42  lng                  83852 non-null   float64\n",
      " 43  ROI                  726 non-null     float64\n",
      "dtypes: float64(12), int64(2), object(30)\n",
      "memory usage: 66.0+ MB\n"
     ]
    }
   ],
   "source": [
    "com.info()"
   ]
  },
  {
   "cell_type": "markdown",
   "id": "2e732580",
   "metadata": {
    "id": "2e732580"
   },
   "source": [
    "Information about the dataset.\n",
    "- RangeIndex : 0 - 196552\n",
    "- columns : 44\n",
    "- dtypes : float(12), int(2), object(30)"
   ]
  },
  {
   "cell_type": "code",
   "execution_count": 26,
   "id": "acd36a82",
   "metadata": {
    "colab": {
     "base_uri": "https://localhost:8080/"
    },
    "id": "acd36a82",
    "outputId": "6845a092-e1e4-40ad-91ec-f1bcfd3c53db"
   },
   "outputs": [
    {
     "data": {
      "text/plain": [
       "id                          0\n",
       "Unnamed: 0.1                0\n",
       "entity_type                 0\n",
       "entity_id                   0\n",
       "parent_id              196553\n",
       "name                       22\n",
       "normalized_name            26\n",
       "permalink                   0\n",
       "category_code           73367\n",
       "status                      0\n",
       "founded_at             105326\n",
       "closed_at              193933\n",
       "domain                  70008\n",
       "homepage_url            70008\n",
       "twitter_username       115962\n",
       "logo_url                86443\n",
       "logo_width              86443\n",
       "logo_height             86443\n",
       "short_description      189422\n",
       "description            104505\n",
       "overview                69582\n",
       "tag_list               115101\n",
       "country_code           108563\n",
       "state_code             145650\n",
       "city                   112663\n",
       "region                      0\n",
       "first_investment_at    193970\n",
       "last_investment_at     193970\n",
       "investment_rounds      193962\n",
       "invested_companies     193962\n",
       "first_funding_at       165046\n",
       "last_funding_at        165046\n",
       "funding_rounds         164846\n",
       "funding_total_usd      168679\n",
       "first_milestone_at     104854\n",
       "last_milestone_at      104854\n",
       "milestones             104854\n",
       "relationships           66886\n",
       "created_by              41020\n",
       "created_at                  0\n",
       "updated_at                  0\n",
       "lat                    112701\n",
       "lng                    112701\n",
       "ROI                    195827\n",
       "dtype: int64"
      ]
     },
     "execution_count": 26,
     "metadata": {},
     "output_type": "execute_result"
    }
   ],
   "source": [
    "com.isna().sum()"
   ]
  },
  {
   "cell_type": "markdown",
   "id": "e4850699",
   "metadata": {
    "id": "e4850699"
   },
   "source": [
    "There are so many null values present in our dataset, there are only 9 columns with 0 null values and some of the columns are of completely null values or empty columns, also some of the columns only have few entries.\n",
    "So, going to drop all those unnecessary columns with all the null values and will not required in further analysis."
   ]
  },
  {
   "cell_type": "markdown",
   "id": "4bf0b411",
   "metadata": {
    "id": "4bf0b411"
   },
   "source": [
    "## Data Cleaning."
   ]
  },
  {
   "cell_type": "code",
   "execution_count": 27,
   "id": "5c6889bb",
   "metadata": {
    "colab": {
     "base_uri": "https://localhost:8080/",
     "height": 0
    },
    "id": "5c6889bb",
    "outputId": "64b16d8e-b1d5-4e34-dd6c-b00a26252153",
    "scrolled": true
   },
   "outputs": [
    {
     "data": {
      "text/html": [
       "<div>\n",
       "<style scoped>\n",
       "    .dataframe tbody tr th:only-of-type {\n",
       "        vertical-align: middle;\n",
       "    }\n",
       "\n",
       "    .dataframe tbody tr th {\n",
       "        vertical-align: top;\n",
       "    }\n",
       "\n",
       "    .dataframe thead th {\n",
       "        text-align: right;\n",
       "    }\n",
       "</style>\n",
       "<table border=\"1\" class=\"dataframe\">\n",
       "  <thead>\n",
       "    <tr style=\"text-align: right;\">\n",
       "      <th></th>\n",
       "      <th>entity_id</th>\n",
       "      <th>name</th>\n",
       "      <th>category_code</th>\n",
       "      <th>status</th>\n",
       "      <th>founded_at</th>\n",
       "      <th>closed_at</th>\n",
       "      <th>country_code</th>\n",
       "      <th>investment_rounds</th>\n",
       "      <th>invested_companies</th>\n",
       "      <th>funding_rounds</th>\n",
       "      <th>funding_total_usd</th>\n",
       "      <th>milestones</th>\n",
       "      <th>relationships</th>\n",
       "      <th>created_at</th>\n",
       "      <th>updated_at</th>\n",
       "      <th>ROI</th>\n",
       "    </tr>\n",
       "  </thead>\n",
       "  <tbody>\n",
       "    <tr>\n",
       "      <th>0</th>\n",
       "      <td>1</td>\n",
       "      <td>Wetpaint</td>\n",
       "      <td>web</td>\n",
       "      <td>operating</td>\n",
       "      <td>2005-10-17</td>\n",
       "      <td>NaN</td>\n",
       "      <td>USA</td>\n",
       "      <td>NaN</td>\n",
       "      <td>NaN</td>\n",
       "      <td>3.0</td>\n",
       "      <td>39750000.0</td>\n",
       "      <td>5.0</td>\n",
       "      <td>17.0</td>\n",
       "      <td>2007-05-25 06:51:27</td>\n",
       "      <td>2013-04-13 03:29:00</td>\n",
       "      <td>15.5</td>\n",
       "    </tr>\n",
       "    <tr>\n",
       "      <th>1</th>\n",
       "      <td>10</td>\n",
       "      <td>Flektor</td>\n",
       "      <td>games_video</td>\n",
       "      <td>acquired</td>\n",
       "      <td>NaN</td>\n",
       "      <td>NaN</td>\n",
       "      <td>USA</td>\n",
       "      <td>NaN</td>\n",
       "      <td>NaN</td>\n",
       "      <td>NaN</td>\n",
       "      <td>NaN</td>\n",
       "      <td>NaN</td>\n",
       "      <td>6.0</td>\n",
       "      <td>2007-05-31 21:11:51</td>\n",
       "      <td>2008-05-23 23:23:14</td>\n",
       "      <td>NaN</td>\n",
       "    </tr>\n",
       "    <tr>\n",
       "      <th>2</th>\n",
       "      <td>100</td>\n",
       "      <td>There</td>\n",
       "      <td>games_video</td>\n",
       "      <td>acquired</td>\n",
       "      <td>NaN</td>\n",
       "      <td>NaN</td>\n",
       "      <td>USA</td>\n",
       "      <td>NaN</td>\n",
       "      <td>NaN</td>\n",
       "      <td>NaN</td>\n",
       "      <td>NaN</td>\n",
       "      <td>4.0</td>\n",
       "      <td>12.0</td>\n",
       "      <td>2007-08-06 23:52:45</td>\n",
       "      <td>2013-11-04 02:09:48</td>\n",
       "      <td>NaN</td>\n",
       "    </tr>\n",
       "    <tr>\n",
       "      <th>3</th>\n",
       "      <td>10000</td>\n",
       "      <td>MYWEBBO</td>\n",
       "      <td>network_hosting</td>\n",
       "      <td>operating</td>\n",
       "      <td>2008-07-26</td>\n",
       "      <td>NaN</td>\n",
       "      <td>NaN</td>\n",
       "      <td>NaN</td>\n",
       "      <td>NaN</td>\n",
       "      <td>NaN</td>\n",
       "      <td>NaN</td>\n",
       "      <td>NaN</td>\n",
       "      <td>NaN</td>\n",
       "      <td>2008-08-24 16:51:57</td>\n",
       "      <td>2008-09-06 14:19:18</td>\n",
       "      <td>NaN</td>\n",
       "    </tr>\n",
       "    <tr>\n",
       "      <th>4</th>\n",
       "      <td>10001</td>\n",
       "      <td>THE Movie Streamer</td>\n",
       "      <td>games_video</td>\n",
       "      <td>operating</td>\n",
       "      <td>2008-07-26</td>\n",
       "      <td>NaN</td>\n",
       "      <td>NaN</td>\n",
       "      <td>NaN</td>\n",
       "      <td>NaN</td>\n",
       "      <td>NaN</td>\n",
       "      <td>NaN</td>\n",
       "      <td>NaN</td>\n",
       "      <td>NaN</td>\n",
       "      <td>2008-08-24 17:10:34</td>\n",
       "      <td>2008-09-06 14:19:18</td>\n",
       "      <td>NaN</td>\n",
       "    </tr>\n",
       "  </tbody>\n",
       "</table>\n",
       "</div>"
      ],
      "text/plain": [
       "   entity_id                name    category_code     status  founded_at  \\\n",
       "0          1            Wetpaint              web  operating  2005-10-17   \n",
       "1         10             Flektor      games_video   acquired         NaN   \n",
       "2        100               There      games_video   acquired         NaN   \n",
       "3      10000             MYWEBBO  network_hosting  operating  2008-07-26   \n",
       "4      10001  THE Movie Streamer      games_video  operating  2008-07-26   \n",
       "\n",
       "  closed_at country_code  investment_rounds  invested_companies  \\\n",
       "0       NaN          USA                NaN                 NaN   \n",
       "1       NaN          USA                NaN                 NaN   \n",
       "2       NaN          USA                NaN                 NaN   \n",
       "3       NaN          NaN                NaN                 NaN   \n",
       "4       NaN          NaN                NaN                 NaN   \n",
       "\n",
       "   funding_rounds  funding_total_usd  milestones  relationships  \\\n",
       "0             3.0         39750000.0         5.0           17.0   \n",
       "1             NaN                NaN         NaN            6.0   \n",
       "2             NaN                NaN         4.0           12.0   \n",
       "3             NaN                NaN         NaN            NaN   \n",
       "4             NaN                NaN         NaN            NaN   \n",
       "\n",
       "            created_at           updated_at   ROI  \n",
       "0  2007-05-25 06:51:27  2013-04-13 03:29:00  15.5  \n",
       "1  2007-05-31 21:11:51  2008-05-23 23:23:14   NaN  \n",
       "2  2007-08-06 23:52:45  2013-11-04 02:09:48   NaN  \n",
       "3  2008-08-24 16:51:57  2008-09-06 14:19:18   NaN  \n",
       "4  2008-08-24 17:10:34  2008-09-06 14:19:18   NaN  "
      ]
     },
     "execution_count": 27,
     "metadata": {},
     "output_type": "execute_result"
    }
   ],
   "source": [
    "data = com.drop(columns = ['id','entity_type','permalink','region','created_by','Unnamed: 0.1','normalized_name','parent_id','domain','homepage_url','logo_url','logo_width','logo_height','overview','short_description','twitter_username','short_description','description','tag_list','state_code','city','first_investment_at', 'last_investment_at','first_milestone_at','last_milestone_at',  'first_funding_at','last_funding_at','lat','lng'])\n",
    "data.head()"
   ]
  },
  {
   "cell_type": "markdown",
   "id": "7ad6ed75",
   "metadata": {
    "id": "7ad6ed75"
   },
   "source": [
    "**- Droping the unwanted columns:**"
   ]
  },
  {
   "cell_type": "markdown",
   "id": "853f0e19",
   "metadata": {
    "id": "853f0e19"
   },
   "source": [
    "'id','Unnamed:0.1','normalized_name','parent_id','domain','homepage_url','logo_url','logo_width','logo_height','overview',\n",
    "'short_description','twitter_username','description','tag_list','country_code','state_code','city','first_investment_at','last_investment_at','first_milestone_at',\n",
    "'last_milestone_at','first_funding_at','last_funding_at','lat','lng'\n",
    "- Dropping all these columns because\n",
    " - Some columns are empty.\n",
    " - Unwanted object columns.\n",
    " - 70% of Null values present in the columns.\n",
    " - Empty columns.\n",
    " - Unnecessary columns."
   ]
  },
  {
   "cell_type": "markdown",
   "id": "65482a4e",
   "metadata": {
    "id": "65482a4e"
   },
   "source": [
    "## Dropping Null rows:"
   ]
  },
  {
   "cell_type": "code",
   "execution_count": 28,
   "id": "8111fb27",
   "metadata": {
    "colab": {
     "base_uri": "https://localhost:8080/"
    },
    "id": "8111fb27",
    "outputId": "8ef8e8ce-a655-4330-a58b-ba7b05b59a61"
   },
   "outputs": [
    {
     "data": {
      "text/plain": [
       "(64094, 16)"
      ]
     },
     "execution_count": 28,
     "metadata": {},
     "output_type": "execute_result"
    }
   ],
   "source": [
    "data.dropna(subset= ['name','country_code','category_code','founded_at'],inplace = True)\n",
    "data.shape"
   ]
  },
  {
   "cell_type": "markdown",
   "id": "d32dc0c9",
   "metadata": {
    "id": "d32dc0c9"
   },
   "source": [
    "## Filling the missing values"
   ]
  },
  {
   "cell_type": "markdown",
   "id": "431c93ca",
   "metadata": {
    "id": "431c93ca"
   },
   "source": [
    "**- Filling the Investment Rounds columns with the median() method, as rounds cannot be in float datatype**"
   ]
  },
  {
   "cell_type": "code",
   "execution_count": 29,
   "id": "d9942e70",
   "metadata": {
    "id": "d9942e70"
   },
   "outputs": [],
   "source": [
    "data['investment_rounds'] = data['investment_rounds'].fillna(data['investment_rounds'].median())"
   ]
  },
  {
   "cell_type": "markdown",
   "id": "03e3669f",
   "metadata": {
    "id": "03e3669f"
   },
   "source": [
    "**- Filling the Invested Companies columns with the median() method, as in our dataset the Invested Companies data is in integer so it cannot be in float datatype**"
   ]
  },
  {
   "cell_type": "code",
   "execution_count": 30,
   "id": "932e322d",
   "metadata": {
    "id": "932e322d"
   },
   "outputs": [],
   "source": [
    "data['invested_companies'] = data['invested_companies'].fillna(data['invested_companies'].median())"
   ]
  },
  {
   "cell_type": "markdown",
   "id": "b09930fc",
   "metadata": {
    "id": "b09930fc"
   },
   "source": [
    "**- Filling the Funding Rounds columns with the median() method, as in our dataset the Funding Rounds data is in integer so it cannot be in float datatype.**"
   ]
  },
  {
   "cell_type": "code",
   "execution_count": 31,
   "id": "55db22b0",
   "metadata": {
    "id": "55db22b0"
   },
   "outputs": [],
   "source": [
    "data['funding_rounds'] = data['funding_rounds'].fillna(data['funding_rounds'].median())"
   ]
  },
  {
   "cell_type": "markdown",
   "id": "a37725c6",
   "metadata": {
    "id": "a37725c6"
   },
   "source": [
    "**- Filling the Funding Total USD columns with the mean() method, as in Funding Total USD is an int type and can be float data.**"
   ]
  },
  {
   "cell_type": "code",
   "execution_count": 32,
   "id": "537bc2a0",
   "metadata": {
    "id": "537bc2a0"
   },
   "outputs": [],
   "source": [
    "data['funding_total_usd'] = data['funding_total_usd'].fillna(data['funding_total_usd'].mean())"
   ]
  },
  {
   "cell_type": "markdown",
   "id": "813eb888",
   "metadata": {
    "id": "813eb888"
   },
   "source": [
    "**- Filling the Milestones columns with the mode() method.**"
   ]
  },
  {
   "cell_type": "code",
   "execution_count": 33,
   "id": "86e64ca0",
   "metadata": {
    "id": "86e64ca0"
   },
   "outputs": [],
   "source": [
    "data['milestones'] = data['milestones'].fillna(data['milestones'].mode()[0])"
   ]
  },
  {
   "cell_type": "markdown",
   "id": "ec9b8b06",
   "metadata": {
    "id": "ec9b8b06"
   },
   "source": [
    "**- Filling the Relationships columns with the mean() method.**"
   ]
  },
  {
   "cell_type": "code",
   "execution_count": 34,
   "id": "27659c40",
   "metadata": {
    "id": "27659c40"
   },
   "outputs": [],
   "source": [
    "data['relationships'] = data['relationships'].fillna(data['relationships'].mean())"
   ]
  },
  {
   "cell_type": "markdown",
   "id": "72592a85",
   "metadata": {
    "id": "72592a85"
   },
   "source": [
    "**- Filling the ROI columns with the mean() method.**"
   ]
  },
  {
   "cell_type": "code",
   "execution_count": 35,
   "id": "8894a535",
   "metadata": {
    "id": "8894a535"
   },
   "outputs": [],
   "source": [
    "data['ROI'] = data['ROI'].fillna(data['ROI'].mean())"
   ]
  },
  {
   "cell_type": "markdown",
   "id": "f8433abc",
   "metadata": {
    "id": "f8433abc"
   },
   "source": [
    "## Datetime columns :"
   ]
  },
  {
   "cell_type": "markdown",
   "id": "9200b8a6",
   "metadata": {
    "id": "9200b8a6"
   },
   "source": [
    "**- Converting the dtype to datetime.**"
   ]
  },
  {
   "cell_type": "code",
   "execution_count": 36,
   "id": "833a6c9d",
   "metadata": {
    "id": "833a6c9d"
   },
   "outputs": [],
   "source": [
    "data['founded_at'] = pd.to_datetime(data['founded_at'])\n",
    "data['founded_at'] = data['founded_at'].dt.year"
   ]
  },
  {
   "cell_type": "markdown",
   "id": "b4b1bcc4",
   "metadata": {
    "id": "b4b1bcc4"
   },
   "source": [
    "**- Filling the null values with mode()**"
   ]
  },
  {
   "cell_type": "code",
   "execution_count": 37,
   "id": "9e163997",
   "metadata": {
    "id": "9e163997"
   },
   "outputs": [],
   "source": [
    "data['founded_at'] = data['founded_at'].fillna(data['founded_at'].mode()[0])"
   ]
  },
  {
   "cell_type": "markdown",
   "id": "6ebc70f5",
   "metadata": {
    "id": "6ebc70f5"
   },
   "source": [
    "**- Converting the dtype to datetime.**"
   ]
  },
  {
   "cell_type": "code",
   "execution_count": 38,
   "id": "d9f54f43",
   "metadata": {
    "id": "d9f54f43"
   },
   "outputs": [],
   "source": [
    "data['closed_at'] = pd.to_datetime(data['closed_at'])\n",
    "data['closed_at'] = data['closed_at'].dt.year"
   ]
  },
  {
   "cell_type": "markdown",
   "id": "4573eff8",
   "metadata": {
    "id": "4573eff8"
   },
   "source": [
    "**- Filling the closed_at column with some condition.**\n",
    "- If Status is operating or ipo, fillna with 2021\n",
    "- If Status is accquired or closed, fillna with mode()"
   ]
  },
  {
   "cell_type": "code",
   "execution_count": 39,
   "id": "ae70f83c",
   "metadata": {
    "id": "ae70f83c"
   },
   "outputs": [],
   "source": [
    "for i in data['status']:\n",
    "    if (i == 'operating' or 'ipo'):\n",
    "        data['closed_at'].fillna(2021,inplace = True)\n",
    "    elif (i == 'accquired' or 'closed'):\n",
    "        data['closed_at'].fillna(2012, inplace = True)"
   ]
  },
  {
   "cell_type": "markdown",
   "id": "d25f32d0",
   "metadata": {
    "id": "d25f32d0"
   },
   "source": [
    "## Updateing the Date columns and taking only the year from it."
   ]
  },
  {
   "cell_type": "code",
   "execution_count": 40,
   "id": "f9701935",
   "metadata": {
    "id": "f9701935"
   },
   "outputs": [],
   "source": [
    "created = []\n",
    "for i in data['created_at']:\n",
    "    created.append(i.split('-')[0])\n",
    "data['created_at']= created"
   ]
  },
  {
   "cell_type": "code",
   "execution_count": 41,
   "id": "fa280c31",
   "metadata": {
    "id": "fa280c31"
   },
   "outputs": [],
   "source": [
    "created = []\n",
    "for i in data['updated_at']:\n",
    "    created.append(int(i.split('-')[0]))\n",
    "data['updated_at']= created"
   ]
  },
  {
   "cell_type": "markdown",
   "id": "f97171a4",
   "metadata": {
    "id": "f97171a4"
   },
   "source": [
    "## Adding new updated columns :"
   ]
  },
  {
   "cell_type": "markdown",
   "id": "b7a67446",
   "metadata": {
    "id": "b7a67446"
   },
   "source": [
    "**-Adding Companies Age(in years), by subtracting founded at from closed at columns.**"
   ]
  },
  {
   "cell_type": "code",
   "execution_count": 42,
   "id": "87d29266",
   "metadata": {
    "id": "87d29266"
   },
   "outputs": [],
   "source": [
    "data['companies_age'] = data['closed_at'] - data['founded_at']"
   ]
  },
  {
   "cell_type": "markdown",
   "id": "edbc45e0",
   "metadata": {
    "id": "edbc45e0"
   },
   "source": [
    "**- After substraction, some of the entries will be negative value, so will remove negative value.**"
   ]
  },
  {
   "cell_type": "code",
   "execution_count": 43,
   "id": "d7a5f900",
   "metadata": {
    "id": "d7a5f900"
   },
   "outputs": [],
   "source": [
    "index = np.where(data['companies_age'] < 0)\n",
    "data['companies_age'] = data['companies_age'].drop(data['companies_age'].index[index])"
   ]
  },
  {
   "cell_type": "code",
   "execution_count": 44,
   "id": "d9cbd8f8",
   "metadata": {
    "id": "d9cbd8f8"
   },
   "outputs": [],
   "source": [
    "data['companies_age'] = data['companies_age'].fillna(0)"
   ]
  },
  {
   "cell_type": "code",
   "execution_count": 45,
   "id": "a964b993",
   "metadata": {
    "colab": {
     "base_uri": "https://localhost:8080/",
     "height": 0
    },
    "id": "a964b993",
    "outputId": "5eaecd7b-45a6-4113-fb3f-d2019bf17c28"
   },
   "outputs": [
    {
     "data": {
      "text/html": [
       "<div>\n",
       "<style scoped>\n",
       "    .dataframe tbody tr th:only-of-type {\n",
       "        vertical-align: middle;\n",
       "    }\n",
       "\n",
       "    .dataframe tbody tr th {\n",
       "        vertical-align: top;\n",
       "    }\n",
       "\n",
       "    .dataframe thead th {\n",
       "        text-align: right;\n",
       "    }\n",
       "</style>\n",
       "<table border=\"1\" class=\"dataframe\">\n",
       "  <thead>\n",
       "    <tr style=\"text-align: right;\">\n",
       "      <th></th>\n",
       "      <th>entity_id</th>\n",
       "      <th>name</th>\n",
       "      <th>category_code</th>\n",
       "      <th>status</th>\n",
       "      <th>founded_at</th>\n",
       "      <th>closed_at</th>\n",
       "      <th>country_code</th>\n",
       "      <th>investment_rounds</th>\n",
       "      <th>invested_companies</th>\n",
       "      <th>funding_rounds</th>\n",
       "      <th>funding_total_usd</th>\n",
       "      <th>milestones</th>\n",
       "      <th>relationships</th>\n",
       "      <th>created_at</th>\n",
       "      <th>updated_at</th>\n",
       "      <th>ROI</th>\n",
       "      <th>companies_age</th>\n",
       "    </tr>\n",
       "  </thead>\n",
       "  <tbody>\n",
       "    <tr>\n",
       "      <th>0</th>\n",
       "      <td>1</td>\n",
       "      <td>Wetpaint</td>\n",
       "      <td>web</td>\n",
       "      <td>operating</td>\n",
       "      <td>2005</td>\n",
       "      <td>2021.0</td>\n",
       "      <td>USA</td>\n",
       "      <td>1.0</td>\n",
       "      <td>1.0</td>\n",
       "      <td>3.0</td>\n",
       "      <td>3.975000e+07</td>\n",
       "      <td>5.0</td>\n",
       "      <td>17.00000</td>\n",
       "      <td>2007</td>\n",
       "      <td>2013</td>\n",
       "      <td>15.50000</td>\n",
       "      <td>16.0</td>\n",
       "    </tr>\n",
       "    <tr>\n",
       "      <th>5</th>\n",
       "      <td>10002</td>\n",
       "      <td>Synergie Media</td>\n",
       "      <td>advertising</td>\n",
       "      <td>operating</td>\n",
       "      <td>2007</td>\n",
       "      <td>2021.0</td>\n",
       "      <td>MAR</td>\n",
       "      <td>1.0</td>\n",
       "      <td>1.0</td>\n",
       "      <td>1.0</td>\n",
       "      <td>1.581978e+07</td>\n",
       "      <td>1.0</td>\n",
       "      <td>2.00000</td>\n",
       "      <td>2008</td>\n",
       "      <td>2008</td>\n",
       "      <td>14.41045</td>\n",
       "      <td>14.0</td>\n",
       "    </tr>\n",
       "    <tr>\n",
       "      <th>6</th>\n",
       "      <td>10003</td>\n",
       "      <td>Green Basti Ecosystems</td>\n",
       "      <td>cleantech</td>\n",
       "      <td>operating</td>\n",
       "      <td>2008</td>\n",
       "      <td>2021.0</td>\n",
       "      <td>IND</td>\n",
       "      <td>1.0</td>\n",
       "      <td>1.0</td>\n",
       "      <td>1.0</td>\n",
       "      <td>1.581978e+07</td>\n",
       "      <td>1.0</td>\n",
       "      <td>4.43465</td>\n",
       "      <td>2008</td>\n",
       "      <td>2010</td>\n",
       "      <td>14.41045</td>\n",
       "      <td>13.0</td>\n",
       "    </tr>\n",
       "    <tr>\n",
       "      <th>12</th>\n",
       "      <td>10009</td>\n",
       "      <td>dimension5 labs</td>\n",
       "      <td>advertising</td>\n",
       "      <td>operating</td>\n",
       "      <td>2008</td>\n",
       "      <td>2021.0</td>\n",
       "      <td>USA</td>\n",
       "      <td>1.0</td>\n",
       "      <td>1.0</td>\n",
       "      <td>1.0</td>\n",
       "      <td>1.581978e+07</td>\n",
       "      <td>1.0</td>\n",
       "      <td>2.00000</td>\n",
       "      <td>2008</td>\n",
       "      <td>2008</td>\n",
       "      <td>14.41045</td>\n",
       "      <td>13.0</td>\n",
       "    </tr>\n",
       "    <tr>\n",
       "      <th>13</th>\n",
       "      <td>1001</td>\n",
       "      <td>FriendFeed</td>\n",
       "      <td>web</td>\n",
       "      <td>acquired</td>\n",
       "      <td>2007</td>\n",
       "      <td>2021.0</td>\n",
       "      <td>USA</td>\n",
       "      <td>1.0</td>\n",
       "      <td>1.0</td>\n",
       "      <td>1.0</td>\n",
       "      <td>5.000000e+06</td>\n",
       "      <td>3.0</td>\n",
       "      <td>14.00000</td>\n",
       "      <td>2007</td>\n",
       "      <td>2013</td>\n",
       "      <td>9.50000</td>\n",
       "      <td>14.0</td>\n",
       "    </tr>\n",
       "  </tbody>\n",
       "</table>\n",
       "</div>"
      ],
      "text/plain": [
       "    entity_id                    name category_code     status  founded_at  \\\n",
       "0           1                Wetpaint           web  operating        2005   \n",
       "5       10002          Synergie Media   advertising  operating        2007   \n",
       "6       10003  Green Basti Ecosystems     cleantech  operating        2008   \n",
       "12      10009         dimension5 labs   advertising  operating        2008   \n",
       "13       1001              FriendFeed           web   acquired        2007   \n",
       "\n",
       "    closed_at country_code  investment_rounds  invested_companies  \\\n",
       "0      2021.0          USA                1.0                 1.0   \n",
       "5      2021.0          MAR                1.0                 1.0   \n",
       "6      2021.0          IND                1.0                 1.0   \n",
       "12     2021.0          USA                1.0                 1.0   \n",
       "13     2021.0          USA                1.0                 1.0   \n",
       "\n",
       "    funding_rounds  funding_total_usd  milestones  relationships created_at  \\\n",
       "0              3.0       3.975000e+07         5.0       17.00000       2007   \n",
       "5              1.0       1.581978e+07         1.0        2.00000       2008   \n",
       "6              1.0       1.581978e+07         1.0        4.43465       2008   \n",
       "12             1.0       1.581978e+07         1.0        2.00000       2008   \n",
       "13             1.0       5.000000e+06         3.0       14.00000       2007   \n",
       "\n",
       "    updated_at       ROI  companies_age  \n",
       "0         2013  15.50000           16.0  \n",
       "5         2008  14.41045           14.0  \n",
       "6         2010  14.41045           13.0  \n",
       "12        2008  14.41045           13.0  \n",
       "13        2013   9.50000           14.0  "
      ]
     },
     "execution_count": 45,
     "metadata": {},
     "output_type": "execute_result"
    }
   ],
   "source": [
    "data.head()"
   ]
  },
  {
   "cell_type": "code",
   "execution_count": 46,
   "id": "f9374a30",
   "metadata": {
    "colab": {
     "base_uri": "https://localhost:8080/"
    },
    "id": "f9374a30",
    "outputId": "25b60fd4-d1ac-4e1f-c15b-08a4a6114611"
   },
   "outputs": [
    {
     "data": {
      "text/plain": [
       "entity_id             0\n",
       "name                  0\n",
       "category_code         0\n",
       "status                0\n",
       "founded_at            0\n",
       "closed_at             0\n",
       "country_code          0\n",
       "investment_rounds     0\n",
       "invested_companies    0\n",
       "funding_rounds        0\n",
       "funding_total_usd     0\n",
       "milestones            0\n",
       "relationships         0\n",
       "created_at            0\n",
       "updated_at            0\n",
       "ROI                   0\n",
       "companies_age         0\n",
       "dtype: int64"
      ]
     },
     "execution_count": 46,
     "metadata": {},
     "output_type": "execute_result"
    }
   ],
   "source": [
    "data.isna().sum()"
   ]
  },
  {
   "cell_type": "markdown",
   "id": "efb354f8",
   "metadata": {
    "id": "efb354f8"
   },
   "source": [
    "There are no null values present in our cleaned dataset."
   ]
  },
  {
   "cell_type": "code",
   "execution_count": 47,
   "id": "5ed3721f",
   "metadata": {
    "id": "5ed3721f"
   },
   "outputs": [],
   "source": [
    "data.reset_index(inplace = True)"
   ]
  },
  {
   "cell_type": "markdown",
   "id": "dfac79c4",
   "metadata": {
    "id": "dfac79c4"
   },
   "source": [
    "As dropping null values from dataset, the indexes are distrubted so using reset_index() to reset the index."
   ]
  },
  {
   "cell_type": "markdown",
   "id": "587dcbc2",
   "metadata": {
    "id": "587dcbc2"
   },
   "source": [
    "Final dataset shape is (64094, 18)"
   ]
  },
  {
   "cell_type": "markdown",
   "id": "dd7163be",
   "metadata": {
    "id": "dd7163be"
   },
   "source": [
    "## Correlation :"
   ]
  },
  {
   "cell_type": "markdown",
   "id": "b3f7e914",
   "metadata": {
    "id": "b3f7e914"
   },
   "source": [
    "Correlation between the columns in our dataset using heatmap.\n",
    "- Investment Round and Invested Companies columns are highly correlated columns, and we can drop any of the column further.\n",
    "- Founted at and Companies age columns are also highly correlated columns."
   ]
  },
  {
   "cell_type": "markdown",
   "id": "0a2c822a",
   "metadata": {
    "id": "0a2c822a"
   },
   "source": [
    "## Normal Distribution :"
   ]
  },
  {
   "cell_type": "code",
   "execution_count": 27,
   "id": "c32438f2",
   "metadata": {
    "colab": {
     "base_uri": "https://localhost:8080/",
     "height": 0
    },
    "id": "c32438f2",
    "outputId": "23d02984-a427-4ad6-93dd-d139c5a7a67d",
    "scrolled": true
   },
   "outputs": [
    {
     "data": {
      "image/png": "[encoded data removed]",
      "text/plain": [
       "<Figure size 720x360 with 2 Axes>"
      ]
     },
     "metadata": {
      "needs_background": "light"
     },
     "output_type": "display_data"
    },
    {
     "data": {
      "image/png": "[encoded data removed]",
      "text/plain": [
       "<Figure size 720x360 with 2 Axes>"
      ]
     },
     "metadata": {
      "needs_background": "light"
     },
     "output_type": "display_data"
    },
    {
     "data": {
      "image/png": "[encoded data removed]",
      "text/plain": [
       "<Figure size 720x360 with 2 Axes>"
      ]
     },
     "metadata": {
      "needs_background": "light"
     },
     "output_type": "display_data"
    },
    {
     "data": {
      "image/png": "[encoded data removed]",
      "text/plain": [
       "<Figure size 720x360 with 2 Axes>"
      ]
     },
     "metadata": {
      "needs_background": "light"
     },
     "output_type": "display_data"
    },
    {
     "data": {
      "image/png": "[encoded data removed]",
      "text/plain": [
       "<Figure size 720x360 with 2 Axes>"
      ]
     },
     "metadata": {
      "needs_background": "light"
     },
     "output_type": "display_data"
    },
    {
     "data": {
      "image/png": "[encoded data removed]",
      "text/plain": [
       "<Figure size 720x360 with 2 Axes>"
      ]
     },
     "metadata": {
      "needs_background": "light"
     },
     "output_type": "display_data"
    },
    {
     "data": {
      "image/png": "[encoded data removed]",
      "text/plain": [
       "<Figure size 720x360 with 2 Axes>"
      ]
     },
     "metadata": {
      "needs_background": "light"
     },
     "output_type": "display_data"
    },
    {
     "name": "stdout",
     "output_type": "stream",
     "text": [
      "(64094, 18)\n"
     ]
    }
   ],
   "source": [
    "def check_outliers(x):\n",
    "    global data\n",
    "    fig, axes = plt.subplots(1,2,figsize=(10,5))\n",
    "    sns.distplot(data[x],color='#22b199',ax=axes[0])\n",
    "    sns.boxplot(y=data[x],color='#22b199',ax=axes[1])\n",
    "    axes[0].set_title('Distribution of ' + x)\n",
    "    axes[1].set_title('Box plot of '+ x)\n",
    "    plt.tight_layout()\n",
    "    plt.show()\n",
    "\n",
    "for i in ['investment_rounds','milestones', 'relationships', 'ROI', 'funding_rounds' ,'funding_total_usd','companies_age']:\n",
    "    check_outliers(i)\n",
    "    \n",
    "print(data.shape)"
   ]
  },
  {
   "cell_type": "markdown",
   "id": "1c32a863",
   "metadata": {
    "id": "1c32a863"
   },
   "source": [
    "- Dataset is not normally distributed.\n",
    "- Dataset is very much skewed.\n",
    "- Dataset will also have many outliers."
   ]
  },
  {
   "cell_type": "markdown",
   "id": "8ff99a7c",
   "metadata": {
    "id": "8ff99a7c"
   },
   "source": [
    "## Before Removing Outliers:"
   ]
  },
  {
   "cell_type": "code",
   "execution_count": 28,
   "id": "f369921c",
   "metadata": {
    "colab": {
     "base_uri": "https://localhost:8080/",
     "height": 0
    },
    "id": "f369921c",
    "outputId": "0acae22b-e467-4c26-c7b5-ff1632ef5182",
    "scrolled": false
   },
   "outputs": [
    {
     "data": {
      "text/html": [
       "\n",
       "  <div id=\"df-9a5cc3f7-957f-4264-968b-2ccf6327f2f0\">\n",
       "    <div class=\"colab-df-container\">\n",
       "      <div>\n",
       "<style scoped>\n",
       "    .dataframe tbody tr th:only-of-type {\n",
       "        vertical-align: middle;\n",
       "    }\n",
       "\n",
       "    .dataframe tbody tr th {\n",
       "        vertical-align: top;\n",
       "    }\n",
       "\n",
       "    .dataframe thead th {\n",
       "        text-align: right;\n",
       "    }\n",
       "</style>\n",
       "<table border=\"1\" class=\"dataframe\">\n",
       "  <thead>\n",
       "    <tr style=\"text-align: right;\">\n",
       "      <th></th>\n",
       "      <th>funding_total_usd</th>\n",
       "      <th>funding_rounds</th>\n",
       "    </tr>\n",
       "  </thead>\n",
       "  <tbody>\n",
       "    <tr>\n",
       "      <th>count</th>\n",
       "      <td>6.409400e+04</td>\n",
       "      <td>64094.000000</td>\n",
       "    </tr>\n",
       "    <tr>\n",
       "      <th>mean</th>\n",
       "      <td>1.581978e+07</td>\n",
       "      <td>1.287749</td>\n",
       "    </tr>\n",
       "    <tr>\n",
       "      <th>std</th>\n",
       "      <td>3.950322e+07</td>\n",
       "      <td>0.873294</td>\n",
       "    </tr>\n",
       "    <tr>\n",
       "      <th>min</th>\n",
       "      <td>2.910000e+02</td>\n",
       "      <td>1.000000</td>\n",
       "    </tr>\n",
       "    <tr>\n",
       "      <th>25%</th>\n",
       "      <td>1.500000e+07</td>\n",
       "      <td>1.000000</td>\n",
       "    </tr>\n",
       "    <tr>\n",
       "      <th>50%</th>\n",
       "      <td>1.581978e+07</td>\n",
       "      <td>1.000000</td>\n",
       "    </tr>\n",
       "    <tr>\n",
       "      <th>75%</th>\n",
       "      <td>1.581978e+07</td>\n",
       "      <td>1.000000</td>\n",
       "    </tr>\n",
       "    <tr>\n",
       "      <th>max</th>\n",
       "      <td>5.700000e+09</td>\n",
       "      <td>15.000000</td>\n",
       "    </tr>\n",
       "  </tbody>\n",
       "</table>\n",
       "</div>\n",
       "      <button class=\"colab-df-convert\" onclick=\"convertToInteractive('df-9a5cc3f7-957f-4264-968b-2ccf6327f2f0')\"\n",
       "              title=\"Convert this dataframe to an interactive table.\"\n",
       "              style=\"display:none;\">\n",
       "        \n",
       "  <svg xmlns=\"http://www.w3.org/2000/svg\" height=\"24px\"viewBox=\"0 0 24 24\"\n",
       "       width=\"24px\">\n",
       "    <path d=\"M0 0h24v24H0V0z\" fill=\"none\"/>\n",
       "    <path d=\"M18.56 5.44l.94 2.06.94-2.06 2.06-.94-2.06-.94-.94-2.06-.94 2.06-2.06.94zm-11 1L8.5 8.5l.94-2.06 2.06-.94-2.06-.94L8.5 2.5l-.94 2.06-2.06.94zm10 10l.94 2.06.94-2.06 2.06-.94-2.06-.94-.94-2.06-.94 2.06-2.06.94z\"/><path d=\"M17.41 7.96l-1.37-1.37c-.4-.4-.92-.59-1.43-.59-.52 0-1.04.2-1.43.59L10.3 9.45l-7.72 7.72c-.78.78-.78 2.05 0 2.83L4 21.41c.39.39.9.59 1.41.59.51 0 1.02-.2 1.41-.59l7.78-7.78 2.81-2.81c.8-.78.8-2.07 0-2.86zM5.41 20L4 18.59l7.72-7.72 1.47 1.35L5.41 20z\"/>\n",
       "  </svg>\n",
       "      </button>\n",
       "      \n",
       "  <style>\n",
       "    .colab-df-container {\n",
       "      display:flex;\n",
       "      flex-wrap:wrap;\n",
       "      gap: 12px;\n",
       "    }\n",
       "\n",
       "    .colab-df-convert {\n",
       "      background-color: #E8F0FE;\n",
       "      border: none;\n",
       "      border-radius: 50%;\n",
       "      cursor: pointer;\n",
       "      display: none;\n",
       "      fill: #1967D2;\n",
       "      height: 32px;\n",
       "      padding: 0 0 0 0;\n",
       "      width: 32px;\n",
       "    }\n",
       "\n",
       "    .colab-df-convert:hover {\n",
       "      background-color: #E2EBFA;\n",
       "      box-shadow: 0px 1px 2px rgba(60, 64, 67, 0.3), 0px 1px 3px 1px rgba(60, 64, 67, 0.15);\n",
       "      fill: #174EA6;\n",
       "    }\n",
       "\n",
       "    [theme=dark] .colab-df-convert {\n",
       "      background-color: #3B4455;\n",
       "      fill: #D2E3FC;\n",
       "    }\n",
       "\n",
       "    [theme=dark] .colab-df-convert:hover {\n",
       "      background-color: #434B5C;\n",
       "      box-shadow: 0px 1px 3px 1px rgba(0, 0, 0, 0.15);\n",
       "      filter: drop-shadow(0px 1px 2px rgba(0, 0, 0, 0.3));\n",
       "      fill: #FFFFFF;\n",
       "    }\n",
       "  </style>\n",
       "\n",
       "      <script>\n",
       "        const buttonEl =\n",
       "          document.querySelector('#df-9a5cc3f7-957f-4264-968b-2ccf6327f2f0 button.colab-df-convert');\n",
       "        buttonEl.style.display =\n",
       "          google.colab.kernel.accessAllowed ? 'block' : 'none';\n",
       "\n",
       "        async function convertToInteractive(key) {\n",
       "          const element = document.querySelector('#df-9a5cc3f7-957f-4264-968b-2ccf6327f2f0');\n",
       "          const dataTable =\n",
       "            await google.colab.kernel.invokeFunction('convertToInteractive',\n",
       "                                                     [key], {});\n",
       "          if (!dataTable) return;\n",
       "\n",
       "          const docLinkHtml = 'Like what you see? Visit the ' +\n",
       "            '<a target=\"_blank\" href=https://colab.research.google.com/notebooks/data_table.ipynb>data table notebook</a>'\n",
       "            + ' to learn more about interactive tables.';\n",
       "          element.innerHTML = '';\n",
       "          dataTable['output_type'] = 'display_data';\n",
       "          await google.colab.output.renderOutput(dataTable, element);\n",
       "          const docLink = document.createElement('div');\n",
       "          docLink.innerHTML = docLinkHtml;\n",
       "          element.appendChild(docLink);\n",
       "        }\n",
       "      </script>\n",
       "    </div>\n",
       "  </div>\n",
       "  "
      ],
      "text/plain": [
       "       funding_total_usd  funding_rounds\n",
       "count       6.409400e+04    64094.000000\n",
       "mean        1.581978e+07        1.287749\n",
       "std         3.950322e+07        0.873294\n",
       "min         2.910000e+02        1.000000\n",
       "25%         1.500000e+07        1.000000\n",
       "50%         1.581978e+07        1.000000\n",
       "75%         1.581978e+07        1.000000\n",
       "max         5.700000e+09       15.000000"
      ]
     },
     "execution_count": 28,
     "metadata": {},
     "output_type": "execute_result"
    }
   ],
   "source": [
    "data[['funding_total_usd','funding_rounds']].describe()"
   ]
  },
  {
   "cell_type": "code",
   "execution_count": 48,
   "id": "fd90c08a",
   "metadata": {
    "id": "fd90c08a"
   },
   "outputs": [],
   "source": [
    "q1 = data.quantile(0.25)\n",
    "q3 = data.quantile(0.75)\n",
    "iqr = q3 - q1"
   ]
  },
  {
   "cell_type": "code",
   "execution_count": 49,
   "id": "7e537281",
   "metadata": {
    "colab": {
     "base_uri": "https://localhost:8080/",
     "height": 0
    },
    "id": "7e537281",
    "outputId": "4906ec48-4a68-4642-f69f-887c35217513"
   },
   "outputs": [
    {
     "name": "stdout",
     "output_type": "stream",
     "text": [
      "17049455.46631492\n",
      "(array([    0,     7,    10, ..., 64031, 64065, 64078], dtype=int64),)\n",
      "(60069, 18)\n"
     ]
    },
    {
     "data": {
      "text/html": [
       "<div>\n",
       "<style scoped>\n",
       "    .dataframe tbody tr th:only-of-type {\n",
       "        vertical-align: middle;\n",
       "    }\n",
       "\n",
       "    .dataframe tbody tr th {\n",
       "        vertical-align: top;\n",
       "    }\n",
       "\n",
       "    .dataframe thead th {\n",
       "        text-align: right;\n",
       "    }\n",
       "</style>\n",
       "<table border=\"1\" class=\"dataframe\">\n",
       "  <thead>\n",
       "    <tr style=\"text-align: right;\">\n",
       "      <th></th>\n",
       "      <th>level_0</th>\n",
       "      <th>index</th>\n",
       "      <th>entity_id</th>\n",
       "      <th>name</th>\n",
       "      <th>category_code</th>\n",
       "      <th>status</th>\n",
       "      <th>founded_at</th>\n",
       "      <th>closed_at</th>\n",
       "      <th>country_code</th>\n",
       "      <th>investment_rounds</th>\n",
       "      <th>invested_companies</th>\n",
       "      <th>funding_rounds</th>\n",
       "      <th>funding_total_usd</th>\n",
       "      <th>milestones</th>\n",
       "      <th>relationships</th>\n",
       "      <th>created_at</th>\n",
       "      <th>updated_at</th>\n",
       "      <th>ROI</th>\n",
       "      <th>companies_age</th>\n",
       "    </tr>\n",
       "  </thead>\n",
       "  <tbody>\n",
       "    <tr>\n",
       "      <th>0</th>\n",
       "      <td>1</td>\n",
       "      <td>5</td>\n",
       "      <td>10002</td>\n",
       "      <td>Synergie Media</td>\n",
       "      <td>advertising</td>\n",
       "      <td>operating</td>\n",
       "      <td>2007</td>\n",
       "      <td>2021.0</td>\n",
       "      <td>MAR</td>\n",
       "      <td>1.0</td>\n",
       "      <td>1.0</td>\n",
       "      <td>1.0</td>\n",
       "      <td>1.581978e+07</td>\n",
       "      <td>1.0</td>\n",
       "      <td>2.00000</td>\n",
       "      <td>2008</td>\n",
       "      <td>2008</td>\n",
       "      <td>14.41045</td>\n",
       "      <td>14.0</td>\n",
       "    </tr>\n",
       "    <tr>\n",
       "      <th>1</th>\n",
       "      <td>2</td>\n",
       "      <td>6</td>\n",
       "      <td>10003</td>\n",
       "      <td>Green Basti Ecosystems</td>\n",
       "      <td>cleantech</td>\n",
       "      <td>operating</td>\n",
       "      <td>2008</td>\n",
       "      <td>2021.0</td>\n",
       "      <td>IND</td>\n",
       "      <td>1.0</td>\n",
       "      <td>1.0</td>\n",
       "      <td>1.0</td>\n",
       "      <td>1.581978e+07</td>\n",
       "      <td>1.0</td>\n",
       "      <td>4.43465</td>\n",
       "      <td>2008</td>\n",
       "      <td>2010</td>\n",
       "      <td>14.41045</td>\n",
       "      <td>13.0</td>\n",
       "    </tr>\n",
       "    <tr>\n",
       "      <th>2</th>\n",
       "      <td>3</td>\n",
       "      <td>12</td>\n",
       "      <td>10009</td>\n",
       "      <td>dimension5 labs</td>\n",
       "      <td>advertising</td>\n",
       "      <td>operating</td>\n",
       "      <td>2008</td>\n",
       "      <td>2021.0</td>\n",
       "      <td>USA</td>\n",
       "      <td>1.0</td>\n",
       "      <td>1.0</td>\n",
       "      <td>1.0</td>\n",
       "      <td>1.581978e+07</td>\n",
       "      <td>1.0</td>\n",
       "      <td>2.00000</td>\n",
       "      <td>2008</td>\n",
       "      <td>2008</td>\n",
       "      <td>14.41045</td>\n",
       "      <td>13.0</td>\n",
       "    </tr>\n",
       "    <tr>\n",
       "      <th>3</th>\n",
       "      <td>4</td>\n",
       "      <td>13</td>\n",
       "      <td>1001</td>\n",
       "      <td>FriendFeed</td>\n",
       "      <td>web</td>\n",
       "      <td>acquired</td>\n",
       "      <td>2007</td>\n",
       "      <td>2021.0</td>\n",
       "      <td>USA</td>\n",
       "      <td>1.0</td>\n",
       "      <td>1.0</td>\n",
       "      <td>1.0</td>\n",
       "      <td>5.000000e+06</td>\n",
       "      <td>3.0</td>\n",
       "      <td>14.00000</td>\n",
       "      <td>2007</td>\n",
       "      <td>2013</td>\n",
       "      <td>9.50000</td>\n",
       "      <td>14.0</td>\n",
       "    </tr>\n",
       "    <tr>\n",
       "      <th>4</th>\n",
       "      <td>5</td>\n",
       "      <td>15</td>\n",
       "      <td>10011</td>\n",
       "      <td>PoetryVisualized.com</td>\n",
       "      <td>games_video</td>\n",
       "      <td>operating</td>\n",
       "      <td>2008</td>\n",
       "      <td>2021.0</td>\n",
       "      <td>USA</td>\n",
       "      <td>1.0</td>\n",
       "      <td>1.0</td>\n",
       "      <td>1.0</td>\n",
       "      <td>1.581978e+07</td>\n",
       "      <td>1.0</td>\n",
       "      <td>3.00000</td>\n",
       "      <td>2008</td>\n",
       "      <td>2009</td>\n",
       "      <td>14.41045</td>\n",
       "      <td>13.0</td>\n",
       "    </tr>\n",
       "    <tr>\n",
       "      <th>...</th>\n",
       "      <td>...</td>\n",
       "      <td>...</td>\n",
       "      <td>...</td>\n",
       "      <td>...</td>\n",
       "      <td>...</td>\n",
       "      <td>...</td>\n",
       "      <td>...</td>\n",
       "      <td>...</td>\n",
       "      <td>...</td>\n",
       "      <td>...</td>\n",
       "      <td>...</td>\n",
       "      <td>...</td>\n",
       "      <td>...</td>\n",
       "      <td>...</td>\n",
       "      <td>...</td>\n",
       "      <td>...</td>\n",
       "      <td>...</td>\n",
       "      <td>...</td>\n",
       "      <td>...</td>\n",
       "    </tr>\n",
       "    <tr>\n",
       "      <th>60064</th>\n",
       "      <td>64089</td>\n",
       "      <td>196548</td>\n",
       "      <td>99940</td>\n",
       "      <td>Webgility</td>\n",
       "      <td>ecommerce</td>\n",
       "      <td>operating</td>\n",
       "      <td>2007</td>\n",
       "      <td>2021.0</td>\n",
       "      <td>USA</td>\n",
       "      <td>1.0</td>\n",
       "      <td>1.0</td>\n",
       "      <td>1.0</td>\n",
       "      <td>1.581978e+07</td>\n",
       "      <td>2.0</td>\n",
       "      <td>5.00000</td>\n",
       "      <td>2011</td>\n",
       "      <td>2013</td>\n",
       "      <td>14.41045</td>\n",
       "      <td>14.0</td>\n",
       "    </tr>\n",
       "    <tr>\n",
       "      <th>60065</th>\n",
       "      <td>64090</td>\n",
       "      <td>196549</td>\n",
       "      <td>9995</td>\n",
       "      <td>FohBoh</td>\n",
       "      <td>public_relations</td>\n",
       "      <td>operating</td>\n",
       "      <td>2007</td>\n",
       "      <td>2021.0</td>\n",
       "      <td>USA</td>\n",
       "      <td>1.0</td>\n",
       "      <td>1.0</td>\n",
       "      <td>1.0</td>\n",
       "      <td>7.500000e+05</td>\n",
       "      <td>1.0</td>\n",
       "      <td>14.00000</td>\n",
       "      <td>2008</td>\n",
       "      <td>2013</td>\n",
       "      <td>14.41045</td>\n",
       "      <td>14.0</td>\n",
       "    </tr>\n",
       "    <tr>\n",
       "      <th>60066</th>\n",
       "      <td>64091</td>\n",
       "      <td>196550</td>\n",
       "      <td>9996</td>\n",
       "      <td>CSC</td>\n",
       "      <td>consulting</td>\n",
       "      <td>operating</td>\n",
       "      <td>1959</td>\n",
       "      <td>2021.0</td>\n",
       "      <td>USA</td>\n",
       "      <td>1.0</td>\n",
       "      <td>1.0</td>\n",
       "      <td>1.0</td>\n",
       "      <td>1.581978e+07</td>\n",
       "      <td>3.0</td>\n",
       "      <td>44.00000</td>\n",
       "      <td>2008</td>\n",
       "      <td>2013</td>\n",
       "      <td>14.41045</td>\n",
       "      <td>62.0</td>\n",
       "    </tr>\n",
       "    <tr>\n",
       "      <th>60067</th>\n",
       "      <td>64092</td>\n",
       "      <td>196551</td>\n",
       "      <td>9997</td>\n",
       "      <td>Top-candidate</td>\n",
       "      <td>search</td>\n",
       "      <td>operating</td>\n",
       "      <td>2008</td>\n",
       "      <td>2021.0</td>\n",
       "      <td>USA</td>\n",
       "      <td>1.0</td>\n",
       "      <td>1.0</td>\n",
       "      <td>1.0</td>\n",
       "      <td>1.581978e+07</td>\n",
       "      <td>1.0</td>\n",
       "      <td>1.00000</td>\n",
       "      <td>2008</td>\n",
       "      <td>2013</td>\n",
       "      <td>14.41045</td>\n",
       "      <td>13.0</td>\n",
       "    </tr>\n",
       "    <tr>\n",
       "      <th>60068</th>\n",
       "      <td>64093</td>\n",
       "      <td>196552</td>\n",
       "      <td>9998</td>\n",
       "      <td>Closet Couture</td>\n",
       "      <td>ecommerce</td>\n",
       "      <td>operating</td>\n",
       "      <td>2007</td>\n",
       "      <td>2021.0</td>\n",
       "      <td>USA</td>\n",
       "      <td>1.0</td>\n",
       "      <td>1.0</td>\n",
       "      <td>1.0</td>\n",
       "      <td>4.750000e+05</td>\n",
       "      <td>2.0</td>\n",
       "      <td>1.00000</td>\n",
       "      <td>2008</td>\n",
       "      <td>2013</td>\n",
       "      <td>14.41045</td>\n",
       "      <td>14.0</td>\n",
       "    </tr>\n",
       "  </tbody>\n",
       "</table>\n",
       "<p>60069 rows × 19 columns</p>\n",
       "</div>"
      ],
      "text/plain": [
       "       level_0   index  entity_id                    name     category_code  \\\n",
       "0            1       5      10002          Synergie Media       advertising   \n",
       "1            2       6      10003  Green Basti Ecosystems         cleantech   \n",
       "2            3      12      10009         dimension5 labs       advertising   \n",
       "3            4      13       1001              FriendFeed               web   \n",
       "4            5      15      10011    PoetryVisualized.com       games_video   \n",
       "...        ...     ...        ...                     ...               ...   \n",
       "60064    64089  196548      99940               Webgility         ecommerce   \n",
       "60065    64090  196549       9995                  FohBoh  public_relations   \n",
       "60066    64091  196550       9996                     CSC        consulting   \n",
       "60067    64092  196551       9997           Top-candidate            search   \n",
       "60068    64093  196552       9998          Closet Couture         ecommerce   \n",
       "\n",
       "          status  founded_at  closed_at country_code  investment_rounds  \\\n",
       "0      operating        2007     2021.0          MAR                1.0   \n",
       "1      operating        2008     2021.0          IND                1.0   \n",
       "2      operating        2008     2021.0          USA                1.0   \n",
       "3       acquired        2007     2021.0          USA                1.0   \n",
       "4      operating        2008     2021.0          USA                1.0   \n",
       "...          ...         ...        ...          ...                ...   \n",
       "60064  operating        2007     2021.0          USA                1.0   \n",
       "60065  operating        2007     2021.0          USA                1.0   \n",
       "60066  operating        1959     2021.0          USA                1.0   \n",
       "60067  operating        2008     2021.0          USA                1.0   \n",
       "60068  operating        2007     2021.0          USA                1.0   \n",
       "\n",
       "       invested_companies  funding_rounds  funding_total_usd  milestones  \\\n",
       "0                     1.0             1.0       1.581978e+07         1.0   \n",
       "1                     1.0             1.0       1.581978e+07         1.0   \n",
       "2                     1.0             1.0       1.581978e+07         1.0   \n",
       "3                     1.0             1.0       5.000000e+06         3.0   \n",
       "4                     1.0             1.0       1.581978e+07         1.0   \n",
       "...                   ...             ...                ...         ...   \n",
       "60064                 1.0             1.0       1.581978e+07         2.0   \n",
       "60065                 1.0             1.0       7.500000e+05         1.0   \n",
       "60066                 1.0             1.0       1.581978e+07         3.0   \n",
       "60067                 1.0             1.0       1.581978e+07         1.0   \n",
       "60068                 1.0             1.0       4.750000e+05         2.0   \n",
       "\n",
       "       relationships created_at  updated_at       ROI  companies_age  \n",
       "0            2.00000       2008        2008  14.41045           14.0  \n",
       "1            4.43465       2008        2010  14.41045           13.0  \n",
       "2            2.00000       2008        2008  14.41045           13.0  \n",
       "3           14.00000       2007        2013   9.50000           14.0  \n",
       "4            3.00000       2008        2009  14.41045           13.0  \n",
       "...              ...        ...         ...       ...            ...  \n",
       "60064        5.00000       2011        2013  14.41045           14.0  \n",
       "60065       14.00000       2008        2013  14.41045           14.0  \n",
       "60066       44.00000       2008        2013  14.41045           62.0  \n",
       "60067        1.00000       2008        2013  14.41045           13.0  \n",
       "60068        1.00000       2008        2013  14.41045           14.0  \n",
       "\n",
       "[60069 rows x 19 columns]"
      ]
     },
     "execution_count": 49,
     "metadata": {},
     "output_type": "execute_result"
    }
   ],
   "source": [
    "high = (q3.funding_total_usd + (1.5 * iqr.funding_total_usd))\n",
    "print(high)\n",
    "\n",
    "index = np.where(data['funding_total_usd'] > high)\n",
    "print(index)\n",
    "\n",
    "data = data.drop(data.index[index])\n",
    "print(data.shape)\n",
    "\n",
    "data.reset_index()"
   ]
  },
  {
   "cell_type": "code",
   "execution_count": 50,
   "id": "0df2e2ff",
   "metadata": {
    "colab": {
     "base_uri": "https://localhost:8080/",
     "height": 0
    },
    "id": "0df2e2ff",
    "outputId": "ecc7134f-4bc6-479e-fc15-74d3a3b0b79d"
   },
   "outputs": [
    {
     "name": "stdout",
     "output_type": "stream",
     "text": [
      "1.0\n",
      "(array([], dtype=int64),)\n",
      "(60069, 18)\n"
     ]
    },
    {
     "data": {
      "text/html": [
       "<div>\n",
       "<style scoped>\n",
       "    .dataframe tbody tr th:only-of-type {\n",
       "        vertical-align: middle;\n",
       "    }\n",
       "\n",
       "    .dataframe tbody tr th {\n",
       "        vertical-align: top;\n",
       "    }\n",
       "\n",
       "    .dataframe thead th {\n",
       "        text-align: right;\n",
       "    }\n",
       "</style>\n",
       "<table border=\"1\" class=\"dataframe\">\n",
       "  <thead>\n",
       "    <tr style=\"text-align: right;\">\n",
       "      <th></th>\n",
       "      <th>level_0</th>\n",
       "      <th>index</th>\n",
       "      <th>entity_id</th>\n",
       "      <th>name</th>\n",
       "      <th>category_code</th>\n",
       "      <th>status</th>\n",
       "      <th>founded_at</th>\n",
       "      <th>closed_at</th>\n",
       "      <th>country_code</th>\n",
       "      <th>investment_rounds</th>\n",
       "      <th>invested_companies</th>\n",
       "      <th>funding_rounds</th>\n",
       "      <th>funding_total_usd</th>\n",
       "      <th>milestones</th>\n",
       "      <th>relationships</th>\n",
       "      <th>created_at</th>\n",
       "      <th>updated_at</th>\n",
       "      <th>ROI</th>\n",
       "      <th>companies_age</th>\n",
       "    </tr>\n",
       "  </thead>\n",
       "  <tbody>\n",
       "    <tr>\n",
       "      <th>0</th>\n",
       "      <td>1</td>\n",
       "      <td>5</td>\n",
       "      <td>10002</td>\n",
       "      <td>Synergie Media</td>\n",
       "      <td>advertising</td>\n",
       "      <td>operating</td>\n",
       "      <td>2007</td>\n",
       "      <td>2021.0</td>\n",
       "      <td>MAR</td>\n",
       "      <td>1.0</td>\n",
       "      <td>1.0</td>\n",
       "      <td>1.0</td>\n",
       "      <td>1.581978e+07</td>\n",
       "      <td>1.0</td>\n",
       "      <td>2.00000</td>\n",
       "      <td>2008</td>\n",
       "      <td>2008</td>\n",
       "      <td>14.41045</td>\n",
       "      <td>14.0</td>\n",
       "    </tr>\n",
       "    <tr>\n",
       "      <th>1</th>\n",
       "      <td>2</td>\n",
       "      <td>6</td>\n",
       "      <td>10003</td>\n",
       "      <td>Green Basti Ecosystems</td>\n",
       "      <td>cleantech</td>\n",
       "      <td>operating</td>\n",
       "      <td>2008</td>\n",
       "      <td>2021.0</td>\n",
       "      <td>IND</td>\n",
       "      <td>1.0</td>\n",
       "      <td>1.0</td>\n",
       "      <td>1.0</td>\n",
       "      <td>1.581978e+07</td>\n",
       "      <td>1.0</td>\n",
       "      <td>4.43465</td>\n",
       "      <td>2008</td>\n",
       "      <td>2010</td>\n",
       "      <td>14.41045</td>\n",
       "      <td>13.0</td>\n",
       "    </tr>\n",
       "    <tr>\n",
       "      <th>2</th>\n",
       "      <td>3</td>\n",
       "      <td>12</td>\n",
       "      <td>10009</td>\n",
       "      <td>dimension5 labs</td>\n",
       "      <td>advertising</td>\n",
       "      <td>operating</td>\n",
       "      <td>2008</td>\n",
       "      <td>2021.0</td>\n",
       "      <td>USA</td>\n",
       "      <td>1.0</td>\n",
       "      <td>1.0</td>\n",
       "      <td>1.0</td>\n",
       "      <td>1.581978e+07</td>\n",
       "      <td>1.0</td>\n",
       "      <td>2.00000</td>\n",
       "      <td>2008</td>\n",
       "      <td>2008</td>\n",
       "      <td>14.41045</td>\n",
       "      <td>13.0</td>\n",
       "    </tr>\n",
       "    <tr>\n",
       "      <th>3</th>\n",
       "      <td>4</td>\n",
       "      <td>13</td>\n",
       "      <td>1001</td>\n",
       "      <td>FriendFeed</td>\n",
       "      <td>web</td>\n",
       "      <td>acquired</td>\n",
       "      <td>2007</td>\n",
       "      <td>2021.0</td>\n",
       "      <td>USA</td>\n",
       "      <td>1.0</td>\n",
       "      <td>1.0</td>\n",
       "      <td>1.0</td>\n",
       "      <td>5.000000e+06</td>\n",
       "      <td>3.0</td>\n",
       "      <td>14.00000</td>\n",
       "      <td>2007</td>\n",
       "      <td>2013</td>\n",
       "      <td>9.50000</td>\n",
       "      <td>14.0</td>\n",
       "    </tr>\n",
       "    <tr>\n",
       "      <th>4</th>\n",
       "      <td>5</td>\n",
       "      <td>15</td>\n",
       "      <td>10011</td>\n",
       "      <td>PoetryVisualized.com</td>\n",
       "      <td>games_video</td>\n",
       "      <td>operating</td>\n",
       "      <td>2008</td>\n",
       "      <td>2021.0</td>\n",
       "      <td>USA</td>\n",
       "      <td>1.0</td>\n",
       "      <td>1.0</td>\n",
       "      <td>1.0</td>\n",
       "      <td>1.581978e+07</td>\n",
       "      <td>1.0</td>\n",
       "      <td>3.00000</td>\n",
       "      <td>2008</td>\n",
       "      <td>2009</td>\n",
       "      <td>14.41045</td>\n",
       "      <td>13.0</td>\n",
       "    </tr>\n",
       "    <tr>\n",
       "      <th>...</th>\n",
       "      <td>...</td>\n",
       "      <td>...</td>\n",
       "      <td>...</td>\n",
       "      <td>...</td>\n",
       "      <td>...</td>\n",
       "      <td>...</td>\n",
       "      <td>...</td>\n",
       "      <td>...</td>\n",
       "      <td>...</td>\n",
       "      <td>...</td>\n",
       "      <td>...</td>\n",
       "      <td>...</td>\n",
       "      <td>...</td>\n",
       "      <td>...</td>\n",
       "      <td>...</td>\n",
       "      <td>...</td>\n",
       "      <td>...</td>\n",
       "      <td>...</td>\n",
       "      <td>...</td>\n",
       "    </tr>\n",
       "    <tr>\n",
       "      <th>60064</th>\n",
       "      <td>64089</td>\n",
       "      <td>196548</td>\n",
       "      <td>99940</td>\n",
       "      <td>Webgility</td>\n",
       "      <td>ecommerce</td>\n",
       "      <td>operating</td>\n",
       "      <td>2007</td>\n",
       "      <td>2021.0</td>\n",
       "      <td>USA</td>\n",
       "      <td>1.0</td>\n",
       "      <td>1.0</td>\n",
       "      <td>1.0</td>\n",
       "      <td>1.581978e+07</td>\n",
       "      <td>2.0</td>\n",
       "      <td>5.00000</td>\n",
       "      <td>2011</td>\n",
       "      <td>2013</td>\n",
       "      <td>14.41045</td>\n",
       "      <td>14.0</td>\n",
       "    </tr>\n",
       "    <tr>\n",
       "      <th>60065</th>\n",
       "      <td>64090</td>\n",
       "      <td>196549</td>\n",
       "      <td>9995</td>\n",
       "      <td>FohBoh</td>\n",
       "      <td>public_relations</td>\n",
       "      <td>operating</td>\n",
       "      <td>2007</td>\n",
       "      <td>2021.0</td>\n",
       "      <td>USA</td>\n",
       "      <td>1.0</td>\n",
       "      <td>1.0</td>\n",
       "      <td>1.0</td>\n",
       "      <td>7.500000e+05</td>\n",
       "      <td>1.0</td>\n",
       "      <td>14.00000</td>\n",
       "      <td>2008</td>\n",
       "      <td>2013</td>\n",
       "      <td>14.41045</td>\n",
       "      <td>14.0</td>\n",
       "    </tr>\n",
       "    <tr>\n",
       "      <th>60066</th>\n",
       "      <td>64091</td>\n",
       "      <td>196550</td>\n",
       "      <td>9996</td>\n",
       "      <td>CSC</td>\n",
       "      <td>consulting</td>\n",
       "      <td>operating</td>\n",
       "      <td>1959</td>\n",
       "      <td>2021.0</td>\n",
       "      <td>USA</td>\n",
       "      <td>1.0</td>\n",
       "      <td>1.0</td>\n",
       "      <td>1.0</td>\n",
       "      <td>1.581978e+07</td>\n",
       "      <td>3.0</td>\n",
       "      <td>44.00000</td>\n",
       "      <td>2008</td>\n",
       "      <td>2013</td>\n",
       "      <td>14.41045</td>\n",
       "      <td>62.0</td>\n",
       "    </tr>\n",
       "    <tr>\n",
       "      <th>60067</th>\n",
       "      <td>64092</td>\n",
       "      <td>196551</td>\n",
       "      <td>9997</td>\n",
       "      <td>Top-candidate</td>\n",
       "      <td>search</td>\n",
       "      <td>operating</td>\n",
       "      <td>2008</td>\n",
       "      <td>2021.0</td>\n",
       "      <td>USA</td>\n",
       "      <td>1.0</td>\n",
       "      <td>1.0</td>\n",
       "      <td>1.0</td>\n",
       "      <td>1.581978e+07</td>\n",
       "      <td>1.0</td>\n",
       "      <td>1.00000</td>\n",
       "      <td>2008</td>\n",
       "      <td>2013</td>\n",
       "      <td>14.41045</td>\n",
       "      <td>13.0</td>\n",
       "    </tr>\n",
       "    <tr>\n",
       "      <th>60068</th>\n",
       "      <td>64093</td>\n",
       "      <td>196552</td>\n",
       "      <td>9998</td>\n",
       "      <td>Closet Couture</td>\n",
       "      <td>ecommerce</td>\n",
       "      <td>operating</td>\n",
       "      <td>2007</td>\n",
       "      <td>2021.0</td>\n",
       "      <td>USA</td>\n",
       "      <td>1.0</td>\n",
       "      <td>1.0</td>\n",
       "      <td>1.0</td>\n",
       "      <td>4.750000e+05</td>\n",
       "      <td>2.0</td>\n",
       "      <td>1.00000</td>\n",
       "      <td>2008</td>\n",
       "      <td>2013</td>\n",
       "      <td>14.41045</td>\n",
       "      <td>14.0</td>\n",
       "    </tr>\n",
       "  </tbody>\n",
       "</table>\n",
       "<p>60069 rows × 19 columns</p>\n",
       "</div>"
      ],
      "text/plain": [
       "       level_0   index  entity_id                    name     category_code  \\\n",
       "0            1       5      10002          Synergie Media       advertising   \n",
       "1            2       6      10003  Green Basti Ecosystems         cleantech   \n",
       "2            3      12      10009         dimension5 labs       advertising   \n",
       "3            4      13       1001              FriendFeed               web   \n",
       "4            5      15      10011    PoetryVisualized.com       games_video   \n",
       "...        ...     ...        ...                     ...               ...   \n",
       "60064    64089  196548      99940               Webgility         ecommerce   \n",
       "60065    64090  196549       9995                  FohBoh  public_relations   \n",
       "60066    64091  196550       9996                     CSC        consulting   \n",
       "60067    64092  196551       9997           Top-candidate            search   \n",
       "60068    64093  196552       9998          Closet Couture         ecommerce   \n",
       "\n",
       "          status  founded_at  closed_at country_code  investment_rounds  \\\n",
       "0      operating        2007     2021.0          MAR                1.0   \n",
       "1      operating        2008     2021.0          IND                1.0   \n",
       "2      operating        2008     2021.0          USA                1.0   \n",
       "3       acquired        2007     2021.0          USA                1.0   \n",
       "4      operating        2008     2021.0          USA                1.0   \n",
       "...          ...         ...        ...          ...                ...   \n",
       "60064  operating        2007     2021.0          USA                1.0   \n",
       "60065  operating        2007     2021.0          USA                1.0   \n",
       "60066  operating        1959     2021.0          USA                1.0   \n",
       "60067  operating        2008     2021.0          USA                1.0   \n",
       "60068  operating        2007     2021.0          USA                1.0   \n",
       "\n",
       "       invested_companies  funding_rounds  funding_total_usd  milestones  \\\n",
       "0                     1.0             1.0       1.581978e+07         1.0   \n",
       "1                     1.0             1.0       1.581978e+07         1.0   \n",
       "2                     1.0             1.0       1.581978e+07         1.0   \n",
       "3                     1.0             1.0       5.000000e+06         3.0   \n",
       "4                     1.0             1.0       1.581978e+07         1.0   \n",
       "...                   ...             ...                ...         ...   \n",
       "60064                 1.0             1.0       1.581978e+07         2.0   \n",
       "60065                 1.0             1.0       7.500000e+05         1.0   \n",
       "60066                 1.0             1.0       1.581978e+07         3.0   \n",
       "60067                 1.0             1.0       1.581978e+07         1.0   \n",
       "60068                 1.0             1.0       4.750000e+05         2.0   \n",
       "\n",
       "       relationships created_at  updated_at       ROI  companies_age  \n",
       "0            2.00000       2008        2008  14.41045           14.0  \n",
       "1            4.43465       2008        2010  14.41045           13.0  \n",
       "2            2.00000       2008        2008  14.41045           13.0  \n",
       "3           14.00000       2007        2013   9.50000           14.0  \n",
       "4            3.00000       2008        2009  14.41045           13.0  \n",
       "...              ...        ...         ...       ...            ...  \n",
       "60064        5.00000       2011        2013  14.41045           14.0  \n",
       "60065       14.00000       2008        2013  14.41045           14.0  \n",
       "60066       44.00000       2008        2013  14.41045           62.0  \n",
       "60067        1.00000       2008        2013  14.41045           13.0  \n",
       "60068        1.00000       2008        2013  14.41045           14.0  \n",
       "\n",
       "[60069 rows x 19 columns]"
      ]
     },
     "execution_count": 50,
     "metadata": {},
     "output_type": "execute_result"
    }
   ],
   "source": [
    "high_fu = (q3.funding_rounds + (1.5 * iqr.funding_rounds))\n",
    "print(high_fu)\n",
    "\n",
    "index_fu = np.where(data['funding_rounds'] > high)\n",
    "print(index_fu)\n",
    "\n",
    "data = data.drop(data.index[index_fu])\n",
    "print(data.shape)\n",
    "\n",
    "data.reset_index()"
   ]
  },
  {
   "cell_type": "markdown",
   "id": "7b8a6973",
   "metadata": {
    "id": "7b8a6973"
   },
   "source": [
    "## After Removing Outliers:"
   ]
  },
  {
   "cell_type": "code",
   "execution_count": 32,
   "id": "4827228b",
   "metadata": {
    "colab": {
     "base_uri": "https://localhost:8080/",
     "height": 0
    },
    "id": "4827228b",
    "outputId": "b340c614-5a68-4965-aa11-823ef36a6eae",
    "scrolled": true
   },
   "outputs": [
    {
     "data": {
      "text/plain": [
       "<matplotlib.axes._subplots.AxesSubplot at 0x7fa7bc853090>"
      ]
     },
     "execution_count": 32,
     "metadata": {},
     "output_type": "execute_result"
    },
    {
     "data": {
      "image/png": "[encoded data removed]",
      "text/plain": [
       "<Figure size 432x288 with 1 Axes>"
      ]
     },
     "metadata": {
      "needs_background": "light"
     },
     "output_type": "display_data"
    }
   ],
   "source": [
    "sns.boxplot(data['funding_total_usd'])"
   ]
  },
  {
   "cell_type": "code",
   "execution_count": 33,
   "id": "8ce29c02",
   "metadata": {
    "colab": {
     "base_uri": "https://localhost:8080/",
     "height": 0
    },
    "id": "8ce29c02",
    "outputId": "58d57116-9b52-4cd3-954e-dea10fb90aec",
    "scrolled": false
   },
   "outputs": [
    {
     "data": {
      "text/plain": [
       "<matplotlib.axes._subplots.AxesSubplot at 0x7fa7b8ef20d0>"
      ]
     },
     "execution_count": 33,
     "metadata": {},
     "output_type": "execute_result"
    },
    {
     "data": {
      "image/png": "[encoded data removed]",
      "text/plain": [
       "<Figure size 432x288 with 1 Axes>"
      ]
     },
     "metadata": {
      "needs_background": "light"
     },
     "output_type": "display_data"
    }
   ],
   "source": [
    "sns.boxplot(data['funding_rounds'])"
   ]
  },
  {
   "cell_type": "code",
   "execution_count": 34,
   "id": "f2d4f8b7",
   "metadata": {
    "colab": {
     "base_uri": "https://localhost:8080/",
     "height": 0
    },
    "id": "f2d4f8b7",
    "outputId": "8b23a8bd-c1e3-4c47-d435-bcfcb5ab015a"
   },
   "outputs": [
    {
     "data": {
      "application/vnd.google.colaboratory.intrinsic+json": {
       "type": "string"
      },
      "text/plain": [
       "\"def remove_outliers(x):\\n    global data\\n    Q1= data[x].quantile(0.25)\\n    Q3 = data[x].quantile(0.75)\\n    IQR = Q3 - Q1\\n    upper_limit = Q3 + 1.5 * IQR\\n    \\n    index = np.where(data[x] > upper_limit)\\n    data = data.drop(data.index[index])\\n    data.reset_index()\\n        \\n    fig, axes = plt.subplots(1,2,figsize=(10,5))\\n    sns.distplot(data[x],color='#22b199',ax=axes[0])\\n    sns.boxplot(y=data[x],color='#22b199',ax=axes[1])\\n    axes[0].set_title('Distribution of '+ x )\\n    axes[1].set_title('Box plot of '+ x)\\n    plt.tight_layout()\\n    plt.show()\\n\\nfor i in ['investment_rounds','milestones', 'relationships', 'ROI', 'funding_rounds' ,'funding_total_usd','companies_age','invested_companies']:\\n    remove_outliers(i)\\nprint(data.shape)\""
      ]
     },
     "execution_count": 34,
     "metadata": {},
     "output_type": "execute_result"
    }
   ],
   "source": [
    "'''def remove_outliers(x):\n",
    "    global data\n",
    "    Q1= data[x].quantile(0.25)\n",
    "    Q3 = data[x].quantile(0.75)\n",
    "    IQR = Q3 - Q1\n",
    "    upper_limit = Q3 + 1.5 * IQR\n",
    "    \n",
    "    index = np.where(data[x] > upper_limit)\n",
    "    data = data.drop(data.index[index])\n",
    "    data.reset_index()\n",
    "        \n",
    "    fig, axes = plt.subplots(1,2,figsize=(10,5))\n",
    "    sns.distplot(data[x],color='#22b199',ax=axes[0])\n",
    "    sns.boxplot(y=data[x],color='#22b199',ax=axes[1])\n",
    "    axes[0].set_title('Distribution of '+ x )\n",
    "    axes[1].set_title('Box plot of '+ x)\n",
    "    plt.tight_layout()\n",
    "    plt.show()\n",
    "\n",
    "for i in ['investment_rounds','milestones', 'relationships', 'ROI', 'funding_rounds' ,'funding_total_usd','companies_age','invested_companies']:\n",
    "    remove_outliers(i)\n",
    "print(data.shape)'''"
   ]
  },
  {
   "cell_type": "code",
   "execution_count": 35,
   "id": "271bd279",
   "metadata": {
    "colab": {
     "base_uri": "https://localhost:8080/",
     "height": 0
    },
    "id": "271bd279",
    "outputId": "dee8d56b-b358-4f4b-87a4-f77ffb7d6db2"
   },
   "outputs": [
    {
     "data": {
      "application/vnd.google.colaboratory.intrinsic+json": {
       "type": "string"
      },
      "text/plain": [
       "\"Q1= data['funding_total_usd'].quantile(0.25)\\nQ3 = data['funding_total_usd'].quantile(0.75)\\nIQR = Q3 - Q1\\nlower_limit = Q1 - 1.5 * IQR\\n    \\nindex = np.where(data['funding_total_usd'] < lower_limit)\\ndata = data.drop(data.index[index])\\ndata.reset_index()\\n        \\nfig, axes = plt.subplots(1,2,figsize=(10,5))\\nsns.distplot(data['funding_total_usd'],color='#22b199',ax=axes[0])\\nsns.boxplot(y=data['funding_total_usd'],color='#22b199',ax=axes[1])\\naxes[0].set_title('Distribution of funding_total_usd without outliers')\\naxes[1].set_title('Box plot of funding_total_usd')\\nplt.tight_layout()\\nplt.show()\\n\\nprint(data.shape)\""
      ]
     },
     "execution_count": 35,
     "metadata": {},
     "output_type": "execute_result"
    }
   ],
   "source": [
    "'''Q1= data['funding_total_usd'].quantile(0.25)\n",
    "Q3 = data['funding_total_usd'].quantile(0.75)\n",
    "IQR = Q3 - Q1\n",
    "lower_limit = Q1 - 1.5 * IQR\n",
    "    \n",
    "index = np.where(data['funding_total_usd'] < lower_limit)\n",
    "data = data.drop(data.index[index])\n",
    "data.reset_index()\n",
    "        \n",
    "fig, axes = plt.subplots(1,2,figsize=(10,5))\n",
    "sns.distplot(data['funding_total_usd'],color='#22b199',ax=axes[0])\n",
    "sns.boxplot(y=data['funding_total_usd'],color='#22b199',ax=axes[1])\n",
    "axes[0].set_title('Distribution of funding_total_usd without outliers')\n",
    "axes[1].set_title('Box plot of funding_total_usd')\n",
    "plt.tight_layout()\n",
    "plt.show()\n",
    "\n",
    "print(data.shape)'''"
   ]
  },
  {
   "cell_type": "markdown",
   "id": "0083a2a1",
   "metadata": {
    "id": "0083a2a1"
   },
   "source": [
    "We are not removing every outliers of our dataset because :\n",
    "1. Removing all outliers will lead to data leakage.\n",
    "2. 2695 rows × 29 columns, is the shape of our dataset, after removing the outliers.\n",
    "3. Its also not giving the best accuracy for the model.\n",
    "4. For RandomForest Model the accuracy is approx. 75%\n",
    "5. For KNN Model the accuracy is approx. 70%"
   ]
  },
  {
   "cell_type": "markdown",
   "id": "f67c276a",
   "metadata": {
    "id": "f67c276a"
   },
   "source": [
    "## Encoding :"
   ]
  },
  {
   "cell_type": "markdown",
   "id": "c4d68b85",
   "metadata": {
    "id": "c4d68b85"
   },
   "source": [
    "**- Encoding the Category Code column by replace method.**"
   ]
  },
  {
   "cell_type": "markdown",
   "id": "db7e8082",
   "metadata": {
    "id": "db7e8082"
   },
   "source": [
    "**- Encoding the Country code column,**"
   ]
  },
  {
   "cell_type": "code",
   "execution_count": 51,
   "id": "9f3b91f7",
   "metadata": {
    "colab": {
     "base_uri": "https://localhost:8080/"
    },
    "id": "9f3b91f7",
    "outputId": "e152cfad-c73d-49c0-9deb-49430a8245f5",
    "scrolled": true
   },
   "outputs": [
    {
     "data": {
      "text/plain": [
       "software            10948\n",
       "web                  7878\n",
       "ecommerce            4885\n",
       "other                4769\n",
       "mobile               3716\n",
       "advertising          3583\n",
       "consulting           2804\n",
       "games_video          2789\n",
       "enterprise           2449\n",
       "biotech              1911\n",
       "public_relations     1545\n",
       "hardware             1413\n",
       "network_hosting      1240\n",
       "education            1157\n",
       "search                975\n",
       "cleantech             755\n",
       "social                655\n",
       "analytics             648\n",
       "finance               636\n",
       "security              603\n",
       "health                595\n",
       "legal                 369\n",
       "medical               337\n",
       "travel                327\n",
       "semiconductor         324\n",
       "news                  280\n",
       "manufacturing         269\n",
       "fashion               264\n",
       "hospitality           263\n",
       "real_estate           221\n",
       "photo_video           197\n",
       "local                 196\n",
       "messaging             186\n",
       "music                 181\n",
       "sports                166\n",
       "transportation        126\n",
       "nonprofit             115\n",
       "design                108\n",
       "automotive            101\n",
       "pets                   34\n",
       "nanotech               30\n",
       "government             21\n",
       "Name: category_code, dtype: int64"
      ]
     },
     "execution_count": 51,
     "metadata": {},
     "output_type": "execute_result"
    }
   ],
   "source": [
    "data['category_code'].value_counts()"
   ]
  },
  {
   "cell_type": "code",
   "execution_count": 52,
   "id": "36023c46",
   "metadata": {
    "id": "36023c46"
   },
   "outputs": [],
   "source": [
    "top = ['USA','GBR','IND','CAN','DEU','FRA','AUS','ESP','ISR','NLD']"
   ]
  },
  {
   "cell_type": "code",
   "execution_count": 53,
   "id": "23182489",
   "metadata": {
    "id": "23182489"
   },
   "outputs": [],
   "source": [
    "data.loc[~data['country_code'].isin(top),'country_code'] = 'other'"
   ]
  },
  {
   "cell_type": "code",
   "execution_count": 54,
   "id": "438e42f9",
   "metadata": {
    "colab": {
     "base_uri": "https://localhost:8080/"
    },
    "id": "438e42f9",
    "outputId": "73100201-5ca3-4849-9a26-a46447a4e840"
   },
   "outputs": [
    {
     "data": {
      "text/plain": [
       "USA      33820\n",
       "other     9663\n",
       "GBR       5047\n",
       "IND       3014\n",
       "CAN       2625\n",
       "DEU       1364\n",
       "FRA       1216\n",
       "AUS       1031\n",
       "ESP        884\n",
       "ISR        751\n",
       "NLD        654\n",
       "Name: country_code, dtype: int64"
      ]
     },
     "execution_count": 54,
     "metadata": {},
     "output_type": "execute_result"
    }
   ],
   "source": [
    "data['country_code'].value_counts()"
   ]
  },
  {
   "cell_type": "code",
   "execution_count": 55,
   "id": "202c0757",
   "metadata": {
    "id": "202c0757"
   },
   "outputs": [],
   "source": [
    "data['category_code'] = data['category_code'].replace(['public_relations','hardware','network_hosting','education','search','cleantech','analytics','finance','social','security','health','medical','semiconductor','legal','travel','news','manufacturing','fashion','hospitality','real_estate','photo_video','messaging','music','local','sports','transportation','nonprofit','automotive','design','nanotech','pets','government'],'other')"
   ]
  },
  {
   "cell_type": "markdown",
   "id": "953de10b",
   "metadata": {
    "id": "953de10b"
   },
   "source": [
    "**- Get dummies method on dataset.**"
   ]
  },
  {
   "cell_type": "code",
   "execution_count": 56,
   "id": "6b2010d8",
   "metadata": {
    "id": "6b2010d8"
   },
   "outputs": [],
   "source": [
    "data = pd.get_dummies(data, columns = ['category_code','country_code'])"
   ]
  },
  {
   "cell_type": "code",
   "execution_count": 57,
   "id": "dd0b2486",
   "metadata": {
    "id": "dd0b2486"
   },
   "outputs": [],
   "source": [
    "data.drop(columns = ['name','invested_companies'],inplace = True)"
   ]
  },
  {
   "cell_type": "markdown",
   "id": "86785a06",
   "metadata": {
    "id": "86785a06"
   },
   "source": [
    "## Imbalanced Target Column:"
   ]
  },
  {
   "cell_type": "code",
   "execution_count": 58,
   "id": "a4c4c964",
   "metadata": {
    "colab": {
     "base_uri": "https://localhost:8080/"
    },
    "id": "a4c4c964",
    "outputId": "c0d5a373-e3d7-465a-eccc-1a1fd4172a50"
   },
   "outputs": [
    {
     "data": {
      "text/plain": [
       "(60069, 35)"
      ]
     },
     "execution_count": 58,
     "metadata": {},
     "output_type": "execute_result"
    }
   ],
   "source": [
    "data.shape"
   ]
  },
  {
   "cell_type": "code",
   "execution_count": 59,
   "id": "b0a2a28f",
   "metadata": {
    "colab": {
     "base_uri": "https://localhost:8080/"
    },
    "id": "b0a2a28f",
    "outputId": "00407ab2-1db2-44ff-942f-748de69b7b18"
   },
   "outputs": [
    {
     "data": {
      "text/plain": [
       "operating    54823\n",
       "acquired      3337\n",
       "closed        1492\n",
       "ipo            417\n",
       "Name: status, dtype: int64"
      ]
     },
     "execution_count": 59,
     "metadata": {},
     "output_type": "execute_result"
    }
   ],
   "source": [
    "data.status.value_counts()"
   ]
  },
  {
   "cell_type": "code",
   "execution_count": 60,
   "id": "f836a582",
   "metadata": {
    "id": "f836a582"
   },
   "outputs": [],
   "source": [
    "data['status'] = data['status'].replace('operating',1)\n",
    "data['status'] = data['status'].replace('ipo',1)\n",
    "data['status'] = data['status'].replace('closed',0)\n",
    "data['status'] = data['status'].replace('acquired',0)"
   ]
  },
  {
   "cell_type": "markdown",
   "id": "083f1783",
   "metadata": {
    "id": "083f1783"
   },
   "source": [
    "Our target column is not balanced and need to work on the imbalance column:"
   ]
  },
  {
   "cell_type": "code",
   "execution_count": 61,
   "id": "5f00f6a9",
   "metadata": {
    "id": "5f00f6a9"
   },
   "outputs": [],
   "source": [
    "x = data.drop('status',axis = 1)\n",
    "y = data.status"
   ]
  },
  {
   "cell_type": "code",
   "execution_count": 62,
   "id": "f598704a",
   "metadata": {
    "id": "f598704a"
   },
   "outputs": [],
   "source": [
    "x_train,x_test,y_train,y_test = train_test_split(x, y, test_size = 0.25, random_state = 4)"
   ]
  },
  {
   "cell_type": "code",
   "execution_count": 63,
   "id": "6234e1ed",
   "metadata": {
    "id": "6234e1ed"
   },
   "outputs": [],
   "source": [
    "ds = NearMiss(0.75)\n",
    "x_train_nm,y_train_nm = ds.fit_resample(x_train,y_train)"
   ]
  },
  {
   "cell_type": "code",
   "execution_count": 64,
   "id": "36e01bb7",
   "metadata": {
    "colab": {
     "base_uri": "https://localhost:8080/"
    },
    "id": "36e01bb7",
    "outputId": "7aa2190c-a031-4e31-a0c1-4ecb2d45545c"
   },
   "outputs": [
    {
     "name": "stdout",
     "output_type": "stream",
     "text": [
      "Before Fit: Counter({1: 41459, 0: 3592})\n",
      "After Fit: Counter({1: 4789, 0: 3592})\n"
     ]
    }
   ],
   "source": [
    "print('Before Fit: {}'.format(Counter(y_train)))\n",
    "print('After Fit: {}'.format(Counter(y_train_nm)))"
   ]
  },
  {
   "cell_type": "code",
   "execution_count": 65,
   "id": "93b88f2b",
   "metadata": {
    "colab": {
     "base_uri": "https://localhost:8080/",
     "height": 282
    },
    "id": "93b88f2b",
    "outputId": "e53e26ae-f313-4d17-e3b9-5cc00c6032a8"
   },
   "outputs": [
    {
     "data": {
      "image/png": "[encoded data removed]",
      "text/plain": [
       "<Figure size 640x480 with 1 Axes>"
      ]
     },
     "metadata": {},
     "output_type": "display_data"
    }
   ],
   "source": [
    "sns.countplot(y_train_nm)\n",
    "plt.show()"
   ]
  },
  {
   "cell_type": "markdown",
   "id": "b5317e66",
   "metadata": {
    "id": "b5317e66"
   },
   "source": [
    "**Now, our target column is balanced.**"
   ]
  },
  {
   "cell_type": "code",
   "execution_count": 66,
   "id": "f6d8e739",
   "metadata": {
    "id": "f6d8e739"
   },
   "outputs": [],
   "source": [
    "y_train_nm = y"
   ]
  },
  {
   "cell_type": "markdown",
   "id": "5089cc8c",
   "metadata": {
    "id": "5089cc8c"
   },
   "source": [
    "## PCA"
   ]
  },
  {
   "cell_type": "code",
   "execution_count": 67,
   "id": "348394c5",
   "metadata": {
    "id": "348394c5"
   },
   "outputs": [],
   "source": [
    "X = x_train_nm.copy()\n",
    "pca = PCA(n_components=2)\n",
    "pca_X= pca.fit_transform(X)"
   ]
  },
  {
   "cell_type": "code",
   "execution_count": 68,
   "id": "49f0b1e8",
   "metadata": {
    "colab": {
     "base_uri": "https://localhost:8080/",
     "height": 0
    },
    "id": "49f0b1e8",
    "outputId": "e12dddfa-a81f-4456-db91-ec675820380d"
   },
   "outputs": [
    {
     "data": {
      "text/html": [
       "<div>\n",
       "<style scoped>\n",
       "    .dataframe tbody tr th:only-of-type {\n",
       "        vertical-align: middle;\n",
       "    }\n",
       "\n",
       "    .dataframe tbody tr th {\n",
       "        vertical-align: top;\n",
       "    }\n",
       "\n",
       "    .dataframe thead th {\n",
       "        text-align: right;\n",
       "    }\n",
       "</style>\n",
       "<table border=\"1\" class=\"dataframe\">\n",
       "  <thead>\n",
       "    <tr style=\"text-align: right;\">\n",
       "      <th></th>\n",
       "      <th>principal component 1</th>\n",
       "      <th>principal component 2</th>\n",
       "      <th>y</th>\n",
       "    </tr>\n",
       "  </thead>\n",
       "  <tbody>\n",
       "    <tr>\n",
       "      <th>0</th>\n",
       "      <td>1.308493e+07</td>\n",
       "      <td>102929.360946</td>\n",
       "      <td>NaN</td>\n",
       "    </tr>\n",
       "    <tr>\n",
       "      <th>1</th>\n",
       "      <td>1.318493e+07</td>\n",
       "      <td>103225.214655</td>\n",
       "      <td>1.0</td>\n",
       "    </tr>\n",
       "    <tr>\n",
       "      <th>2</th>\n",
       "      <td>-2.284865e+06</td>\n",
       "      <td>95508.416748</td>\n",
       "      <td>1.0</td>\n",
       "    </tr>\n",
       "    <tr>\n",
       "      <th>3</th>\n",
       "      <td>2.494762e+06</td>\n",
       "      <td>-70549.675005</td>\n",
       "      <td>1.0</td>\n",
       "    </tr>\n",
       "    <tr>\n",
       "      <th>4</th>\n",
       "      <td>-2.284975e+06</td>\n",
       "      <td>-21873.729536</td>\n",
       "      <td>0.0</td>\n",
       "    </tr>\n",
       "    <tr>\n",
       "      <th>...</th>\n",
       "      <td>...</td>\n",
       "      <td>...</td>\n",
       "      <td>...</td>\n",
       "    </tr>\n",
       "    <tr>\n",
       "      <th>8376</th>\n",
       "      <td>-2.284991e+06</td>\n",
       "      <td>-30487.542819</td>\n",
       "      <td>0.0</td>\n",
       "    </tr>\n",
       "    <tr>\n",
       "      <th>8377</th>\n",
       "      <td>-2.284987e+06</td>\n",
       "      <td>-27757.041290</td>\n",
       "      <td>1.0</td>\n",
       "    </tr>\n",
       "    <tr>\n",
       "      <th>8378</th>\n",
       "      <td>-2.284977e+06</td>\n",
       "      <td>-18543.143483</td>\n",
       "      <td>1.0</td>\n",
       "    </tr>\n",
       "    <tr>\n",
       "      <th>8379</th>\n",
       "      <td>-2.284975e+06</td>\n",
       "      <td>-21759.369514</td>\n",
       "      <td>1.0</td>\n",
       "    </tr>\n",
       "    <tr>\n",
       "      <th>8380</th>\n",
       "      <td>-2.284982e+06</td>\n",
       "      <td>-23288.935528</td>\n",
       "      <td>0.0</td>\n",
       "    </tr>\n",
       "  </tbody>\n",
       "</table>\n",
       "<p>8381 rows × 3 columns</p>\n",
       "</div>"
      ],
      "text/plain": [
       "      principal component 1  principal component 2    y\n",
       "0              1.308493e+07          102929.360946  NaN\n",
       "1              1.318493e+07          103225.214655  1.0\n",
       "2             -2.284865e+06           95508.416748  1.0\n",
       "3              2.494762e+06          -70549.675005  1.0\n",
       "4             -2.284975e+06          -21873.729536  0.0\n",
       "...                     ...                    ...  ...\n",
       "8376          -2.284991e+06          -30487.542819  0.0\n",
       "8377          -2.284987e+06          -27757.041290  1.0\n",
       "8378          -2.284977e+06          -18543.143483  1.0\n",
       "8379          -2.284975e+06          -21759.369514  1.0\n",
       "8380          -2.284982e+06          -23288.935528  0.0\n",
       "\n",
       "[8381 rows x 3 columns]"
      ]
     },
     "execution_count": 68,
     "metadata": {},
     "output_type": "execute_result"
    }
   ],
   "source": [
    "loadings = pd.DataFrame(\n",
    "   data = pca_X, columns = ['principal component 1', 'principal component 2']\n",
    ")\n",
    "loadings['y']=y_train_nm\n",
    "loadings"
   ]
  },
  {
   "cell_type": "code",
   "execution_count": 69,
   "id": "9035b0fb",
   "metadata": {
    "colab": {
     "base_uri": "https://localhost:8080/"
    },
    "id": "9035b0fb",
    "outputId": "84384f31-c0d7-4d96-9b9c-6ebe456d58c3"
   },
   "outputs": [
    {
     "data": {
      "text/plain": [
       "array([9.99764800e-01, 1.46582547e-04])"
      ]
     },
     "execution_count": 69,
     "metadata": {},
     "output_type": "execute_result"
    }
   ],
   "source": [
    "explained_variance = pca.explained_variance_ratio_\n",
    "explained_variance"
   ]
  },
  {
   "cell_type": "code",
   "execution_count": 55,
   "id": "d79e0287",
   "metadata": {
    "colab": {
     "base_uri": "https://localhost:8080/",
     "height": 0
    },
    "id": "d79e0287",
    "outputId": "a1957ad3-c409-40c2-a927-43e27a2cc7d0",
    "scrolled": true
   },
   "outputs": [
    {
     "data": {
      "text/plain": [
       "<matplotlib.axes._subplots.AxesSubplot at 0x7fa7b8e42350>"
      ]
     },
     "execution_count": 55,
     "metadata": {},
     "output_type": "execute_result"
    },
    {
     "data": {
      "image/png": "[encoded data removed]",
      "text/plain": [
       "<Figure size 1152x720 with 1 Axes>"
      ]
     },
     "metadata": {
      "needs_background": "light"
     },
     "output_type": "display_data"
    }
   ],
   "source": [
    "plt.figure(figsize=(16,10))\n",
    "sns.scatterplot(\n",
    "    x=\"principal component 1\", y=\"principal component 2\",\n",
    "    hue=\"y\",\n",
    "    data=loadings,\n",
    "    legend=\"full\",\n",
    "    alpha=0.3,\n",
    "    palette=\"deep\"\n",
    ")"
   ]
  },
  {
   "cell_type": "markdown",
   "id": "349cfb6c",
   "metadata": {
    "id": "349cfb6c"
   },
   "source": [
    "From the above graph, you can observe that there is no best_fit_line can divide the dataset into 2 classes"
   ]
  },
  {
   "cell_type": "code",
   "execution_count": 70,
   "id": "bb642cfa",
   "metadata": {
    "colab": {
     "base_uri": "https://localhost:8080/",
     "height": 0
    },
    "id": "bb642cfa",
    "outputId": "0576684c-96d3-491b-e038-c588999df792",
    "scrolled": false
   },
   "outputs": [
    {
     "data": {
      "image/png": "[encoded data removed]",
      "text/plain": [
       "<Figure size 3000x1440 with 2 Axes>"
      ]
     },
     "metadata": {},
     "output_type": "display_data"
    }
   ],
   "source": [
    "def plot_variance(pca, width=10, dpi=200):\n",
    "    fig, axs = plt.subplots(1, 2)\n",
    "    n = pca.n_components_\n",
    "    grid = np.arange(1, n + 1)\n",
    "    \n",
    "    evr = pca.explained_variance_ratio_\n",
    "    axs[0].bar(grid, evr)\n",
    "    axs[0].set(\n",
    "        xlabel=\"Component\", title=\"% Explained Variance\", ylim=(0.0, 1.0)\n",
    "    )\n",
    "   \n",
    "    cv = np.cumsum(evr)\n",
    "    axs[1].plot(np.r_[0, grid], np.r_[0, cv], \"o-\")\n",
    "    axs[1].set(\n",
    "        xlabel=\"Component\", title=\"% Cumulative Variance\", ylim=(0.0, 1.0)\n",
    "    )\n",
    "   \n",
    "    fig.set(figwidth=10, dpi=300)\n",
    "    return axs\n",
    "plot_variance(pca);"
   ]
  },
  {
   "cell_type": "markdown",
   "id": "56e855aa",
   "metadata": {
    "id": "56e855aa"
   },
   "source": []
  },
  {
   "cell_type": "markdown",
   "id": "212e542d",
   "metadata": {
    "id": "212e542d"
   },
   "source": [
    "## Final Dataset"
   ]
  },
  {
   "cell_type": "code",
   "execution_count": 71,
   "id": "1bb10b5a",
   "metadata": {
    "colab": {
     "base_uri": "https://localhost:8080/",
     "height": 0
    },
    "id": "1bb10b5a",
    "outputId": "312429a0-12f4-4c65-80be-924e39279a59"
   },
   "outputs": [
    {
     "data": {
      "text/html": [
       "<div>\n",
       "<style scoped>\n",
       "    .dataframe tbody tr th:only-of-type {\n",
       "        vertical-align: middle;\n",
       "    }\n",
       "\n",
       "    .dataframe tbody tr th {\n",
       "        vertical-align: top;\n",
       "    }\n",
       "\n",
       "    .dataframe thead th {\n",
       "        text-align: right;\n",
       "    }\n",
       "</style>\n",
       "<table border=\"1\" class=\"dataframe\">\n",
       "  <thead>\n",
       "    <tr style=\"text-align: right;\">\n",
       "      <th></th>\n",
       "      <th>status</th>\n",
       "      <th>founded_at</th>\n",
       "      <th>closed_at</th>\n",
       "      <th>investment_rounds</th>\n",
       "      <th>funding_rounds</th>\n",
       "      <th>funding_total_usd</th>\n",
       "      <th>milestones</th>\n",
       "      <th>relationships</th>\n",
       "      <th>created_at</th>\n",
       "      <th>updated_at</th>\n",
       "      <th>...</th>\n",
       "      <th>country_code_CAN</th>\n",
       "      <th>country_code_DEU</th>\n",
       "      <th>country_code_ESP</th>\n",
       "      <th>country_code_FRA</th>\n",
       "      <th>country_code_GBR</th>\n",
       "      <th>country_code_IND</th>\n",
       "      <th>country_code_ISR</th>\n",
       "      <th>country_code_NLD</th>\n",
       "      <th>country_code_USA</th>\n",
       "      <th>country_code_other</th>\n",
       "    </tr>\n",
       "  </thead>\n",
       "  <tbody>\n",
       "    <tr>\n",
       "      <th>1</th>\n",
       "      <td>1</td>\n",
       "      <td>2007</td>\n",
       "      <td>2021.0</td>\n",
       "      <td>1.0</td>\n",
       "      <td>1.0</td>\n",
       "      <td>1.581978e+07</td>\n",
       "      <td>1.0</td>\n",
       "      <td>2.00000</td>\n",
       "      <td>2008</td>\n",
       "      <td>2008</td>\n",
       "      <td>...</td>\n",
       "      <td>0</td>\n",
       "      <td>0</td>\n",
       "      <td>0</td>\n",
       "      <td>0</td>\n",
       "      <td>0</td>\n",
       "      <td>0</td>\n",
       "      <td>0</td>\n",
       "      <td>0</td>\n",
       "      <td>0</td>\n",
       "      <td>1</td>\n",
       "    </tr>\n",
       "    <tr>\n",
       "      <th>2</th>\n",
       "      <td>1</td>\n",
       "      <td>2008</td>\n",
       "      <td>2021.0</td>\n",
       "      <td>1.0</td>\n",
       "      <td>1.0</td>\n",
       "      <td>1.581978e+07</td>\n",
       "      <td>1.0</td>\n",
       "      <td>4.43465</td>\n",
       "      <td>2008</td>\n",
       "      <td>2010</td>\n",
       "      <td>...</td>\n",
       "      <td>0</td>\n",
       "      <td>0</td>\n",
       "      <td>0</td>\n",
       "      <td>0</td>\n",
       "      <td>0</td>\n",
       "      <td>1</td>\n",
       "      <td>0</td>\n",
       "      <td>0</td>\n",
       "      <td>0</td>\n",
       "      <td>0</td>\n",
       "    </tr>\n",
       "    <tr>\n",
       "      <th>3</th>\n",
       "      <td>1</td>\n",
       "      <td>2008</td>\n",
       "      <td>2021.0</td>\n",
       "      <td>1.0</td>\n",
       "      <td>1.0</td>\n",
       "      <td>1.581978e+07</td>\n",
       "      <td>1.0</td>\n",
       "      <td>2.00000</td>\n",
       "      <td>2008</td>\n",
       "      <td>2008</td>\n",
       "      <td>...</td>\n",
       "      <td>0</td>\n",
       "      <td>0</td>\n",
       "      <td>0</td>\n",
       "      <td>0</td>\n",
       "      <td>0</td>\n",
       "      <td>0</td>\n",
       "      <td>0</td>\n",
       "      <td>0</td>\n",
       "      <td>1</td>\n",
       "      <td>0</td>\n",
       "    </tr>\n",
       "    <tr>\n",
       "      <th>4</th>\n",
       "      <td>0</td>\n",
       "      <td>2007</td>\n",
       "      <td>2021.0</td>\n",
       "      <td>1.0</td>\n",
       "      <td>1.0</td>\n",
       "      <td>5.000000e+06</td>\n",
       "      <td>3.0</td>\n",
       "      <td>14.00000</td>\n",
       "      <td>2007</td>\n",
       "      <td>2013</td>\n",
       "      <td>...</td>\n",
       "      <td>0</td>\n",
       "      <td>0</td>\n",
       "      <td>0</td>\n",
       "      <td>0</td>\n",
       "      <td>0</td>\n",
       "      <td>0</td>\n",
       "      <td>0</td>\n",
       "      <td>0</td>\n",
       "      <td>1</td>\n",
       "      <td>0</td>\n",
       "    </tr>\n",
       "    <tr>\n",
       "      <th>5</th>\n",
       "      <td>1</td>\n",
       "      <td>2008</td>\n",
       "      <td>2021.0</td>\n",
       "      <td>1.0</td>\n",
       "      <td>1.0</td>\n",
       "      <td>1.581978e+07</td>\n",
       "      <td>1.0</td>\n",
       "      <td>3.00000</td>\n",
       "      <td>2008</td>\n",
       "      <td>2009</td>\n",
       "      <td>...</td>\n",
       "      <td>0</td>\n",
       "      <td>0</td>\n",
       "      <td>0</td>\n",
       "      <td>0</td>\n",
       "      <td>0</td>\n",
       "      <td>0</td>\n",
       "      <td>0</td>\n",
       "      <td>0</td>\n",
       "      <td>1</td>\n",
       "      <td>0</td>\n",
       "    </tr>\n",
       "    <tr>\n",
       "      <th>...</th>\n",
       "      <td>...</td>\n",
       "      <td>...</td>\n",
       "      <td>...</td>\n",
       "      <td>...</td>\n",
       "      <td>...</td>\n",
       "      <td>...</td>\n",
       "      <td>...</td>\n",
       "      <td>...</td>\n",
       "      <td>...</td>\n",
       "      <td>...</td>\n",
       "      <td>...</td>\n",
       "      <td>...</td>\n",
       "      <td>...</td>\n",
       "      <td>...</td>\n",
       "      <td>...</td>\n",
       "      <td>...</td>\n",
       "      <td>...</td>\n",
       "      <td>...</td>\n",
       "      <td>...</td>\n",
       "      <td>...</td>\n",
       "      <td>...</td>\n",
       "    </tr>\n",
       "    <tr>\n",
       "      <th>64089</th>\n",
       "      <td>1</td>\n",
       "      <td>2007</td>\n",
       "      <td>2021.0</td>\n",
       "      <td>1.0</td>\n",
       "      <td>1.0</td>\n",
       "      <td>1.581978e+07</td>\n",
       "      <td>2.0</td>\n",
       "      <td>5.00000</td>\n",
       "      <td>2011</td>\n",
       "      <td>2013</td>\n",
       "      <td>...</td>\n",
       "      <td>0</td>\n",
       "      <td>0</td>\n",
       "      <td>0</td>\n",
       "      <td>0</td>\n",
       "      <td>0</td>\n",
       "      <td>0</td>\n",
       "      <td>0</td>\n",
       "      <td>0</td>\n",
       "      <td>1</td>\n",
       "      <td>0</td>\n",
       "    </tr>\n",
       "    <tr>\n",
       "      <th>64090</th>\n",
       "      <td>1</td>\n",
       "      <td>2007</td>\n",
       "      <td>2021.0</td>\n",
       "      <td>1.0</td>\n",
       "      <td>1.0</td>\n",
       "      <td>7.500000e+05</td>\n",
       "      <td>1.0</td>\n",
       "      <td>14.00000</td>\n",
       "      <td>2008</td>\n",
       "      <td>2013</td>\n",
       "      <td>...</td>\n",
       "      <td>0</td>\n",
       "      <td>0</td>\n",
       "      <td>0</td>\n",
       "      <td>0</td>\n",
       "      <td>0</td>\n",
       "      <td>0</td>\n",
       "      <td>0</td>\n",
       "      <td>0</td>\n",
       "      <td>1</td>\n",
       "      <td>0</td>\n",
       "    </tr>\n",
       "    <tr>\n",
       "      <th>64091</th>\n",
       "      <td>1</td>\n",
       "      <td>1959</td>\n",
       "      <td>2021.0</td>\n",
       "      <td>1.0</td>\n",
       "      <td>1.0</td>\n",
       "      <td>1.581978e+07</td>\n",
       "      <td>3.0</td>\n",
       "      <td>44.00000</td>\n",
       "      <td>2008</td>\n",
       "      <td>2013</td>\n",
       "      <td>...</td>\n",
       "      <td>0</td>\n",
       "      <td>0</td>\n",
       "      <td>0</td>\n",
       "      <td>0</td>\n",
       "      <td>0</td>\n",
       "      <td>0</td>\n",
       "      <td>0</td>\n",
       "      <td>0</td>\n",
       "      <td>1</td>\n",
       "      <td>0</td>\n",
       "    </tr>\n",
       "    <tr>\n",
       "      <th>64092</th>\n",
       "      <td>1</td>\n",
       "      <td>2008</td>\n",
       "      <td>2021.0</td>\n",
       "      <td>1.0</td>\n",
       "      <td>1.0</td>\n",
       "      <td>1.581978e+07</td>\n",
       "      <td>1.0</td>\n",
       "      <td>1.00000</td>\n",
       "      <td>2008</td>\n",
       "      <td>2013</td>\n",
       "      <td>...</td>\n",
       "      <td>0</td>\n",
       "      <td>0</td>\n",
       "      <td>0</td>\n",
       "      <td>0</td>\n",
       "      <td>0</td>\n",
       "      <td>0</td>\n",
       "      <td>0</td>\n",
       "      <td>0</td>\n",
       "      <td>1</td>\n",
       "      <td>0</td>\n",
       "    </tr>\n",
       "    <tr>\n",
       "      <th>64093</th>\n",
       "      <td>1</td>\n",
       "      <td>2007</td>\n",
       "      <td>2021.0</td>\n",
       "      <td>1.0</td>\n",
       "      <td>1.0</td>\n",
       "      <td>4.750000e+05</td>\n",
       "      <td>2.0</td>\n",
       "      <td>1.00000</td>\n",
       "      <td>2008</td>\n",
       "      <td>2013</td>\n",
       "      <td>...</td>\n",
       "      <td>0</td>\n",
       "      <td>0</td>\n",
       "      <td>0</td>\n",
       "      <td>0</td>\n",
       "      <td>0</td>\n",
       "      <td>0</td>\n",
       "      <td>0</td>\n",
       "      <td>0</td>\n",
       "      <td>1</td>\n",
       "      <td>0</td>\n",
       "    </tr>\n",
       "  </tbody>\n",
       "</table>\n",
       "<p>60069 rows × 33 columns</p>\n",
       "</div>"
      ],
      "text/plain": [
       "       status  founded_at  closed_at  investment_rounds  funding_rounds  \\\n",
       "1           1        2007     2021.0                1.0             1.0   \n",
       "2           1        2008     2021.0                1.0             1.0   \n",
       "3           1        2008     2021.0                1.0             1.0   \n",
       "4           0        2007     2021.0                1.0             1.0   \n",
       "5           1        2008     2021.0                1.0             1.0   \n",
       "...       ...         ...        ...                ...             ...   \n",
       "64089       1        2007     2021.0                1.0             1.0   \n",
       "64090       1        2007     2021.0                1.0             1.0   \n",
       "64091       1        1959     2021.0                1.0             1.0   \n",
       "64092       1        2008     2021.0                1.0             1.0   \n",
       "64093       1        2007     2021.0                1.0             1.0   \n",
       "\n",
       "       funding_total_usd  milestones  relationships created_at  updated_at  \\\n",
       "1           1.581978e+07         1.0        2.00000       2008        2008   \n",
       "2           1.581978e+07         1.0        4.43465       2008        2010   \n",
       "3           1.581978e+07         1.0        2.00000       2008        2008   \n",
       "4           5.000000e+06         3.0       14.00000       2007        2013   \n",
       "5           1.581978e+07         1.0        3.00000       2008        2009   \n",
       "...                  ...         ...            ...        ...         ...   \n",
       "64089       1.581978e+07         2.0        5.00000       2011        2013   \n",
       "64090       7.500000e+05         1.0       14.00000       2008        2013   \n",
       "64091       1.581978e+07         3.0       44.00000       2008        2013   \n",
       "64092       1.581978e+07         1.0        1.00000       2008        2013   \n",
       "64093       4.750000e+05         2.0        1.00000       2008        2013   \n",
       "\n",
       "       ...  country_code_CAN  country_code_DEU  country_code_ESP  \\\n",
       "1      ...                 0                 0                 0   \n",
       "2      ...                 0                 0                 0   \n",
       "3      ...                 0                 0                 0   \n",
       "4      ...                 0                 0                 0   \n",
       "5      ...                 0                 0                 0   \n",
       "...    ...               ...               ...               ...   \n",
       "64089  ...                 0                 0                 0   \n",
       "64090  ...                 0                 0                 0   \n",
       "64091  ...                 0                 0                 0   \n",
       "64092  ...                 0                 0                 0   \n",
       "64093  ...                 0                 0                 0   \n",
       "\n",
       "       country_code_FRA  country_code_GBR  country_code_IND  country_code_ISR  \\\n",
       "1                     0                 0                 0                 0   \n",
       "2                     0                 0                 1                 0   \n",
       "3                     0                 0                 0                 0   \n",
       "4                     0                 0                 0                 0   \n",
       "5                     0                 0                 0                 0   \n",
       "...                 ...               ...               ...               ...   \n",
       "64089                 0                 0                 0                 0   \n",
       "64090                 0                 0                 0                 0   \n",
       "64091                 0                 0                 0                 0   \n",
       "64092                 0                 0                 0                 0   \n",
       "64093                 0                 0                 0                 0   \n",
       "\n",
       "       country_code_NLD  country_code_USA  country_code_other  \n",
       "1                     0                 0                   1  \n",
       "2                     0                 0                   0  \n",
       "3                     0                 1                   0  \n",
       "4                     0                 1                   0  \n",
       "5                     0                 1                   0  \n",
       "...                 ...               ...                 ...  \n",
       "64089                 0                 1                   0  \n",
       "64090                 0                 1                   0  \n",
       "64091                 0                 1                   0  \n",
       "64092                 0                 1                   0  \n",
       "64093                 0                 1                   0  \n",
       "\n",
       "[60069 rows x 33 columns]"
      ]
     },
     "execution_count": 71,
     "metadata": {},
     "output_type": "execute_result"
    }
   ],
   "source": [
    "data.drop(columns = ['index','entity_id'])"
   ]
  },
  {
   "cell_type": "code",
   "execution_count": 72,
   "id": "64fddf9c",
   "metadata": {
    "colab": {
     "base_uri": "https://localhost:8080/"
    },
    "id": "64fddf9c",
    "outputId": "cbdfd62a-ab78-4e4d-8c0e-32781d707cb8"
   },
   "outputs": [
    {
     "data": {
      "text/plain": [
       "0"
      ]
     },
     "execution_count": 72,
     "metadata": {},
     "output_type": "execute_result"
    }
   ],
   "source": [
    "data.duplicated().sum()"
   ]
  },
  {
   "cell_type": "markdown",
   "id": "6e6a119f",
   "metadata": {
    "id": "6e6a119f"
   },
   "source": [
    "This is the final dataset.\n"
   ]
  },
  {
   "cell_type": "code",
   "execution_count": 73,
   "id": "d4090af1",
   "metadata": {},
   "outputs": [],
   "source": [
    "data.to_csv('data.csv', index=False)"
   ]
  },
  {
   "cell_type": "code",
   "execution_count": 75,
   "id": "682dd98f",
   "metadata": {},
   "outputs": [],
   "source": [
    "import pickle\n",
    "\n",
    "with open('data.pickle', 'wb') as output:\n",
    "    pickle.dump(data, output)"
   ]
  },
  {
   "cell_type": "markdown",
   "id": "df6b5393",
   "metadata": {
    "id": "df6b5393"
   },
   "source": [
    "## Scaling the dataset."
   ]
  },
  {
   "cell_type": "markdown",
   "id": "23f94da0",
   "metadata": {
    "id": "23f94da0"
   },
   "source": [
    "**- Seperating the features and target column.**"
   ]
  },
  {
   "cell_type": "code",
   "execution_count": 59,
   "id": "bacbd849",
   "metadata": {
    "id": "bacbd849"
   },
   "outputs": [],
   "source": [
    "x = data.drop('status',axis = 1)\n",
    "y = y_train_nm"
   ]
  },
  {
   "cell_type": "markdown",
   "id": "cddb12ab",
   "metadata": {
    "id": "cddb12ab"
   },
   "source": [
    "**- Using Standard Scaler to scale the features.**"
   ]
  },
  {
   "cell_type": "code",
   "execution_count": 60,
   "id": "080a46cd",
   "metadata": {
    "colab": {
     "base_uri": "https://localhost:8080/"
    },
    "id": "080a46cd",
    "outputId": "89f1f8a5-1ca0-4683-e2d3-7d720fd26c5c"
   },
   "outputs": [
    {
     "data": {
      "text/plain": [
       "array([[-1.58512669, -1.23824339,  0.1410165 , ..., -0.10491578,\n",
       "        -1.13509032,  2.2839423 ],\n",
       "       [-1.58511097, -1.23823209,  0.24366203, ..., -0.10491578,\n",
       "        -1.13509032, -0.43783943],\n",
       "       [-1.58501662, -1.23816428,  0.24366203, ..., -0.10491578,\n",
       "         0.88098716, -0.43783943],\n",
       "       ...,\n",
       "       [ 1.50541749, -1.2383112 , -4.78596903, ..., -0.10491578,\n",
       "         0.88098716, -0.43783943],\n",
       "       [ 1.50543321, -1.23829989,  0.24366203, ..., -0.10491578,\n",
       "         0.88098716, -0.43783943],\n",
       "       [ 1.50544894, -1.23828859,  0.1410165 , ..., -0.10491578,\n",
       "         0.88098716, -0.43783943]])"
      ]
     },
     "execution_count": 60,
     "metadata": {},
     "output_type": "execute_result"
    }
   ],
   "source": [
    "scaler = StandardScaler()\n",
    "x_scaled = scaler.fit_transform(x)\n",
    "x_scaled"
   ]
  },
  {
   "cell_type": "markdown",
   "id": "33ca0584",
   "metadata": {
    "id": "33ca0584"
   },
   "source": [
    "### Functions for Testing the accuracy"
   ]
  },
  {
   "cell_type": "code",
   "execution_count": 61,
   "id": "a7330304",
   "metadata": {
    "id": "a7330304"
   },
   "outputs": [],
   "source": [
    "def score(clas, x_train, x_test, y_train, y_test, train = True):\n",
    "    if train:\n",
    "        y_pred = clas.predict(x_train)\n",
    "        print('\\n ----- Train Result ----- \\n')\n",
    "        print('Accuracy Score:', accuracy_score(y_train,y_pred))\n",
    "        print('\\n ----- Classification Report ----- \\n', classification_report(y_train,y_pred))\n",
    "        print('\\n ----- Confusion matrix ----- \\n', confusion_matrix(y_train,y_pred))\n",
    "    \n",
    "    elif train == False:\n",
    "        pred = clas.predict(x_test)\n",
    "        print('\\n ----- Test Result ----- \\n')\n",
    "        print('Accuracy Score:', accuracy_score(y_test,pred))\n",
    "        print('\\n ----- Classification Report ----- \\n', classification_report(y_test,pred))\n",
    "        print('\\n ----- Confusion matrix ----- \\n', confusion_matrix(y_test,pred))"
   ]
  },
  {
   "cell_type": "code",
   "execution_count": 62,
   "id": "7b95d0c0",
   "metadata": {
    "id": "7b95d0c0"
   },
   "outputs": [],
   "source": [
    "def roc_curve_plot(clas, x_test, y_test):\n",
    "    print('Roc Curve')\n",
    "    plot_roc_curve(clas, x_test, y_test) \n",
    "    \n",
    "def confusion_matrix_plot(clas, x_test, y_test):\n",
    "    pred = clas.predict(x_test)\n",
    "    print('Confusion Matrix')\n",
    "    sns.heatmap(confusion_matrix(y_test.values.ravel(),pred), annot=True,fmt=\"d\")\n",
    "    plt.rcParams[\"figure.figsize\"]=(5,5)\n",
    "    plt.show()"
   ]
  },
  {
   "cell_type": "code",
   "execution_count": 63,
   "id": "57a5229a",
   "metadata": {
    "id": "57a5229a"
   },
   "outputs": [],
   "source": [
    "def sample(clas,x_test,x_train):\n",
    "    y_test_pred = clas.predict(x_test)\n",
    "    y_train_pred = clas.predict(x_train)\n",
    "    print('the first 20 samples from dataset: ')\n",
    "    print(y_train_pred[0:20])\n",
    "    print(y_test_pred[0:20])"
   ]
  },
  {
   "cell_type": "markdown",
   "id": "7e07aebb",
   "metadata": {
    "id": "7e07aebb"
   },
   "source": [
    "## Random Forest"
   ]
  },
  {
   "cell_type": "markdown",
   "id": "48774982",
   "metadata": {
    "id": "48774982"
   },
   "source": [
    "### Model Training"
   ]
  },
  {
   "cell_type": "code",
   "execution_count": null,
   "id": "fced1262",
   "metadata": {
    "id": "fced1262",
    "scrolled": true
   },
   "outputs": [],
   "source": [
    "rfc = RandomForestClassifier()"
   ]
  },
  {
   "cell_type": "code",
   "execution_count": null,
   "id": "4e853474",
   "metadata": {
    "id": "4e853474",
    "outputId": "e74e2ce2-5d54-431c-b8a1-ea5eed7439a8"
   },
   "outputs": [
    {
     "name": "stdout",
     "output_type": "stream",
     "text": [
      "At Random state: 0\n",
      "Training score : 100.0\n",
      "Testing score: 94.7\n",
      "At Random state: 1\n",
      "Training score : 100.0\n",
      "Testing score: 94.9\n",
      "At Random state: 2\n",
      "Training score : 100.0\n",
      "Testing score: 94.8\n",
      "At Random state: 3\n",
      "Training score : 100.0\n",
      "Testing score: 95.1\n",
      "At Random state: 4\n",
      "Training score : 100.0\n",
      "Testing score: 94.8\n",
      "At Random state: 5\n",
      "Training score : 100.0\n",
      "Testing score: 94.8\n",
      "At Random state: 6\n",
      "Training score : 100.0\n",
      "Testing score: 94.8\n",
      "At Random state: 7\n",
      "Training score : 100.0\n",
      "Testing score: 94.9\n",
      "At Random state: 8\n",
      "Training score : 100.0\n",
      "Testing score: 95.2\n",
      "At Random state: 9\n",
      "Training score : 100.0\n",
      "Testing score: 95.1\n"
     ]
    }
   ],
   "source": [
    "for i in range(0,10):\n",
    "    x_train,x_test,y_train,y_test = train_test_split(x_scaled, y, random_state = i, test_size = 0.25)\n",
    "    rfc.fit(x_train,y_train)\n",
    "    pred_train = rfc.predict(x_train)\n",
    "    pred_test = rfc.predict(x_test) \n",
    "    if  round(accuracy_score(y_test,pred_test)*100,1) >= 93:\n",
    "        print('At Random state:',i)\n",
    "        print('Training score :',round(accuracy_score(y_train,pred_train)*100,1))\n",
    "        print('Testing score:',round(accuracy_score(y_test,pred_test)*100,1))"
   ]
  },
  {
   "cell_type": "code",
   "execution_count": null,
   "id": "85a06da1",
   "metadata": {
    "id": "85a06da1"
   },
   "outputs": [],
   "source": [
    "x_train,x_test,y_train,y_test = train_test_split(x_scaled, y, test_size = 0.25, random_state = 8)"
   ]
  },
  {
   "cell_type": "markdown",
   "id": "eb2defbb",
   "metadata": {
    "id": "eb2defbb"
   },
   "source": [
    "### Model Accuracy"
   ]
  },
  {
   "cell_type": "code",
   "execution_count": null,
   "id": "83674461",
   "metadata": {
    "id": "83674461",
    "outputId": "16f6cf34-282d-40eb-893e-4aa4d9d728ae",
    "scrolled": false
   },
   "outputs": [
    {
     "name": "stdout",
     "output_type": "stream",
     "text": [
      "\n",
      " ----- Train Result ----- \n",
      "\n",
      "Accuracy Score: 0.9999556058689041\n",
      "\n",
      " ----- Classification Report ----- \n",
      "               precision    recall  f1-score   support\n",
      "\n",
      "           0       1.00      1.00      1.00      3635\n",
      "           1       1.00      1.00      1.00     41416\n",
      "\n",
      "    accuracy                           1.00     45051\n",
      "   macro avg       1.00      1.00      1.00     45051\n",
      "weighted avg       1.00      1.00      1.00     45051\n",
      "\n",
      "\n",
      " ----- Confusion matrix ----- \n",
      " [[ 3633     2]\n",
      " [    0 41416]]\n",
      "\n",
      " ----- Test Result ----- \n",
      "\n",
      "Accuracy Score: 0.9513250765747769\n",
      "\n",
      " ----- Classification Report ----- \n",
      "               precision    recall  f1-score   support\n",
      "\n",
      "           0       0.91      0.43      0.59      1194\n",
      "           1       0.95      1.00      0.97     13824\n",
      "\n",
      "    accuracy                           0.95     15018\n",
      "   macro avg       0.93      0.71      0.78     15018\n",
      "weighted avg       0.95      0.95      0.94     15018\n",
      "\n",
      "\n",
      " ----- Confusion matrix ----- \n",
      " [[  516   678]\n",
      " [   53 13771]]\n"
     ]
    }
   ],
   "source": [
    "rfc.fit(x_train,y_train)\n",
    "score(rfc, x_train, x_test, y_train, y_test, train = True)\n",
    "score(rfc, x_train, x_test, y_train, y_test, train = False)"
   ]
  },
  {
   "cell_type": "code",
   "execution_count": null,
   "id": "215e5ae7",
   "metadata": {
    "id": "215e5ae7",
    "outputId": "50bbf20e-5a90-4c5a-e763-f6ede2ee9329"
   },
   "outputs": [
    {
     "name": "stdout",
     "output_type": "stream",
     "text": [
      "Roc Curve\n"
     ]
    },
    {
     "data": {
      "image/png": "[encoded data removed]",
      "text/plain": [
       "<Figure size 432x288 with 1 Axes>"
      ]
     },
     "metadata": {
      "needs_background": "light"
     },
     "output_type": "display_data"
    }
   ],
   "source": [
    "roc_curve_plot(rfc,x_test, y_test)"
   ]
  },
  {
   "cell_type": "code",
   "execution_count": null,
   "id": "3f8e7a36",
   "metadata": {
    "id": "3f8e7a36",
    "outputId": "1b2c8516-2298-4426-f952-6c393bf9ef88"
   },
   "outputs": [
    {
     "name": "stdout",
     "output_type": "stream",
     "text": [
      "Confusion Matrix\n"
     ]
    },
    {
     "data": {
      "image/png": "[encoded data removed]",
      "text/plain": [
       "<Figure size 432x288 with 2 Axes>"
      ]
     },
     "metadata": {
      "needs_background": "light"
     },
     "output_type": "display_data"
    }
   ],
   "source": [
    "confusion_matrix_plot(rfc,x_test, y_test)"
   ]
  },
  {
   "cell_type": "markdown",
   "id": "aa27dc24",
   "metadata": {
    "id": "aa27dc24"
   },
   "source": [
    "### Prediction"
   ]
  },
  {
   "cell_type": "code",
   "execution_count": null,
   "id": "14a86b12",
   "metadata": {
    "id": "14a86b12",
    "outputId": "15433b03-9836-47b6-d92f-6090c7467e10"
   },
   "outputs": [
    {
     "data": {
      "text/html": [
       "<div>\n",
       "<style scoped>\n",
       "    .dataframe tbody tr th:only-of-type {\n",
       "        vertical-align: middle;\n",
       "    }\n",
       "\n",
       "    .dataframe tbody tr th {\n",
       "        vertical-align: top;\n",
       "    }\n",
       "\n",
       "    .dataframe thead th {\n",
       "        text-align: right;\n",
       "    }\n",
       "</style>\n",
       "<table border=\"1\" class=\"dataframe\">\n",
       "  <thead>\n",
       "    <tr style=\"text-align: right;\">\n",
       "      <th></th>\n",
       "      <th>Original</th>\n",
       "      <th>Predicted</th>\n",
       "    </tr>\n",
       "  </thead>\n",
       "  <tbody>\n",
       "    <tr>\n",
       "      <th>0</th>\n",
       "      <td>1</td>\n",
       "      <td>1</td>\n",
       "    </tr>\n",
       "    <tr>\n",
       "      <th>1</th>\n",
       "      <td>1</td>\n",
       "      <td>1</td>\n",
       "    </tr>\n",
       "    <tr>\n",
       "      <th>2</th>\n",
       "      <td>1</td>\n",
       "      <td>1</td>\n",
       "    </tr>\n",
       "    <tr>\n",
       "      <th>3</th>\n",
       "      <td>1</td>\n",
       "      <td>1</td>\n",
       "    </tr>\n",
       "    <tr>\n",
       "      <th>4</th>\n",
       "      <td>1</td>\n",
       "      <td>1</td>\n",
       "    </tr>\n",
       "    <tr>\n",
       "      <th>...</th>\n",
       "      <td>...</td>\n",
       "      <td>...</td>\n",
       "    </tr>\n",
       "    <tr>\n",
       "      <th>15013</th>\n",
       "      <td>0</td>\n",
       "      <td>1</td>\n",
       "    </tr>\n",
       "    <tr>\n",
       "      <th>15014</th>\n",
       "      <td>1</td>\n",
       "      <td>1</td>\n",
       "    </tr>\n",
       "    <tr>\n",
       "      <th>15015</th>\n",
       "      <td>1</td>\n",
       "      <td>1</td>\n",
       "    </tr>\n",
       "    <tr>\n",
       "      <th>15016</th>\n",
       "      <td>1</td>\n",
       "      <td>1</td>\n",
       "    </tr>\n",
       "    <tr>\n",
       "      <th>15017</th>\n",
       "      <td>1</td>\n",
       "      <td>1</td>\n",
       "    </tr>\n",
       "  </tbody>\n",
       "</table>\n",
       "<p>15018 rows × 2 columns</p>\n",
       "</div>"
      ],
      "text/plain": [
       "       Original  Predicted\n",
       "0             1          1\n",
       "1             1          1\n",
       "2             1          1\n",
       "3             1          1\n",
       "4             1          1\n",
       "...         ...        ...\n",
       "15013         0          1\n",
       "15014         1          1\n",
       "15015         1          1\n",
       "15016         1          1\n",
       "15017         1          1\n",
       "\n",
       "[15018 rows x 2 columns]"
      ]
     },
     "execution_count": 78,
     "metadata": {},
     "output_type": "execute_result"
    }
   ],
   "source": [
    "a_rfc = np.array(y_test)\n",
    "predicted_rfc = np.array(rfc.predict(x_test))\n",
    "df_rfc = pd.DataFrame({'Original':a_rfc,'Predicted':predicted_rfc})\n",
    "df_rfc"
   ]
  },
  {
   "cell_type": "markdown",
   "id": "4c64d429",
   "metadata": {
    "id": "4c64d429"
   },
   "source": [
    "## Hyperparameter Tuning"
   ]
  },
  {
   "cell_type": "markdown",
   "id": "256f46a3",
   "metadata": {
    "id": "256f46a3"
   },
   "source": [
    "**- RandomizedSearchCV.**"
   ]
  },
  {
   "cell_type": "code",
   "execution_count": null,
   "id": "67525abc",
   "metadata": {
    "id": "67525abc"
   },
   "outputs": [],
   "source": [
    "n_estimators = [int(X) for X in np.linspace(start=100,stop=2000,num=10)]\n",
    "max_features = ['auto','sqrt','log2']\n",
    "max_depth = [int(X) for X in np.linspace(5,100,15)]\n",
    "min_samples_split = [2,5,10,20,50]\n",
    "min_samples_leaf = [2,6,10,20,40]"
   ]
  },
  {
   "cell_type": "code",
   "execution_count": null,
   "id": "e588b9d3",
   "metadata": {
    "id": "e588b9d3"
   },
   "outputs": [],
   "source": [
    "rf_base = RandomForestClassifier()"
   ]
  },
  {
   "cell_type": "code",
   "execution_count": null,
   "id": "27f1c936",
   "metadata": {
    "id": "27f1c936"
   },
   "outputs": [],
   "source": [
    "random_grid = {'n_estimators':n_estimators,\n",
    "               'max_depth':max_depth,\n",
    "               'min_samples_split':min_samples_split,\n",
    "               'min_samples_leaf':min_samples_leaf,\n",
    "               'max_features':max_features}"
   ]
  },
  {
   "cell_type": "code",
   "execution_count": null,
   "id": "13a341a4",
   "metadata": {
    "id": "13a341a4",
    "outputId": "16a80031-516e-474c-dbd0-b595698320e5",
    "scrolled": true
   },
   "outputs": [
    {
     "name": "stdout",
     "output_type": "stream",
     "text": [
      "Fitting 2 folds for each of 10 candidates, totalling 20 fits\n",
      "[CV] END max_depth=11, max_features=log2, min_samples_leaf=2, min_samples_split=20, n_estimators=2000; total time=  45.5s\n",
      "[CV] END max_depth=11, max_features=log2, min_samples_leaf=2, min_samples_split=20, n_estimators=2000; total time=  38.1s\n",
      "[CV] END max_depth=66, max_features=log2, min_samples_leaf=2, min_samples_split=50, n_estimators=733; total time=  18.9s\n",
      "[CV] END max_depth=66, max_features=log2, min_samples_leaf=2, min_samples_split=50, n_estimators=733; total time=  22.3s\n",
      "[CV] END max_depth=11, max_features=log2, min_samples_leaf=6, min_samples_split=50, n_estimators=944; total time=  24.8s\n",
      "[CV] END max_depth=11, max_features=log2, min_samples_leaf=6, min_samples_split=50, n_estimators=944; total time=  22.3s\n",
      "[CV] END max_depth=66, max_features=log2, min_samples_leaf=2, min_samples_split=50, n_estimators=311; total time=   9.3s\n",
      "[CV] END max_depth=66, max_features=log2, min_samples_leaf=2, min_samples_split=50, n_estimators=311; total time=   8.7s\n",
      "[CV] END max_depth=86, max_features=sqrt, min_samples_leaf=10, min_samples_split=10, n_estimators=522; total time=  16.1s\n",
      "[CV] END max_depth=86, max_features=sqrt, min_samples_leaf=10, min_samples_split=10, n_estimators=522; total time=  14.8s\n",
      "[CV] END max_depth=93, max_features=sqrt, min_samples_leaf=40, min_samples_split=2, n_estimators=311; total time=   6.5s\n",
      "[CV] END max_depth=93, max_features=sqrt, min_samples_leaf=40, min_samples_split=2, n_estimators=311; total time=   6.3s\n",
      "[CV] END max_depth=45, max_features=sqrt, min_samples_leaf=6, min_samples_split=10, n_estimators=2000; total time= 1.1min\n",
      "[CV] END max_depth=45, max_features=sqrt, min_samples_leaf=6, min_samples_split=10, n_estimators=2000; total time=  58.0s\n",
      "[CV] END max_depth=18, max_features=auto, min_samples_leaf=2, min_samples_split=10, n_estimators=100; total time=   3.5s\n",
      "[CV] END max_depth=18, max_features=auto, min_samples_leaf=2, min_samples_split=10, n_estimators=100; total time=   2.8s\n",
      "[CV] END max_depth=93, max_features=sqrt, min_samples_leaf=10, min_samples_split=50, n_estimators=311; total time=   9.9s\n",
      "[CV] END max_depth=93, max_features=sqrt, min_samples_leaf=10, min_samples_split=50, n_estimators=311; total time=   7.9s\n",
      "[CV] END max_depth=93, max_features=sqrt, min_samples_leaf=40, min_samples_split=20, n_estimators=944; total time=  19.5s\n",
      "[CV] END max_depth=93, max_features=sqrt, min_samples_leaf=40, min_samples_split=20, n_estimators=944; total time=  23.8s\n"
     ]
    },
    {
     "data": {
      "text/html": [
       "<style>#sk-container-id-3 {color: black;background-color: white;}#sk-container-id-3 pre{padding: 0;}#sk-container-id-3 div.sk-toggleable {background-color: white;}#sk-container-id-3 label.sk-toggleable__label {cursor: pointer;display: block;width: 100%;margin-bottom: 0;padding: 0.3em;box-sizing: border-box;text-align: center;}#sk-container-id-3 label.sk-toggleable__label-arrow:before {content: \"▸\";float: left;margin-right: 0.25em;color: #696969;}#sk-container-id-3 label.sk-toggleable__label-arrow:hover:before {color: black;}#sk-container-id-3 div.sk-estimator:hover label.sk-toggleable__label-arrow:before {color: black;}#sk-container-id-3 div.sk-toggleable__content {max-height: 0;max-width: 0;overflow: hidden;text-align: left;background-color: #f0f8ff;}#sk-container-id-3 div.sk-toggleable__content pre {margin: 0.2em;color: black;border-radius: 0.25em;background-color: #f0f8ff;}#sk-container-id-3 input.sk-toggleable__control:checked~div.sk-toggleable__content {max-height: 200px;max-width: 100%;overflow: auto;}#sk-container-id-3 input.sk-toggleable__control:checked~label.sk-toggleable__label-arrow:before {content: \"▾\";}#sk-container-id-3 div.sk-estimator input.sk-toggleable__control:checked~label.sk-toggleable__label {background-color: #d4ebff;}#sk-container-id-3 div.sk-label input.sk-toggleable__control:checked~label.sk-toggleable__label {background-color: #d4ebff;}#sk-container-id-3 input.sk-hidden--visually {border: 0;clip: rect(1px 1px 1px 1px);clip: rect(1px, 1px, 1px, 1px);height: 1px;margin: -1px;overflow: hidden;padding: 0;position: absolute;width: 1px;}#sk-container-id-3 div.sk-estimator {font-family: monospace;background-color: #f0f8ff;border: 1px dotted black;border-radius: 0.25em;box-sizing: border-box;margin-bottom: 0.5em;}#sk-container-id-3 div.sk-estimator:hover {background-color: #d4ebff;}#sk-container-id-3 div.sk-parallel-item::after {content: \"\";width: 100%;border-bottom: 1px solid gray;flex-grow: 1;}#sk-container-id-3 div.sk-label:hover label.sk-toggleable__label {background-color: #d4ebff;}#sk-container-id-3 div.sk-serial::before {content: \"\";position: absolute;border-left: 1px solid gray;box-sizing: border-box;top: 0;bottom: 0;left: 50%;z-index: 0;}#sk-container-id-3 div.sk-serial {display: flex;flex-direction: column;align-items: center;background-color: white;padding-right: 0.2em;padding-left: 0.2em;position: relative;}#sk-container-id-3 div.sk-item {position: relative;z-index: 1;}#sk-container-id-3 div.sk-parallel {display: flex;align-items: stretch;justify-content: center;background-color: white;position: relative;}#sk-container-id-3 div.sk-item::before, #sk-container-id-3 div.sk-parallel-item::before {content: \"\";position: absolute;border-left: 1px solid gray;box-sizing: border-box;top: 0;bottom: 0;left: 50%;z-index: -1;}#sk-container-id-3 div.sk-parallel-item {display: flex;flex-direction: column;z-index: 1;position: relative;background-color: white;}#sk-container-id-3 div.sk-parallel-item:first-child::after {align-self: flex-end;width: 50%;}#sk-container-id-3 div.sk-parallel-item:last-child::after {align-self: flex-start;width: 50%;}#sk-container-id-3 div.sk-parallel-item:only-child::after {width: 0;}#sk-container-id-3 div.sk-dashed-wrapped {border: 1px dashed gray;margin: 0 0.4em 0.5em 0.4em;box-sizing: border-box;padding-bottom: 0.4em;background-color: white;}#sk-container-id-3 div.sk-label label {font-family: monospace;font-weight: bold;display: inline-block;line-height: 1.2em;}#sk-container-id-3 div.sk-label-container {text-align: center;}#sk-container-id-3 div.sk-container {/* jupyter's `normalize.less` sets `[hidden] { display: none; }` but bootstrap.min.css set `[hidden] { display: none !important; }` so we also need the `!important` here to be able to override the default hidden behavior on the sphinx rendered scikit-learn.org. See: https://github.com/scikit-learn/scikit-learn/issues/21755 */display: inline-block !important;position: relative;}#sk-container-id-3 div.sk-text-repr-fallback {display: none;}</style><div id=\"sk-container-id-3\" class=\"sk-top-container\"><div class=\"sk-text-repr-fallback\"><pre>RandomizedSearchCV(cv=2, estimator=RandomForestClassifier(),\n",
       "                   param_distributions={&#x27;max_depth&#x27;: [5, 11, 18, 25, 32, 38, 45,\n",
       "                                                      52, 59, 66, 72, 79, 86,\n",
       "                                                      93, 100],\n",
       "                                        &#x27;max_features&#x27;: [&#x27;auto&#x27;, &#x27;sqrt&#x27;,\n",
       "                                                         &#x27;log2&#x27;],\n",
       "                                        &#x27;min_samples_leaf&#x27;: [2, 6, 10, 20, 40],\n",
       "                                        &#x27;min_samples_split&#x27;: [2, 5, 10, 20, 50],\n",
       "                                        &#x27;n_estimators&#x27;: [100, 311, 522, 733,\n",
       "                                                         944, 1155, 1366, 1577,\n",
       "                                                         1788, 2000]},\n",
       "                   random_state=10, scoring=&#x27;neg_mean_squared_error&#x27;,\n",
       "                   verbose=2)</pre><b>In a Jupyter environment, please rerun this cell to show the HTML representation or trust the notebook. <br />On GitHub, the HTML representation is unable to render, please try loading this page with nbviewer.org.</b></div><div class=\"sk-container\" hidden><div class=\"sk-item sk-dashed-wrapped\"><div class=\"sk-label-container\"><div class=\"sk-label sk-toggleable\"><input class=\"sk-toggleable__control sk-hidden--visually\" id=\"sk-estimator-id-3\" type=\"checkbox\" ><label for=\"sk-estimator-id-3\" class=\"sk-toggleable__label sk-toggleable__label-arrow\">RandomizedSearchCV</label><div class=\"sk-toggleable__content\"><pre>RandomizedSearchCV(cv=2, estimator=RandomForestClassifier(),\n",
       "                   param_distributions={&#x27;max_depth&#x27;: [5, 11, 18, 25, 32, 38, 45,\n",
       "                                                      52, 59, 66, 72, 79, 86,\n",
       "                                                      93, 100],\n",
       "                                        &#x27;max_features&#x27;: [&#x27;auto&#x27;, &#x27;sqrt&#x27;,\n",
       "                                                         &#x27;log2&#x27;],\n",
       "                                        &#x27;min_samples_leaf&#x27;: [2, 6, 10, 20, 40],\n",
       "                                        &#x27;min_samples_split&#x27;: [2, 5, 10, 20, 50],\n",
       "                                        &#x27;n_estimators&#x27;: [100, 311, 522, 733,\n",
       "                                                         944, 1155, 1366, 1577,\n",
       "                                                         1788, 2000]},\n",
       "                   random_state=10, scoring=&#x27;neg_mean_squared_error&#x27;,\n",
       "                   verbose=2)</pre></div></div></div><div class=\"sk-parallel\"><div class=\"sk-parallel-item\"><div class=\"sk-item\"><div class=\"sk-label-container\"><div class=\"sk-label sk-toggleable\"><input class=\"sk-toggleable__control sk-hidden--visually\" id=\"sk-estimator-id-4\" type=\"checkbox\" ><label for=\"sk-estimator-id-4\" class=\"sk-toggleable__label sk-toggleable__label-arrow\">estimator: RandomForestClassifier</label><div class=\"sk-toggleable__content\"><pre>RandomForestClassifier()</pre></div></div></div><div class=\"sk-serial\"><div class=\"sk-item\"><div class=\"sk-estimator sk-toggleable\"><input class=\"sk-toggleable__control sk-hidden--visually\" id=\"sk-estimator-id-5\" type=\"checkbox\" ><label for=\"sk-estimator-id-5\" class=\"sk-toggleable__label sk-toggleable__label-arrow\">RandomForestClassifier</label><div class=\"sk-toggleable__content\"><pre>RandomForestClassifier()</pre></div></div></div></div></div></div></div></div></div></div>"
      ],
      "text/plain": [
       "RandomizedSearchCV(cv=2, estimator=RandomForestClassifier(),\n",
       "                   param_distributions={'max_depth': [5, 11, 18, 25, 32, 38, 45,\n",
       "                                                      52, 59, 66, 72, 79, 86,\n",
       "                                                      93, 100],\n",
       "                                        'max_features': ['auto', 'sqrt',\n",
       "                                                         'log2'],\n",
       "                                        'min_samples_leaf': [2, 6, 10, 20, 40],\n",
       "                                        'min_samples_split': [2, 5, 10, 20, 50],\n",
       "                                        'n_estimators': [100, 311, 522, 733,\n",
       "                                                         944, 1155, 1366, 1577,\n",
       "                                                         1788, 2000]},\n",
       "                   random_state=10, scoring='neg_mean_squared_error',\n",
       "                   verbose=2)"
      ]
     },
     "execution_count": 106,
     "metadata": {},
     "output_type": "execute_result"
    }
   ],
   "source": [
    "rf_tuned = RandomizedSearchCV(rf_base,param_distributions=random_grid,scoring='neg_mean_squared_error',cv=2,verbose=2,random_state=10)\n",
    "rf_tuned.fit(x_train,y_train)"
   ]
  },
  {
   "cell_type": "code",
   "execution_count": null,
   "id": "b07d10b0",
   "metadata": {
    "id": "b07d10b0",
    "outputId": "ff734909-0870-403b-c184-6e37e0980d46"
   },
   "outputs": [
    {
     "data": {
      "text/plain": [
       "{'n_estimators': 100,\n",
       " 'min_samples_split': 10,\n",
       " 'min_samples_leaf': 2,\n",
       " 'max_features': 'auto',\n",
       " 'max_depth': 18}"
      ]
     },
     "execution_count": 107,
     "metadata": {},
     "output_type": "execute_result"
    }
   ],
   "source": [
    "rf_tuned.best_params_"
   ]
  },
  {
   "cell_type": "code",
   "execution_count": null,
   "id": "a70ae2fd",
   "metadata": {
    "id": "a70ae2fd"
   },
   "outputs": [],
   "source": [
    "rf_tun = RandomForestClassifier(n_estimators = 100, min_samples_split = 10, min_samples_leaf = 2, max_features= 'auto',max_depth = 18)"
   ]
  },
  {
   "cell_type": "code",
   "execution_count": null,
   "id": "b291a545",
   "metadata": {
    "id": "b291a545",
    "outputId": "66e85a1a-6ab2-4414-fe57-5ffe4a1f8fde"
   },
   "outputs": [
    {
     "name": "stdout",
     "output_type": "stream",
     "text": [
      "\n",
      " ----- Train Result ----- \n",
      "\n",
      "Accuracy Score: 0.9548067745444052\n",
      "\n",
      " ----- Classification Report ----- \n",
      "               precision    recall  f1-score   support\n",
      "\n",
      "           0       0.98      0.45      0.62      3635\n",
      "           1       0.95      1.00      0.98     41416\n",
      "\n",
      "    accuracy                           0.95     45051\n",
      "   macro avg       0.97      0.72      0.80     45051\n",
      "weighted avg       0.96      0.95      0.95     45051\n",
      "\n",
      "\n",
      " ----- Confusion matrix ----- \n",
      " [[ 1627  2008]\n",
      " [   28 41388]]\n",
      "\n",
      " ----- Test Result ----- \n",
      "\n",
      "Accuracy Score: 0.9509921427620189\n",
      "\n",
      " ----- Classification Report ----- \n",
      "               precision    recall  f1-score   support\n",
      "\n",
      "           0       0.95      0.40      0.57      1194\n",
      "           1       0.95      1.00      0.97     13824\n",
      "\n",
      "    accuracy                           0.95     15018\n",
      "   macro avg       0.95      0.70      0.77     15018\n",
      "weighted avg       0.95      0.95      0.94     15018\n",
      "\n",
      "\n",
      " ----- Confusion matrix ----- \n",
      " [[  482   712]\n",
      " [   24 13800]]\n"
     ]
    }
   ],
   "source": [
    "rf_tun.fit(x_train, y_train)\n",
    "score(rf_tun, x_train, x_test, y_train, y_test, train = True)\n",
    "score(rf_tun, x_train, x_test, y_train, y_test, train = False)"
   ]
  },
  {
   "cell_type": "markdown",
   "id": "c4b445ca",
   "metadata": {
    "id": "c4b445ca"
   },
   "source": [
    "**- GridSearchCV.**"
   ]
  },
  {
   "cell_type": "code",
   "execution_count": null,
   "id": "482675fe",
   "metadata": {
    "id": "482675fe"
   },
   "outputs": [],
   "source": [
    "n_estimators_list = [130,160,190]\n",
    "criterion_list = ['gini']\n",
    "max_depth_list = [35,55]\n",
    "min_samples_split_list = [0.001, 0.005]\n",
    "min_samples_leaf_list = [0.001, 0.005]\n",
    "max_features_list = ['log2']"
   ]
  },
  {
   "cell_type": "code",
   "execution_count": null,
   "id": "4560ce69",
   "metadata": {
    "id": "4560ce69"
   },
   "outputs": [],
   "source": [
    "params_grid = {'n_estimators': n_estimators_list,\n",
    "               'criterion': criterion_list,\n",
    "               'max_depth': max_depth_list,\n",
    "               'min_samples_split': min_samples_split_list,\n",
    "               'min_samples_leaf': min_samples_leaf_list,\n",
    "               'max_features': max_features_list}"
   ]
  },
  {
   "cell_type": "code",
   "execution_count": null,
   "id": "d611115d",
   "metadata": {
    "id": "d611115d",
    "outputId": "a627effd-2393-4ec0-eee3-19ba251a6b52"
   },
   "outputs": [
    {
     "name": "stdout",
     "output_type": "stream",
     "text": [
      "Fitting 3 folds for each of 24 candidates, totalling 72 fits\n",
      "[CV 1/3] END criterion=gini, max_depth=35, max_features=log2, min_samples_leaf=0.001, min_samples_split=0.001, n_estimators=130;, score=0.839 total time=   6.1s\n",
      "[CV 2/3] END criterion=gini, max_depth=35, max_features=log2, min_samples_leaf=0.001, min_samples_split=0.001, n_estimators=130;, score=0.842 total time=   8.0s\n",
      "[CV 3/3] END criterion=gini, max_depth=35, max_features=log2, min_samples_leaf=0.001, min_samples_split=0.001, n_estimators=130;, score=0.835 total time=   5.0s\n",
      "[CV 1/3] END criterion=gini, max_depth=35, max_features=log2, min_samples_leaf=0.001, min_samples_split=0.001, n_estimators=160;, score=0.839 total time=   4.6s\n",
      "[CV 2/3] END criterion=gini, max_depth=35, max_features=log2, min_samples_leaf=0.001, min_samples_split=0.001, n_estimators=160;, score=0.844 total time=   4.1s\n",
      "[CV 3/3] END criterion=gini, max_depth=35, max_features=log2, min_samples_leaf=0.001, min_samples_split=0.001, n_estimators=160;, score=0.836 total time=   4.2s\n",
      "[CV 1/3] END criterion=gini, max_depth=35, max_features=log2, min_samples_leaf=0.001, min_samples_split=0.001, n_estimators=190;, score=0.839 total time=   4.8s\n",
      "[CV 2/3] END criterion=gini, max_depth=35, max_features=log2, min_samples_leaf=0.001, min_samples_split=0.001, n_estimators=190;, score=0.844 total time=   5.1s\n",
      "[CV 3/3] END criterion=gini, max_depth=35, max_features=log2, min_samples_leaf=0.001, min_samples_split=0.001, n_estimators=190;, score=0.834 total time=   5.5s\n",
      "[CV 1/3] END criterion=gini, max_depth=35, max_features=log2, min_samples_leaf=0.001, min_samples_split=0.005, n_estimators=130;, score=0.830 total time=   3.3s\n",
      "[CV 2/3] END criterion=gini, max_depth=35, max_features=log2, min_samples_leaf=0.001, min_samples_split=0.005, n_estimators=130;, score=0.830 total time=   3.2s\n",
      "[CV 3/3] END criterion=gini, max_depth=35, max_features=log2, min_samples_leaf=0.001, min_samples_split=0.005, n_estimators=130;, score=0.826 total time=   4.7s\n",
      "[CV 1/3] END criterion=gini, max_depth=35, max_features=log2, min_samples_leaf=0.001, min_samples_split=0.005, n_estimators=160;, score=0.828 total time=   6.4s\n",
      "[CV 2/3] END criterion=gini, max_depth=35, max_features=log2, min_samples_leaf=0.001, min_samples_split=0.005, n_estimators=160;, score=0.833 total time=   4.2s\n",
      "[CV 3/3] END criterion=gini, max_depth=35, max_features=log2, min_samples_leaf=0.001, min_samples_split=0.005, n_estimators=160;, score=0.826 total time=   4.1s\n",
      "[CV 1/3] END criterion=gini, max_depth=35, max_features=log2, min_samples_leaf=0.001, min_samples_split=0.005, n_estimators=190;, score=0.829 total time=   8.0s\n",
      "[CV 2/3] END criterion=gini, max_depth=35, max_features=log2, min_samples_leaf=0.001, min_samples_split=0.005, n_estimators=190;, score=0.832 total time=   7.2s\n",
      "[CV 3/3] END criterion=gini, max_depth=35, max_features=log2, min_samples_leaf=0.001, min_samples_split=0.005, n_estimators=190;, score=0.826 total time=   5.9s\n",
      "[CV 1/3] END criterion=gini, max_depth=35, max_features=log2, min_samples_leaf=0.005, min_samples_split=0.001, n_estimators=130;, score=0.795 total time=   2.7s\n",
      "[CV 2/3] END criterion=gini, max_depth=35, max_features=log2, min_samples_leaf=0.005, min_samples_split=0.001, n_estimators=130;, score=0.783 total time=   3.5s\n",
      "[CV 3/3] END criterion=gini, max_depth=35, max_features=log2, min_samples_leaf=0.005, min_samples_split=0.001, n_estimators=130;, score=0.788 total time=   4.2s\n",
      "[CV 1/3] END criterion=gini, max_depth=35, max_features=log2, min_samples_leaf=0.005, min_samples_split=0.001, n_estimators=160;, score=0.790 total time=   4.5s\n",
      "[CV 2/3] END criterion=gini, max_depth=35, max_features=log2, min_samples_leaf=0.005, min_samples_split=0.001, n_estimators=160;, score=0.787 total time=   3.2s\n",
      "[CV 3/3] END criterion=gini, max_depth=35, max_features=log2, min_samples_leaf=0.005, min_samples_split=0.001, n_estimators=160;, score=0.785 total time=   3.3s\n",
      "[CV 1/3] END criterion=gini, max_depth=35, max_features=log2, min_samples_leaf=0.005, min_samples_split=0.001, n_estimators=190;, score=0.789 total time=   6.3s\n",
      "[CV 2/3] END criterion=gini, max_depth=35, max_features=log2, min_samples_leaf=0.005, min_samples_split=0.001, n_estimators=190;, score=0.785 total time=   7.3s\n",
      "[CV 3/3] END criterion=gini, max_depth=35, max_features=log2, min_samples_leaf=0.005, min_samples_split=0.001, n_estimators=190;, score=0.787 total time=   5.3s\n",
      "[CV 1/3] END criterion=gini, max_depth=35, max_features=log2, min_samples_leaf=0.005, min_samples_split=0.005, n_estimators=130;, score=0.792 total time=   3.1s\n",
      "[CV 2/3] END criterion=gini, max_depth=35, max_features=log2, min_samples_leaf=0.005, min_samples_split=0.005, n_estimators=130;, score=0.784 total time=   2.9s\n",
      "[CV 3/3] END criterion=gini, max_depth=35, max_features=log2, min_samples_leaf=0.005, min_samples_split=0.005, n_estimators=130;, score=0.787 total time=   3.8s\n",
      "[CV 1/3] END criterion=gini, max_depth=35, max_features=log2, min_samples_leaf=0.005, min_samples_split=0.005, n_estimators=160;, score=0.791 total time=   6.4s\n",
      "[CV 2/3] END criterion=gini, max_depth=35, max_features=log2, min_samples_leaf=0.005, min_samples_split=0.005, n_estimators=160;, score=0.786 total time=   4.5s\n",
      "[CV 3/3] END criterion=gini, max_depth=35, max_features=log2, min_samples_leaf=0.005, min_samples_split=0.005, n_estimators=160;, score=0.786 total time=   5.3s\n",
      "[CV 1/3] END criterion=gini, max_depth=35, max_features=log2, min_samples_leaf=0.005, min_samples_split=0.005, n_estimators=190;, score=0.795 total time=   5.0s\n",
      "[CV 2/3] END criterion=gini, max_depth=35, max_features=log2, min_samples_leaf=0.005, min_samples_split=0.005, n_estimators=190;, score=0.789 total time=   7.6s\n",
      "[CV 3/3] END criterion=gini, max_depth=35, max_features=log2, min_samples_leaf=0.005, min_samples_split=0.005, n_estimators=190;, score=0.788 total time=   6.1s\n",
      "[CV 1/3] END criterion=gini, max_depth=55, max_features=log2, min_samples_leaf=0.001, min_samples_split=0.001, n_estimators=130;, score=0.838 total time=   4.1s\n",
      "[CV 2/3] END criterion=gini, max_depth=55, max_features=log2, min_samples_leaf=0.001, min_samples_split=0.001, n_estimators=130;, score=0.842 total time=   3.9s\n",
      "[CV 3/3] END criterion=gini, max_depth=55, max_features=log2, min_samples_leaf=0.001, min_samples_split=0.001, n_estimators=130;, score=0.834 total time=   6.7s\n",
      "[CV 1/3] END criterion=gini, max_depth=55, max_features=log2, min_samples_leaf=0.001, min_samples_split=0.001, n_estimators=160;, score=0.840 total time=   4.9s\n",
      "[CV 2/3] END criterion=gini, max_depth=55, max_features=log2, min_samples_leaf=0.001, min_samples_split=0.001, n_estimators=160;, score=0.843 total time=   4.0s\n",
      "[CV 3/3] END criterion=gini, max_depth=55, max_features=log2, min_samples_leaf=0.001, min_samples_split=0.001, n_estimators=160;, score=0.836 total time=   4.1s\n",
      "[CV 1/3] END criterion=gini, max_depth=55, max_features=log2, min_samples_leaf=0.001, min_samples_split=0.001, n_estimators=190;, score=0.842 total time=   5.2s\n",
      "[CV 2/3] END criterion=gini, max_depth=55, max_features=log2, min_samples_leaf=0.001, min_samples_split=0.001, n_estimators=190;, score=0.846 total time=   4.9s\n",
      "[CV 3/3] END criterion=gini, max_depth=55, max_features=log2, min_samples_leaf=0.001, min_samples_split=0.001, n_estimators=190;, score=0.836 total time=   5.0s\n",
      "[CV 1/3] END criterion=gini, max_depth=55, max_features=log2, min_samples_leaf=0.001, min_samples_split=0.005, n_estimators=130;, score=0.831 total time=   3.3s\n",
      "[CV 2/3] END criterion=gini, max_depth=55, max_features=log2, min_samples_leaf=0.001, min_samples_split=0.005, n_estimators=130;, score=0.835 total time=   3.4s\n",
      "[CV 3/3] END criterion=gini, max_depth=55, max_features=log2, min_samples_leaf=0.001, min_samples_split=0.005, n_estimators=130;, score=0.825 total time=   3.3s\n",
      "[CV 1/3] END criterion=gini, max_depth=55, max_features=log2, min_samples_leaf=0.001, min_samples_split=0.005, n_estimators=160;, score=0.829 total time=   4.1s\n",
      "[CV 2/3] END criterion=gini, max_depth=55, max_features=log2, min_samples_leaf=0.001, min_samples_split=0.005, n_estimators=160;, score=0.835 total time=   4.0s\n",
      "[CV 3/3] END criterion=gini, max_depth=55, max_features=log2, min_samples_leaf=0.001, min_samples_split=0.005, n_estimators=160;, score=0.825 total time=   4.3s\n",
      "[CV 1/3] END criterion=gini, max_depth=55, max_features=log2, min_samples_leaf=0.001, min_samples_split=0.005, n_estimators=190;, score=0.829 total time=   5.0s\n",
      "[CV 2/3] END criterion=gini, max_depth=55, max_features=log2, min_samples_leaf=0.001, min_samples_split=0.005, n_estimators=190;, score=0.832 total time=   7.3s\n",
      "[CV 3/3] END criterion=gini, max_depth=55, max_features=log2, min_samples_leaf=0.001, min_samples_split=0.005, n_estimators=190;, score=0.827 total time=   4.9s\n",
      "[CV 1/3] END criterion=gini, max_depth=55, max_features=log2, min_samples_leaf=0.005, min_samples_split=0.001, n_estimators=130;, score=0.793 total time=   2.7s\n",
      "[CV 2/3] END criterion=gini, max_depth=55, max_features=log2, min_samples_leaf=0.005, min_samples_split=0.001, n_estimators=130;, score=0.780 total time=   2.8s\n",
      "[CV 3/3] END criterion=gini, max_depth=55, max_features=log2, min_samples_leaf=0.005, min_samples_split=0.001, n_estimators=130;, score=0.787 total time=   2.9s\n",
      "[CV 1/3] END criterion=gini, max_depth=55, max_features=log2, min_samples_leaf=0.005, min_samples_split=0.001, n_estimators=160;, score=0.789 total time=   3.3s\n",
      "[CV 2/3] END criterion=gini, max_depth=55, max_features=log2, min_samples_leaf=0.005, min_samples_split=0.001, n_estimators=160;, score=0.790 total time=   3.4s\n",
      "[CV 3/3] END criterion=gini, max_depth=55, max_features=log2, min_samples_leaf=0.005, min_samples_split=0.001, n_estimators=160;, score=0.787 total time=   3.8s\n",
      "[CV 1/3] END criterion=gini, max_depth=55, max_features=log2, min_samples_leaf=0.005, min_samples_split=0.001, n_estimators=190;, score=0.796 total time=   3.9s\n",
      "[CV 2/3] END criterion=gini, max_depth=55, max_features=log2, min_samples_leaf=0.005, min_samples_split=0.001, n_estimators=190;, score=0.790 total time=   7.8s\n",
      "[CV 3/3] END criterion=gini, max_depth=55, max_features=log2, min_samples_leaf=0.005, min_samples_split=0.001, n_estimators=190;, score=0.787 total time=   4.3s\n",
      "[CV 1/3] END criterion=gini, max_depth=55, max_features=log2, min_samples_leaf=0.005, min_samples_split=0.005, n_estimators=130;, score=0.788 total time=   3.1s\n",
      "[CV 2/3] END criterion=gini, max_depth=55, max_features=log2, min_samples_leaf=0.005, min_samples_split=0.005, n_estimators=130;, score=0.787 total time=   3.2s\n",
      "[CV 3/3] END criterion=gini, max_depth=55, max_features=log2, min_samples_leaf=0.005, min_samples_split=0.005, n_estimators=130;, score=0.791 total time=   3.5s\n",
      "[CV 1/3] END criterion=gini, max_depth=55, max_features=log2, min_samples_leaf=0.005, min_samples_split=0.005, n_estimators=160;, score=0.789 total time=   4.1s\n",
      "[CV 2/3] END criterion=gini, max_depth=55, max_features=log2, min_samples_leaf=0.005, min_samples_split=0.005, n_estimators=160;, score=0.789 total time=   6.1s\n",
      "[CV 3/3] END criterion=gini, max_depth=55, max_features=log2, min_samples_leaf=0.005, min_samples_split=0.005, n_estimators=160;, score=0.788 total time=   4.3s\n",
      "[CV 1/3] END criterion=gini, max_depth=55, max_features=log2, min_samples_leaf=0.005, min_samples_split=0.005, n_estimators=190;, score=0.797 total time=   4.6s\n",
      "[CV 2/3] END criterion=gini, max_depth=55, max_features=log2, min_samples_leaf=0.005, min_samples_split=0.005, n_estimators=190;, score=0.782 total time=   5.1s\n",
      "[CV 3/3] END criterion=gini, max_depth=55, max_features=log2, min_samples_leaf=0.005, min_samples_split=0.005, n_estimators=190;, score=0.785 total time=   4.1s\n"
     ]
    },
    {
     "data": {
      "text/html": [
       "<style>#sk-container-id-4 {color: black;background-color: white;}#sk-container-id-4 pre{padding: 0;}#sk-container-id-4 div.sk-toggleable {background-color: white;}#sk-container-id-4 label.sk-toggleable__label {cursor: pointer;display: block;width: 100%;margin-bottom: 0;padding: 0.3em;box-sizing: border-box;text-align: center;}#sk-container-id-4 label.sk-toggleable__label-arrow:before {content: \"▸\";float: left;margin-right: 0.25em;color: #696969;}#sk-container-id-4 label.sk-toggleable__label-arrow:hover:before {color: black;}#sk-container-id-4 div.sk-estimator:hover label.sk-toggleable__label-arrow:before {color: black;}#sk-container-id-4 div.sk-toggleable__content {max-height: 0;max-width: 0;overflow: hidden;text-align: left;background-color: #f0f8ff;}#sk-container-id-4 div.sk-toggleable__content pre {margin: 0.2em;color: black;border-radius: 0.25em;background-color: #f0f8ff;}#sk-container-id-4 input.sk-toggleable__control:checked~div.sk-toggleable__content {max-height: 200px;max-width: 100%;overflow: auto;}#sk-container-id-4 input.sk-toggleable__control:checked~label.sk-toggleable__label-arrow:before {content: \"▾\";}#sk-container-id-4 div.sk-estimator input.sk-toggleable__control:checked~label.sk-toggleable__label {background-color: #d4ebff;}#sk-container-id-4 div.sk-label input.sk-toggleable__control:checked~label.sk-toggleable__label {background-color: #d4ebff;}#sk-container-id-4 input.sk-hidden--visually {border: 0;clip: rect(1px 1px 1px 1px);clip: rect(1px, 1px, 1px, 1px);height: 1px;margin: -1px;overflow: hidden;padding: 0;position: absolute;width: 1px;}#sk-container-id-4 div.sk-estimator {font-family: monospace;background-color: #f0f8ff;border: 1px dotted black;border-radius: 0.25em;box-sizing: border-box;margin-bottom: 0.5em;}#sk-container-id-4 div.sk-estimator:hover {background-color: #d4ebff;}#sk-container-id-4 div.sk-parallel-item::after {content: \"\";width: 100%;border-bottom: 1px solid gray;flex-grow: 1;}#sk-container-id-4 div.sk-label:hover label.sk-toggleable__label {background-color: #d4ebff;}#sk-container-id-4 div.sk-serial::before {content: \"\";position: absolute;border-left: 1px solid gray;box-sizing: border-box;top: 0;bottom: 0;left: 50%;z-index: 0;}#sk-container-id-4 div.sk-serial {display: flex;flex-direction: column;align-items: center;background-color: white;padding-right: 0.2em;padding-left: 0.2em;position: relative;}#sk-container-id-4 div.sk-item {position: relative;z-index: 1;}#sk-container-id-4 div.sk-parallel {display: flex;align-items: stretch;justify-content: center;background-color: white;position: relative;}#sk-container-id-4 div.sk-item::before, #sk-container-id-4 div.sk-parallel-item::before {content: \"\";position: absolute;border-left: 1px solid gray;box-sizing: border-box;top: 0;bottom: 0;left: 50%;z-index: -1;}#sk-container-id-4 div.sk-parallel-item {display: flex;flex-direction: column;z-index: 1;position: relative;background-color: white;}#sk-container-id-4 div.sk-parallel-item:first-child::after {align-self: flex-end;width: 50%;}#sk-container-id-4 div.sk-parallel-item:last-child::after {align-self: flex-start;width: 50%;}#sk-container-id-4 div.sk-parallel-item:only-child::after {width: 0;}#sk-container-id-4 div.sk-dashed-wrapped {border: 1px dashed gray;margin: 0 0.4em 0.5em 0.4em;box-sizing: border-box;padding-bottom: 0.4em;background-color: white;}#sk-container-id-4 div.sk-label label {font-family: monospace;font-weight: bold;display: inline-block;line-height: 1.2em;}#sk-container-id-4 div.sk-label-container {text-align: center;}#sk-container-id-4 div.sk-container {/* jupyter's `normalize.less` sets `[hidden] { display: none; }` but bootstrap.min.css set `[hidden] { display: none !important; }` so we also need the `!important` here to be able to override the default hidden behavior on the sphinx rendered scikit-learn.org. See: https://github.com/scikit-learn/scikit-learn/issues/21755 */display: inline-block !important;position: relative;}#sk-container-id-4 div.sk-text-repr-fallback {display: none;}</style><div id=\"sk-container-id-4\" class=\"sk-top-container\"><div class=\"sk-text-repr-fallback\"><pre>GridSearchCV(cv=3, estimator=RandomForestClassifier(class_weight=&#x27;balanced&#x27;),\n",
       "             param_grid={&#x27;criterion&#x27;: [&#x27;gini&#x27;], &#x27;max_depth&#x27;: [35, 55],\n",
       "                         &#x27;max_features&#x27;: [&#x27;log2&#x27;],\n",
       "                         &#x27;min_samples_leaf&#x27;: [0.001, 0.005],\n",
       "                         &#x27;min_samples_split&#x27;: [0.001, 0.005],\n",
       "                         &#x27;n_estimators&#x27;: [130, 160, 190]},\n",
       "             verbose=4)</pre><b>In a Jupyter environment, please rerun this cell to show the HTML representation or trust the notebook. <br />On GitHub, the HTML representation is unable to render, please try loading this page with nbviewer.org.</b></div><div class=\"sk-container\" hidden><div class=\"sk-item sk-dashed-wrapped\"><div class=\"sk-label-container\"><div class=\"sk-label sk-toggleable\"><input class=\"sk-toggleable__control sk-hidden--visually\" id=\"sk-estimator-id-6\" type=\"checkbox\" ><label for=\"sk-estimator-id-6\" class=\"sk-toggleable__label sk-toggleable__label-arrow\">GridSearchCV</label><div class=\"sk-toggleable__content\"><pre>GridSearchCV(cv=3, estimator=RandomForestClassifier(class_weight=&#x27;balanced&#x27;),\n",
       "             param_grid={&#x27;criterion&#x27;: [&#x27;gini&#x27;], &#x27;max_depth&#x27;: [35, 55],\n",
       "                         &#x27;max_features&#x27;: [&#x27;log2&#x27;],\n",
       "                         &#x27;min_samples_leaf&#x27;: [0.001, 0.005],\n",
       "                         &#x27;min_samples_split&#x27;: [0.001, 0.005],\n",
       "                         &#x27;n_estimators&#x27;: [130, 160, 190]},\n",
       "             verbose=4)</pre></div></div></div><div class=\"sk-parallel\"><div class=\"sk-parallel-item\"><div class=\"sk-item\"><div class=\"sk-label-container\"><div class=\"sk-label sk-toggleable\"><input class=\"sk-toggleable__control sk-hidden--visually\" id=\"sk-estimator-id-7\" type=\"checkbox\" ><label for=\"sk-estimator-id-7\" class=\"sk-toggleable__label sk-toggleable__label-arrow\">estimator: RandomForestClassifier</label><div class=\"sk-toggleable__content\"><pre>RandomForestClassifier(class_weight=&#x27;balanced&#x27;)</pre></div></div></div><div class=\"sk-serial\"><div class=\"sk-item\"><div class=\"sk-estimator sk-toggleable\"><input class=\"sk-toggleable__control sk-hidden--visually\" id=\"sk-estimator-id-8\" type=\"checkbox\" ><label for=\"sk-estimator-id-8\" class=\"sk-toggleable__label sk-toggleable__label-arrow\">RandomForestClassifier</label><div class=\"sk-toggleable__content\"><pre>RandomForestClassifier(class_weight=&#x27;balanced&#x27;)</pre></div></div></div></div></div></div></div></div></div></div>"
      ],
      "text/plain": [
       "GridSearchCV(cv=3, estimator=RandomForestClassifier(class_weight='balanced'),\n",
       "             param_grid={'criterion': ['gini'], 'max_depth': [35, 55],\n",
       "                         'max_features': ['log2'],\n",
       "                         'min_samples_leaf': [0.001, 0.005],\n",
       "                         'min_samples_split': [0.001, 0.005],\n",
       "                         'n_estimators': [130, 160, 190]},\n",
       "             verbose=4)"
      ]
     },
     "execution_count": 115,
     "metadata": {},
     "output_type": "execute_result"
    }
   ],
   "source": [
    "model_rfg = GridSearchCV(estimator=RandomForestClassifier(class_weight='balanced'),param_grid=params_grid,cv=3,verbose=4)\n",
    "model_rfg.fit(x_train,y_train)"
   ]
  },
  {
   "cell_type": "code",
   "execution_count": null,
   "id": "e08e4c08",
   "metadata": {
    "id": "e08e4c08",
    "outputId": "0a4db5b6-0392-40c2-c212-bdd39545d9c5"
   },
   "outputs": [
    {
     "data": {
      "text/plain": [
       "{'criterion': 'gini',\n",
       " 'max_depth': 55,\n",
       " 'max_features': 'log2',\n",
       " 'min_samples_leaf': 0.001,\n",
       " 'min_samples_split': 0.001,\n",
       " 'n_estimators': 190}"
      ]
     },
     "execution_count": 116,
     "metadata": {},
     "output_type": "execute_result"
    }
   ],
   "source": [
    "model_rfg.best_params_"
   ]
  },
  {
   "cell_type": "code",
   "execution_count": null,
   "id": "9fd886e5",
   "metadata": {
    "id": "9fd886e5"
   },
   "outputs": [],
   "source": [
    "model_rf_fin = RandomForestClassifier(class_weight='balanced',\n",
    "                                      criterion='gini',\n",
    "                                      max_depth=55,\n",
    "                                      max_features='log2',\n",
    "                                      min_samples_leaf=0.001,\n",
    "                                      min_samples_split=0.001,\n",
    "                                      n_estimators=190)"
   ]
  },
  {
   "cell_type": "code",
   "execution_count": null,
   "id": "c78608e3",
   "metadata": {
    "id": "c78608e3",
    "outputId": "bb70429f-e27e-42a7-94e2-3f9638d82135"
   },
   "outputs": [
    {
     "name": "stdout",
     "output_type": "stream",
     "text": [
      "\n",
      " ----- Train Result ----- \n",
      "\n",
      "Accuracy Score: 0.836185656256243\n",
      "\n",
      " ----- Classification Report ----- \n",
      "               precision    recall  f1-score   support\n",
      "\n",
      "           0       0.31      0.82      0.45      3635\n",
      "           1       0.98      0.84      0.90     41416\n",
      "\n",
      "    accuracy                           0.84     45051\n",
      "   macro avg       0.64      0.83      0.68     45051\n",
      "weighted avg       0.93      0.84      0.87     45051\n",
      "\n",
      "\n",
      " ----- Confusion matrix ----- \n",
      " [[ 2992   643]\n",
      " [ 6737 34679]]\n",
      "\n",
      " ----- Test Result ----- \n",
      "\n",
      "Accuracy Score: 0.8320015980823012\n",
      "\n",
      " ----- Classification Report ----- \n",
      "               precision    recall  f1-score   support\n",
      "\n",
      "           0       0.29      0.78      0.42      1194\n",
      "           1       0.98      0.84      0.90     13824\n",
      "\n",
      "    accuracy                           0.83     15018\n",
      "   macro avg       0.63      0.81      0.66     15018\n",
      "weighted avg       0.92      0.83      0.86     15018\n",
      "\n",
      "\n",
      " ----- Confusion matrix ----- \n",
      " [[  926   268]\n",
      " [ 2255 11569]]\n"
     ]
    }
   ],
   "source": [
    "model_rf_fin.fit(x_train, y_train)\n",
    "score(model_rf_fin, x_train, x_test, y_train, y_test, train = True)\n",
    "score(model_rf_fin, x_train, x_test, y_train, y_test, train = False)"
   ]
  },
  {
   "cell_type": "markdown",
   "id": "ef21aee4",
   "metadata": {
    "id": "ef21aee4"
   },
   "source": [
    "**- Post tuning results are low then the previous default parameter, so we will go with the default parameters only.**"
   ]
  },
  {
   "cell_type": "markdown",
   "id": "c1a0dd7b",
   "metadata": {
    "id": "c1a0dd7b"
   },
   "source": [
    "## Pipeline"
   ]
  },
  {
   "cell_type": "code",
   "execution_count": null,
   "id": "ce01794b",
   "metadata": {
    "id": "ce01794b"
   },
   "outputs": [],
   "source": [
    "pipeline_randomforest =  Pipeline([('scaler1', StandardScaler()),\n",
    "                               ('pca1',PCA(n_components=2)),\n",
    "                               ('rf_classifier',RandomForestClassifier())])"
   ]
  },
  {
   "cell_type": "code",
   "execution_count": null,
   "id": "6c96a988",
   "metadata": {
    "id": "6c96a988",
    "outputId": "e4419466-f0d7-4939-9206-4dc0ee0f6a9d"
   },
   "outputs": [
    {
     "data": {
      "text/plain": [
       "0.9309495272339858"
      ]
     },
     "execution_count": 159,
     "metadata": {},
     "output_type": "execute_result"
    }
   ],
   "source": [
    "pipeline_randomforest.fit(x_train,y_train)\n",
    "pred = pipeline_randomforest.predict(x_test)\n",
    "accuracy_score(y_test,pred) "
   ]
  },
  {
   "cell_type": "markdown",
   "id": "4d189854",
   "metadata": {
    "id": "4d189854"
   },
   "source": [
    "## KNeighbors"
   ]
  },
  {
   "cell_type": "code",
   "execution_count": null,
   "id": "2b77fe91",
   "metadata": {
    "id": "2b77fe91"
   },
   "outputs": [],
   "source": [
    "knn = KNeighborsClassifier()"
   ]
  },
  {
   "cell_type": "code",
   "execution_count": null,
   "id": "a69fee66",
   "metadata": {
    "id": "a69fee66"
   },
   "outputs": [],
   "source": [
    "X_train,X_test,Y_train,Y_test = train_test_split(x_scaled,y,random_state = 10,test_size=0.35)"
   ]
  },
  {
   "cell_type": "code",
   "execution_count": null,
   "id": "b2e4b2d6",
   "metadata": {
    "id": "b2e4b2d6"
   },
   "outputs": [],
   "source": [
    "acc_score =[]\n",
    "for i in range(1,30):\n",
    "    knn = KNeighborsClassifier(i)\n",
    "    score = cross_val_score(knn,X_train,Y_train,cv=2)\n",
    "    acc_score.append(score.mean())"
   ]
  },
  {
   "cell_type": "code",
   "execution_count": null,
   "id": "22add613",
   "metadata": {
    "id": "22add613",
    "outputId": "fcec9805-852f-443a-c570-e88e0bd029b0"
   },
   "outputs": [
    {
     "data": {
      "image/png": "[encoded data removed]",
      "text/plain": [
       "<Figure size 432x288 with 1 Axes>"
      ]
     },
     "metadata": {
      "needs_background": "light"
     },
     "output_type": "display_data"
    }
   ],
   "source": [
    "plt.figure()\n",
    "plt.plot(range(1,30),acc_score,color='blue',marker='o',markerfacecolor='red')\n",
    "plt.xlabel('Values for K')\n",
    "plt.ylabel('Accuracy Score Value')\n",
    "plt.title('Accuracy Score v/s K-Value')\n",
    "plt.show()"
   ]
  },
  {
   "cell_type": "code",
   "execution_count": null,
   "id": "ad0272aa",
   "metadata": {
    "id": "ad0272aa"
   },
   "outputs": [],
   "source": [
    "error_score = []\n",
    "for i in range(1,30):\n",
    "    knn = KNeighborsClassifier(i)\n",
    "    score = cross_val_score(knn,X_train,Y_train,cv=2)\n",
    "    error_score.append(1-(score.mean()))"
   ]
  },
  {
   "cell_type": "code",
   "execution_count": null,
   "id": "5486c32d",
   "metadata": {
    "id": "5486c32d",
    "outputId": "1473609c-446c-4d2c-9c76-ba6682f17523"
   },
   "outputs": [
    {
     "data": {
      "image/png": "[encoded data removed]",
      "text/plain": [
       "<Figure size 432x288 with 1 Axes>"
      ]
     },
     "metadata": {
      "needs_background": "light"
     },
     "output_type": "display_data"
    }
   ],
   "source": [
    "plt.figure()\n",
    "plt.plot(range(1,30),error_score,color='blue',marker='o',markerfacecolor='red')\n",
    "plt.xlabel('Values for K')\n",
    "plt.ylabel('Error Score Value')\n",
    "plt.title('Error Score v/s K-Value')\n",
    "plt.show()"
   ]
  },
  {
   "cell_type": "markdown",
   "id": "bf249410",
   "metadata": {
    "id": "bf249410"
   },
   "source": [
    "**From both the error curve and accuracy curve we can see that the value of error as well as accuracy becomes nearly constant for values of K equal to 7 or 8.**"
   ]
  },
  {
   "cell_type": "markdown",
   "id": "d3504ca4",
   "metadata": {
    "id": "d3504ca4"
   },
   "source": [
    "## KNN MODEL - K=8"
   ]
  },
  {
   "cell_type": "code",
   "execution_count": null,
   "id": "1e9cc45e",
   "metadata": {
    "id": "1e9cc45e",
    "outputId": "8e314c6b-439f-41ed-af67-ca80306687de"
   },
   "outputs": [
    {
     "data": {
      "text/html": [
       "<style>#sk-container-id-1 {color: black;background-color: white;}#sk-container-id-1 pre{padding: 0;}#sk-container-id-1 div.sk-toggleable {background-color: white;}#sk-container-id-1 label.sk-toggleable__label {cursor: pointer;display: block;width: 100%;margin-bottom: 0;padding: 0.3em;box-sizing: border-box;text-align: center;}#sk-container-id-1 label.sk-toggleable__label-arrow:before {content: \"▸\";float: left;margin-right: 0.25em;color: #696969;}#sk-container-id-1 label.sk-toggleable__label-arrow:hover:before {color: black;}#sk-container-id-1 div.sk-estimator:hover label.sk-toggleable__label-arrow:before {color: black;}#sk-container-id-1 div.sk-toggleable__content {max-height: 0;max-width: 0;overflow: hidden;text-align: left;background-color: #f0f8ff;}#sk-container-id-1 div.sk-toggleable__content pre {margin: 0.2em;color: black;border-radius: 0.25em;background-color: #f0f8ff;}#sk-container-id-1 input.sk-toggleable__control:checked~div.sk-toggleable__content {max-height: 200px;max-width: 100%;overflow: auto;}#sk-container-id-1 input.sk-toggleable__control:checked~label.sk-toggleable__label-arrow:before {content: \"▾\";}#sk-container-id-1 div.sk-estimator input.sk-toggleable__control:checked~label.sk-toggleable__label {background-color: #d4ebff;}#sk-container-id-1 div.sk-label input.sk-toggleable__control:checked~label.sk-toggleable__label {background-color: #d4ebff;}#sk-container-id-1 input.sk-hidden--visually {border: 0;clip: rect(1px 1px 1px 1px);clip: rect(1px, 1px, 1px, 1px);height: 1px;margin: -1px;overflow: hidden;padding: 0;position: absolute;width: 1px;}#sk-container-id-1 div.sk-estimator {font-family: monospace;background-color: #f0f8ff;border: 1px dotted black;border-radius: 0.25em;box-sizing: border-box;margin-bottom: 0.5em;}#sk-container-id-1 div.sk-estimator:hover {background-color: #d4ebff;}#sk-container-id-1 div.sk-parallel-item::after {content: \"\";width: 100%;border-bottom: 1px solid gray;flex-grow: 1;}#sk-container-id-1 div.sk-label:hover label.sk-toggleable__label {background-color: #d4ebff;}#sk-container-id-1 div.sk-serial::before {content: \"\";position: absolute;border-left: 1px solid gray;box-sizing: border-box;top: 0;bottom: 0;left: 50%;z-index: 0;}#sk-container-id-1 div.sk-serial {display: flex;flex-direction: column;align-items: center;background-color: white;padding-right: 0.2em;padding-left: 0.2em;position: relative;}#sk-container-id-1 div.sk-item {position: relative;z-index: 1;}#sk-container-id-1 div.sk-parallel {display: flex;align-items: stretch;justify-content: center;background-color: white;position: relative;}#sk-container-id-1 div.sk-item::before, #sk-container-id-1 div.sk-parallel-item::before {content: \"\";position: absolute;border-left: 1px solid gray;box-sizing: border-box;top: 0;bottom: 0;left: 50%;z-index: -1;}#sk-container-id-1 div.sk-parallel-item {display: flex;flex-direction: column;z-index: 1;position: relative;background-color: white;}#sk-container-id-1 div.sk-parallel-item:first-child::after {align-self: flex-end;width: 50%;}#sk-container-id-1 div.sk-parallel-item:last-child::after {align-self: flex-start;width: 50%;}#sk-container-id-1 div.sk-parallel-item:only-child::after {width: 0;}#sk-container-id-1 div.sk-dashed-wrapped {border: 1px dashed gray;margin: 0 0.4em 0.5em 0.4em;box-sizing: border-box;padding-bottom: 0.4em;background-color: white;}#sk-container-id-1 div.sk-label label {font-family: monospace;font-weight: bold;display: inline-block;line-height: 1.2em;}#sk-container-id-1 div.sk-label-container {text-align: center;}#sk-container-id-1 div.sk-container {/* jupyter's `normalize.less` sets `[hidden] { display: none; }` but bootstrap.min.css set `[hidden] { display: none !important; }` so we also need the `!important` here to be able to override the default hidden behavior on the sphinx rendered scikit-learn.org. See: https://github.com/scikit-learn/scikit-learn/issues/21755 */display: inline-block !important;position: relative;}#sk-container-id-1 div.sk-text-repr-fallback {display: none;}</style><div id=\"sk-container-id-1\" class=\"sk-top-container\"><div class=\"sk-text-repr-fallback\"><pre>KNeighborsClassifier(n_neighbors=8)</pre><b>In a Jupyter environment, please rerun this cell to show the HTML representation or trust the notebook. <br />On GitHub, the HTML representation is unable to render, please try loading this page with nbviewer.org.</b></div><div class=\"sk-container\" hidden><div class=\"sk-item\"><div class=\"sk-estimator sk-toggleable\"><input class=\"sk-toggleable__control sk-hidden--visually\" id=\"sk-estimator-id-1\" type=\"checkbox\" checked><label for=\"sk-estimator-id-1\" class=\"sk-toggleable__label sk-toggleable__label-arrow\">KNeighborsClassifier</label><div class=\"sk-toggleable__content\"><pre>KNeighborsClassifier(n_neighbors=8)</pre></div></div></div></div></div>"
      ],
      "text/plain": [
       "KNeighborsClassifier(n_neighbors=8)"
      ]
     },
     "execution_count": 86,
     "metadata": {},
     "output_type": "execute_result"
    }
   ],
   "source": [
    "knn_1 = KNeighborsClassifier(n_neighbors=8)\n",
    "knn_1.fit(X_train,Y_train)"
   ]
  },
  {
   "cell_type": "code",
   "execution_count": null,
   "id": "d961acaf",
   "metadata": {
    "id": "d961acaf"
   },
   "outputs": [],
   "source": [
    "predict_1 = knn_1.predict(X_test)"
   ]
  },
  {
   "cell_type": "code",
   "execution_count": null,
   "id": "02fce041",
   "metadata": {
    "id": "02fce041",
    "outputId": "86c39e57-3814-4b7f-8057-8f36f372dba3"
   },
   "outputs": [
    {
     "name": "stdout",
     "output_type": "stream",
     "text": [
      "0.9443995243757431\n"
     ]
    }
   ],
   "source": [
    "print(accuracy_score(predict_1,Y_test))"
   ]
  },
  {
   "cell_type": "code",
   "execution_count": null,
   "id": "36b28313",
   "metadata": {
    "id": "36b28313",
    "outputId": "b96f16b1-eaa4-4e82-807e-54a8b0b744ef"
   },
   "outputs": [
    {
     "name": "stdout",
     "output_type": "stream",
     "text": [
      "[[  706   190]\n",
      " [  979 19150]]\n"
     ]
    }
   ],
   "source": [
    "print(confusion_matrix(predict_1,Y_test))"
   ]
  },
  {
   "cell_type": "code",
   "execution_count": null,
   "id": "6c9e5495",
   "metadata": {
    "id": "6c9e5495",
    "outputId": "85f7dc9f-9a33-4fbc-f281-8fa113809c1d"
   },
   "outputs": [
    {
     "name": "stdout",
     "output_type": "stream",
     "text": [
      "              precision    recall  f1-score   support\n",
      "\n",
      "           0       0.79      0.42      0.55      1685\n",
      "           1       0.95      0.99      0.97     19340\n",
      "\n",
      "    accuracy                           0.94     21025\n",
      "   macro avg       0.87      0.70      0.76     21025\n",
      "weighted avg       0.94      0.94      0.94     21025\n",
      "\n"
     ]
    }
   ],
   "source": [
    "print(classification_report(Y_test,predict_1))"
   ]
  },
  {
   "cell_type": "markdown",
   "id": "9e05682b",
   "metadata": {
    "id": "9e05682b"
   },
   "source": [
    "## KNN MODEL - K=7"
   ]
  },
  {
   "cell_type": "code",
   "execution_count": null,
   "id": "d28a4c65",
   "metadata": {
    "id": "d28a4c65",
    "outputId": "0ce5bce1-256c-436e-b054-93faafa1532a"
   },
   "outputs": [
    {
     "data": {
      "text/html": [
       "<style>#sk-container-id-2 {color: black;background-color: white;}#sk-container-id-2 pre{padding: 0;}#sk-container-id-2 div.sk-toggleable {background-color: white;}#sk-container-id-2 label.sk-toggleable__label {cursor: pointer;display: block;width: 100%;margin-bottom: 0;padding: 0.3em;box-sizing: border-box;text-align: center;}#sk-container-id-2 label.sk-toggleable__label-arrow:before {content: \"▸\";float: left;margin-right: 0.25em;color: #696969;}#sk-container-id-2 label.sk-toggleable__label-arrow:hover:before {color: black;}#sk-container-id-2 div.sk-estimator:hover label.sk-toggleable__label-arrow:before {color: black;}#sk-container-id-2 div.sk-toggleable__content {max-height: 0;max-width: 0;overflow: hidden;text-align: left;background-color: #f0f8ff;}#sk-container-id-2 div.sk-toggleable__content pre {margin: 0.2em;color: black;border-radius: 0.25em;background-color: #f0f8ff;}#sk-container-id-2 input.sk-toggleable__control:checked~div.sk-toggleable__content {max-height: 200px;max-width: 100%;overflow: auto;}#sk-container-id-2 input.sk-toggleable__control:checked~label.sk-toggleable__label-arrow:before {content: \"▾\";}#sk-container-id-2 div.sk-estimator input.sk-toggleable__control:checked~label.sk-toggleable__label {background-color: #d4ebff;}#sk-container-id-2 div.sk-label input.sk-toggleable__control:checked~label.sk-toggleable__label {background-color: #d4ebff;}#sk-container-id-2 input.sk-hidden--visually {border: 0;clip: rect(1px 1px 1px 1px);clip: rect(1px, 1px, 1px, 1px);height: 1px;margin: -1px;overflow: hidden;padding: 0;position: absolute;width: 1px;}#sk-container-id-2 div.sk-estimator {font-family: monospace;background-color: #f0f8ff;border: 1px dotted black;border-radius: 0.25em;box-sizing: border-box;margin-bottom: 0.5em;}#sk-container-id-2 div.sk-estimator:hover {background-color: #d4ebff;}#sk-container-id-2 div.sk-parallel-item::after {content: \"\";width: 100%;border-bottom: 1px solid gray;flex-grow: 1;}#sk-container-id-2 div.sk-label:hover label.sk-toggleable__label {background-color: #d4ebff;}#sk-container-id-2 div.sk-serial::before {content: \"\";position: absolute;border-left: 1px solid gray;box-sizing: border-box;top: 0;bottom: 0;left: 50%;z-index: 0;}#sk-container-id-2 div.sk-serial {display: flex;flex-direction: column;align-items: center;background-color: white;padding-right: 0.2em;padding-left: 0.2em;position: relative;}#sk-container-id-2 div.sk-item {position: relative;z-index: 1;}#sk-container-id-2 div.sk-parallel {display: flex;align-items: stretch;justify-content: center;background-color: white;position: relative;}#sk-container-id-2 div.sk-item::before, #sk-container-id-2 div.sk-parallel-item::before {content: \"\";position: absolute;border-left: 1px solid gray;box-sizing: border-box;top: 0;bottom: 0;left: 50%;z-index: -1;}#sk-container-id-2 div.sk-parallel-item {display: flex;flex-direction: column;z-index: 1;position: relative;background-color: white;}#sk-container-id-2 div.sk-parallel-item:first-child::after {align-self: flex-end;width: 50%;}#sk-container-id-2 div.sk-parallel-item:last-child::after {align-self: flex-start;width: 50%;}#sk-container-id-2 div.sk-parallel-item:only-child::after {width: 0;}#sk-container-id-2 div.sk-dashed-wrapped {border: 1px dashed gray;margin: 0 0.4em 0.5em 0.4em;box-sizing: border-box;padding-bottom: 0.4em;background-color: white;}#sk-container-id-2 div.sk-label label {font-family: monospace;font-weight: bold;display: inline-block;line-height: 1.2em;}#sk-container-id-2 div.sk-label-container {text-align: center;}#sk-container-id-2 div.sk-container {/* jupyter's `normalize.less` sets `[hidden] { display: none; }` but bootstrap.min.css set `[hidden] { display: none !important; }` so we also need the `!important` here to be able to override the default hidden behavior on the sphinx rendered scikit-learn.org. See: https://github.com/scikit-learn/scikit-learn/issues/21755 */display: inline-block !important;position: relative;}#sk-container-id-2 div.sk-text-repr-fallback {display: none;}</style><div id=\"sk-container-id-2\" class=\"sk-top-container\"><div class=\"sk-text-repr-fallback\"><pre>KNeighborsClassifier(n_neighbors=7)</pre><b>In a Jupyter environment, please rerun this cell to show the HTML representation or trust the notebook. <br />On GitHub, the HTML representation is unable to render, please try loading this page with nbviewer.org.</b></div><div class=\"sk-container\" hidden><div class=\"sk-item\"><div class=\"sk-estimator sk-toggleable\"><input class=\"sk-toggleable__control sk-hidden--visually\" id=\"sk-estimator-id-2\" type=\"checkbox\" checked><label for=\"sk-estimator-id-2\" class=\"sk-toggleable__label sk-toggleable__label-arrow\">KNeighborsClassifier</label><div class=\"sk-toggleable__content\"><pre>KNeighborsClassifier(n_neighbors=7)</pre></div></div></div></div></div>"
      ],
      "text/plain": [
       "KNeighborsClassifier(n_neighbors=7)"
      ]
     },
     "execution_count": 91,
     "metadata": {},
     "output_type": "execute_result"
    }
   ],
   "source": [
    "knn_2 = KNeighborsClassifier(n_neighbors=7)\n",
    "knn_2.fit(X_train,Y_train)"
   ]
  },
  {
   "cell_type": "code",
   "execution_count": null,
   "id": "1b6ac6b6",
   "metadata": {
    "id": "1b6ac6b6",
    "outputId": "ec525cb5-46a8-4293-de4e-bc58ee5e94fb"
   },
   "outputs": [
    {
     "name": "stdout",
     "output_type": "stream",
     "text": [
      "0.9453032104637337\n"
     ]
    }
   ],
   "source": [
    "predict_2 = knn_2.predict(X_test)\n",
    "print(accuracy_score(predict_2,Y_test))"
   ]
  },
  {
   "cell_type": "code",
   "execution_count": null,
   "id": "18dfc4a0",
   "metadata": {
    "id": "18dfc4a0",
    "outputId": "f1a1272c-20d5-4165-dc31-e2bab626323b"
   },
   "outputs": [
    {
     "name": "stdout",
     "output_type": "stream",
     "text": [
      "[[  682   147]\n",
      " [ 1003 19193]]\n"
     ]
    }
   ],
   "source": [
    "print(confusion_matrix(predict_2,Y_test))"
   ]
  },
  {
   "cell_type": "code",
   "execution_count": null,
   "id": "dc77f64a",
   "metadata": {
    "id": "dc77f64a",
    "outputId": "10df25ad-c453-423a-de7a-c7ae5f5a458b"
   },
   "outputs": [
    {
     "name": "stdout",
     "output_type": "stream",
     "text": [
      "              precision    recall  f1-score   support\n",
      "\n",
      "           0       0.82      0.40      0.54      1685\n",
      "           1       0.95      0.99      0.97     19340\n",
      "\n",
      "    accuracy                           0.95     21025\n",
      "   macro avg       0.89      0.70      0.76     21025\n",
      "weighted avg       0.94      0.95      0.94     21025\n",
      "\n"
     ]
    }
   ],
   "source": [
    "print(classification_report(Y_test,predict_2))"
   ]
  },
  {
   "cell_type": "markdown",
   "id": "5ad967f4",
   "metadata": {
    "id": "5ad967f4"
   },
   "source": [
    "## Hyperparameter Tuning"
   ]
  },
  {
   "cell_type": "code",
   "execution_count": null,
   "id": "eab4864c",
   "metadata": {
    "id": "eab4864c"
   },
   "outputs": [],
   "source": [
    "grid_params = { 'n_neighbors' : [7,8,9,11,13,15,17],\n",
    "               'weights' : ['uniform','distance'],\n",
    "               'metric' : ['minkowski','euclidean','manhattan']}"
   ]
  },
  {
   "cell_type": "code",
   "execution_count": null,
   "id": "a71e977a",
   "metadata": {
    "id": "a71e977a",
    "outputId": "a2592662-2c4f-4f14-c7d4-4bb30795f757"
   },
   "outputs": [
    {
     "name": "stdout",
     "output_type": "stream",
     "text": [
      "Fitting 2 folds for each of 42 candidates, totalling 84 fits\n"
     ]
    },
    {
     "data": {
      "text/plain": [
       "0.9430898473517058"
      ]
     },
     "execution_count": 96,
     "metadata": {},
     "output_type": "execute_result"
    }
   ],
   "source": [
    "gs = GridSearchCV(KNeighborsClassifier(), grid_params, verbose = 1, cv=2, n_jobs = -1)\n",
    "g_res = gs.fit(X_train, Y_train)\n",
    "g_res.best_score_"
   ]
  },
  {
   "cell_type": "code",
   "execution_count": null,
   "id": "dabedcef",
   "metadata": {
    "id": "dabedcef",
    "outputId": "0bf88a05-8a28-467d-f729-eceb537ef626"
   },
   "outputs": [
    {
     "data": {
      "text/plain": [
       "{'metric': 'minkowski', 'n_neighbors': 11, 'weights': 'uniform'}"
      ]
     },
     "execution_count": 97,
     "metadata": {},
     "output_type": "execute_result"
    }
   ],
   "source": [
    "g_res.best_params_"
   ]
  },
  {
   "cell_type": "code",
   "execution_count": null,
   "id": "fb1eadb9",
   "metadata": {
    "id": "fb1eadb9"
   },
   "outputs": [],
   "source": [
    "knn = KNeighborsClassifier(n_neighbors = 13, weights = 'uniform',metric = 'manhattan')"
   ]
  },
  {
   "cell_type": "code",
   "execution_count": null,
   "id": "b206fa2d",
   "metadata": {
    "id": "b206fa2d",
    "outputId": "f0cdc57c-0072-4e13-fae4-250acb28c20e"
   },
   "outputs": [
    {
     "name": "stdout",
     "output_type": "stream",
     "text": [
      "\n",
      " ----- Train Result ----- \n",
      "\n",
      "Accuracy Score: 0.9452412662637025\n",
      "\n",
      " ----- Classification Report ----- \n",
      "               precision    recall  f1-score   support\n",
      "\n",
      "           0       0.90      0.36      0.51      3144\n",
      "           1       0.95      1.00      0.97     35900\n",
      "\n",
      "    accuracy                           0.95     39044\n",
      "   macro avg       0.92      0.68      0.74     39044\n",
      "weighted avg       0.94      0.95      0.93     39044\n",
      "\n",
      "\n",
      " ----- Confusion matrix ----- \n",
      " [[ 1128  2016]\n",
      " [  122 35778]]\n",
      "\n",
      " ----- Test Result ----- \n",
      "\n",
      "Accuracy Score: 0.9447324613555291\n",
      "\n",
      " ----- Classification Report ----- \n",
      "               precision    recall  f1-score   support\n",
      "\n",
      "           0       0.88      0.36      0.51      1685\n",
      "           1       0.95      1.00      0.97     19340\n",
      "\n",
      "    accuracy                           0.94     21025\n",
      "   macro avg       0.91      0.68      0.74     21025\n",
      "weighted avg       0.94      0.94      0.93     21025\n",
      "\n",
      "\n",
      " ----- Confusion matrix ----- \n",
      " [[  603  1082]\n",
      " [   80 19260]]\n"
     ]
    }
   ],
   "source": [
    "knn.fit(X_train, Y_train)\n",
    "score(knn, X_train, X_test, Y_train, Y_test, train = True)\n",
    "score(knn, X_train, X_test, Y_train, Y_test, train = False)"
   ]
  },
  {
   "cell_type": "markdown",
   "id": "8497fac3",
   "metadata": {
    "id": "8497fac3"
   },
   "source": [
    "**As we can conclude that, post tuning score is very close to the previous accuracy score, so we can consider that our model is giving best accuracy score in both of the cases before and after tuning.**"
   ]
  },
  {
   "cell_type": "markdown",
   "id": "1851ddf7",
   "metadata": {
    "id": "1851ddf7"
   },
   "source": [
    "## Pipeline:"
   ]
  },
  {
   "cell_type": "code",
   "execution_count": null,
   "id": "a0ad0526",
   "metadata": {
    "id": "a0ad0526"
   },
   "outputs": [],
   "source": [
    "pipeline_KNeighborsClassifier= Pipeline([('scaler2', StandardScaler()),\n",
    "                                        ('pca2',PCA(n_components=2)),\n",
    "                                        ('kNN_classifier',KNeighborsClassifier(n_neighbors = 7))])"
   ]
  },
  {
   "cell_type": "code",
   "execution_count": null,
   "id": "df76822d",
   "metadata": {
    "id": "df76822d",
    "outputId": "26509a0d-cdcc-40c6-cc50-a56a4c885012"
   },
   "outputs": [
    {
     "data": {
      "text/plain": [
       "0.9311492875216407"
      ]
     },
     "execution_count": 126,
     "metadata": {},
     "output_type": "execute_result"
    }
   ],
   "source": [
    "pipeline_KNeighborsClassifier.fit(x_train,y_train)\n",
    "pred = pipeline_KNeighborsClassifier.predict(x_test)\n",
    "accuracy_score(y_test,pred)"
   ]
  },
  {
   "cell_type": "markdown",
   "id": "0e208407",
   "metadata": {
    "id": "0e208407"
   },
   "source": [
    "## QDA Model."
   ]
  },
  {
   "cell_type": "markdown",
   "id": "894d5ea0",
   "metadata": {
    "id": "894d5ea0"
   },
   "source": [
    "**- Model Training.**"
   ]
  },
  {
   "cell_type": "code",
   "execution_count": 64,
   "id": "a015f6ea",
   "metadata": {
    "id": "a015f6ea"
   },
   "outputs": [],
   "source": [
    "qda = QuadraticDiscriminantAnalysis()"
   ]
  },
  {
   "cell_type": "code",
   "execution_count": 65,
   "id": "1f2791bb",
   "metadata": {
    "id": "1f2791bb"
   },
   "outputs": [],
   "source": [
    "x_train,x_test,y_train,y_test = train_test_split(x_scaled, y, random_state = 6, test_size = 0.25)"
   ]
  },
  {
   "cell_type": "code",
   "execution_count": 66,
   "id": "d3b54200",
   "metadata": {
    "colab": {
     "base_uri": "https://localhost:8080/"
    },
    "id": "d3b54200",
    "outputId": "0dd446e9-b9f7-46b9-b0db-5a013df25ae4"
   },
   "outputs": [
    {
     "name": "stdout",
     "output_type": "stream",
     "text": [
      "\n",
      " ----- Train Result ----- \n",
      "\n",
      "Accuracy Score: 0.9491687198952299\n",
      "\n",
      " ----- Classification Report ----- \n",
      "               precision    recall  f1-score   support\n",
      "\n",
      "           0       0.98      0.37      0.54      3597\n",
      "           1       0.95      1.00      0.97     41454\n",
      "\n",
      "    accuracy                           0.95     45051\n",
      "   macro avg       0.97      0.68      0.76     45051\n",
      "weighted avg       0.95      0.95      0.94     45051\n",
      "\n",
      "\n",
      " ----- Confusion matrix ----- \n",
      " [[ 1331  2266]\n",
      " [   24 41430]]\n",
      "\n",
      " ----- Test Result ----- \n",
      "\n",
      "Accuracy Score: 0.9480623252097483\n",
      "\n",
      " ----- Classification Report ----- \n",
      "               precision    recall  f1-score   support\n",
      "\n",
      "           0       0.97      0.38      0.54      1232\n",
      "           1       0.95      1.00      0.97     13786\n",
      "\n",
      "    accuracy                           0.95     15018\n",
      "   macro avg       0.96      0.69      0.76     15018\n",
      "weighted avg       0.95      0.95      0.94     15018\n",
      "\n",
      "\n",
      " ----- Confusion matrix ----- \n",
      " [[  465   767]\n",
      " [   13 13773]]\n"
     ]
    }
   ],
   "source": [
    "qda.fit(x_train,y_train)\n",
    "score(qda, x_train, x_test, y_train, y_test, train = True)\n",
    "score(qda, x_train, x_test, y_train, y_test, train = False)"
   ]
  },
  {
   "cell_type": "code",
   "execution_count": 67,
   "id": "30794bb9",
   "metadata": {
    "colab": {
     "base_uri": "https://localhost:8080/",
     "height": 296
    },
    "id": "30794bb9",
    "outputId": "7e3b44b3-7c0a-4bd1-9b07-3e3ef5a29524"
   },
   "outputs": [
    {
     "name": "stdout",
     "output_type": "stream",
     "text": [
      "Roc Curve\n"
     ]
    },
    {
     "data": {
      "image/png": "[encoded data removed]",
      "text/plain": [
       "<Figure size 432x288 with 1 Axes>"
      ]
     },
     "metadata": {
      "needs_background": "light"
     },
     "output_type": "display_data"
    }
   ],
   "source": [
    "roc_curve_plot(qda,x_test, y_test)"
   ]
  },
  {
   "cell_type": "code",
   "execution_count": 68,
   "id": "d0137a72",
   "metadata": {
    "colab": {
     "base_uri": "https://localhost:8080/",
     "height": 282
    },
    "id": "d0137a72",
    "outputId": "9272ca9b-333d-4d5a-ba67-96b411fa3ff3"
   },
   "outputs": [
    {
     "name": "stdout",
     "output_type": "stream",
     "text": [
      "Confusion Matrix\n"
     ]
    },
    {
     "data": {
      "image/png": "[encoded data removed]",
      "text/plain": [
       "<Figure size 432x288 with 2 Axes>"
      ]
     },
     "metadata": {
      "needs_background": "light"
     },
     "output_type": "display_data"
    }
   ],
   "source": [
    "confusion_matrix_plot(qda,x_test, y_test)"
   ]
  },
  {
   "cell_type": "code",
   "execution_count": 69,
   "id": "ffa9bafc",
   "metadata": {
    "colab": {
     "base_uri": "https://localhost:8080/",
     "height": 424
    },
    "id": "ffa9bafc",
    "outputId": "dafba1da-b38f-4772-ceea-14530c1811d9"
   },
   "outputs": [
    {
     "data": {
      "text/html": [
       "\n",
       "  <div id=\"df-235b1bda-73cf-4863-b1ba-4f9dea1c8963\">\n",
       "    <div class=\"colab-df-container\">\n",
       "      <div>\n",
       "<style scoped>\n",
       "    .dataframe tbody tr th:only-of-type {\n",
       "        vertical-align: middle;\n",
       "    }\n",
       "\n",
       "    .dataframe tbody tr th {\n",
       "        vertical-align: top;\n",
       "    }\n",
       "\n",
       "    .dataframe thead th {\n",
       "        text-align: right;\n",
       "    }\n",
       "</style>\n",
       "<table border=\"1\" class=\"dataframe\">\n",
       "  <thead>\n",
       "    <tr style=\"text-align: right;\">\n",
       "      <th></th>\n",
       "      <th>Original</th>\n",
       "      <th>Predicted</th>\n",
       "    </tr>\n",
       "  </thead>\n",
       "  <tbody>\n",
       "    <tr>\n",
       "      <th>0</th>\n",
       "      <td>1</td>\n",
       "      <td>1</td>\n",
       "    </tr>\n",
       "    <tr>\n",
       "      <th>1</th>\n",
       "      <td>1</td>\n",
       "      <td>1</td>\n",
       "    </tr>\n",
       "    <tr>\n",
       "      <th>2</th>\n",
       "      <td>1</td>\n",
       "      <td>1</td>\n",
       "    </tr>\n",
       "    <tr>\n",
       "      <th>3</th>\n",
       "      <td>1</td>\n",
       "      <td>1</td>\n",
       "    </tr>\n",
       "    <tr>\n",
       "      <th>4</th>\n",
       "      <td>0</td>\n",
       "      <td>0</td>\n",
       "    </tr>\n",
       "    <tr>\n",
       "      <th>...</th>\n",
       "      <td>...</td>\n",
       "      <td>...</td>\n",
       "    </tr>\n",
       "    <tr>\n",
       "      <th>15013</th>\n",
       "      <td>1</td>\n",
       "      <td>1</td>\n",
       "    </tr>\n",
       "    <tr>\n",
       "      <th>15014</th>\n",
       "      <td>1</td>\n",
       "      <td>1</td>\n",
       "    </tr>\n",
       "    <tr>\n",
       "      <th>15015</th>\n",
       "      <td>1</td>\n",
       "      <td>1</td>\n",
       "    </tr>\n",
       "    <tr>\n",
       "      <th>15016</th>\n",
       "      <td>1</td>\n",
       "      <td>1</td>\n",
       "    </tr>\n",
       "    <tr>\n",
       "      <th>15017</th>\n",
       "      <td>1</td>\n",
       "      <td>1</td>\n",
       "    </tr>\n",
       "  </tbody>\n",
       "</table>\n",
       "<p>15018 rows × 2 columns</p>\n",
       "</div>\n",
       "      <button class=\"colab-df-convert\" onclick=\"convertToInteractive('df-235b1bda-73cf-4863-b1ba-4f9dea1c8963')\"\n",
       "              title=\"Convert this dataframe to an interactive table.\"\n",
       "              style=\"display:none;\">\n",
       "        \n",
       "  <svg xmlns=\"http://www.w3.org/2000/svg\" height=\"24px\"viewBox=\"0 0 24 24\"\n",
       "       width=\"24px\">\n",
       "    <path d=\"M0 0h24v24H0V0z\" fill=\"none\"/>\n",
       "    <path d=\"M18.56 5.44l.94 2.06.94-2.06 2.06-.94-2.06-.94-.94-2.06-.94 2.06-2.06.94zm-11 1L8.5 8.5l.94-2.06 2.06-.94-2.06-.94L8.5 2.5l-.94 2.06-2.06.94zm10 10l.94 2.06.94-2.06 2.06-.94-2.06-.94-.94-2.06-.94 2.06-2.06.94z\"/><path d=\"M17.41 7.96l-1.37-1.37c-.4-.4-.92-.59-1.43-.59-.52 0-1.04.2-1.43.59L10.3 9.45l-7.72 7.72c-.78.78-.78 2.05 0 2.83L4 21.41c.39.39.9.59 1.41.59.51 0 1.02-.2 1.41-.59l7.78-7.78 2.81-2.81c.8-.78.8-2.07 0-2.86zM5.41 20L4 18.59l7.72-7.72 1.47 1.35L5.41 20z\"/>\n",
       "  </svg>\n",
       "      </button>\n",
       "      \n",
       "  <style>\n",
       "    .colab-df-container {\n",
       "      display:flex;\n",
       "      flex-wrap:wrap;\n",
       "      gap: 12px;\n",
       "    }\n",
       "\n",
       "    .colab-df-convert {\n",
       "      background-color: #E8F0FE;\n",
       "      border: none;\n",
       "      border-radius: 50%;\n",
       "      cursor: pointer;\n",
       "      display: none;\n",
       "      fill: #1967D2;\n",
       "      height: 32px;\n",
       "      padding: 0 0 0 0;\n",
       "      width: 32px;\n",
       "    }\n",
       "\n",
       "    .colab-df-convert:hover {\n",
       "      background-color: #E2EBFA;\n",
       "      box-shadow: 0px 1px 2px rgba(60, 64, 67, 0.3), 0px 1px 3px 1px rgba(60, 64, 67, 0.15);\n",
       "      fill: #174EA6;\n",
       "    }\n",
       "\n",
       "    [theme=dark] .colab-df-convert {\n",
       "      background-color: #3B4455;\n",
       "      fill: #D2E3FC;\n",
       "    }\n",
       "\n",
       "    [theme=dark] .colab-df-convert:hover {\n",
       "      background-color: #434B5C;\n",
       "      box-shadow: 0px 1px 3px 1px rgba(0, 0, 0, 0.15);\n",
       "      filter: drop-shadow(0px 1px 2px rgba(0, 0, 0, 0.3));\n",
       "      fill: #FFFFFF;\n",
       "    }\n",
       "  </style>\n",
       "\n",
       "      <script>\n",
       "        const buttonEl =\n",
       "          document.querySelector('#df-235b1bda-73cf-4863-b1ba-4f9dea1c8963 button.colab-df-convert');\n",
       "        buttonEl.style.display =\n",
       "          google.colab.kernel.accessAllowed ? 'block' : 'none';\n",
       "\n",
       "        async function convertToInteractive(key) {\n",
       "          const element = document.querySelector('#df-235b1bda-73cf-4863-b1ba-4f9dea1c8963');\n",
       "          const dataTable =\n",
       "            await google.colab.kernel.invokeFunction('convertToInteractive',\n",
       "                                                     [key], {});\n",
       "          if (!dataTable) return;\n",
       "\n",
       "          const docLinkHtml = 'Like what you see? Visit the ' +\n",
       "            '<a target=\"_blank\" href=https://colab.research.google.com/notebooks/data_table.ipynb>data table notebook</a>'\n",
       "            + ' to learn more about interactive tables.';\n",
       "          element.innerHTML = '';\n",
       "          dataTable['output_type'] = 'display_data';\n",
       "          await google.colab.output.renderOutput(dataTable, element);\n",
       "          const docLink = document.createElement('div');\n",
       "          docLink.innerHTML = docLinkHtml;\n",
       "          element.appendChild(docLink);\n",
       "        }\n",
       "      </script>\n",
       "    </div>\n",
       "  </div>\n",
       "  "
      ],
      "text/plain": [
       "       Original  Predicted\n",
       "0             1          1\n",
       "1             1          1\n",
       "2             1          1\n",
       "3             1          1\n",
       "4             0          0\n",
       "...         ...        ...\n",
       "15013         1          1\n",
       "15014         1          1\n",
       "15015         1          1\n",
       "15016         1          1\n",
       "15017         1          1\n",
       "\n",
       "[15018 rows x 2 columns]"
      ]
     },
     "execution_count": 69,
     "metadata": {},
     "output_type": "execute_result"
    }
   ],
   "source": [
    "a_qda = np.array(y_test)\n",
    "predicted_qda = np.array(qda.predict(x_test))\n",
    "df_qda = pd.DataFrame({'Original':a_qda,'Predicted':predicted_qda})\n",
    "df_qda"
   ]
  },
  {
   "cell_type": "markdown",
   "id": "f1513ec1",
   "metadata": {
    "id": "f1513ec1"
   },
   "source": [
    "### Hyperparameter Tuning"
   ]
  },
  {
   "cell_type": "code",
   "execution_count": 70,
   "id": "4c6ca497",
   "metadata": {
    "colab": {
     "base_uri": "https://localhost:8080/"
    },
    "id": "4c6ca497",
    "outputId": "1b842161-c0b3-44d6-af08-4f73c6ac7a4d"
   },
   "outputs": [
    {
     "data": {
      "text/plain": [
       "{'priors': None, 'reg_param': 0.0, 'store_covariance': False, 'tol': 0.0001}"
      ]
     },
     "execution_count": 70,
     "metadata": {},
     "output_type": "execute_result"
    }
   ],
   "source": [
    "qda.get_params()"
   ]
  },
  {
   "cell_type": "code",
   "execution_count": 71,
   "id": "83a7b156",
   "metadata": {
    "id": "83a7b156"
   },
   "outputs": [],
   "source": [
    "parameters = {'reg_param': (0.00001, 0.0001, 0.001,0.01, 0.1,0.5), \n",
    "              'store_covariance': (True, False),\n",
    "              'tol': (0.0001, 0.001,0.01, 0.1)} "
   ]
  },
  {
   "cell_type": "code",
   "execution_count": 72,
   "id": "13eaef56",
   "metadata": {
    "colab": {
     "base_uri": "https://localhost:8080/"
    },
    "id": "13eaef56",
    "outputId": "8861513e-fd2e-4d66-ed76-b72a35c3ef3e"
   },
   "outputs": [
    {
     "name": "stdout",
     "output_type": "stream",
     "text": [
      "{'reg_param': 1e-05, 'store_covariance': True, 'tol': 0.0001}\n"
     ]
    }
   ],
   "source": [
    "g_qda = GridSearchCV(estimator=qda, param_grid=parameters, cv = 2)\n",
    "g_res = g_qda.fit(x_train, y_train)\n",
    "print(g_res.best_params_)"
   ]
  },
  {
   "cell_type": "code",
   "execution_count": 73,
   "id": "89094991",
   "metadata": {
    "id": "89094991"
   },
   "outputs": [],
   "source": [
    "qda = QuadraticDiscriminantAnalysis(reg_param = 1e-05, store_covariance= True, tol= 0.0001)"
   ]
  },
  {
   "cell_type": "code",
   "execution_count": 74,
   "id": "57924355",
   "metadata": {
    "colab": {
     "base_uri": "https://localhost:8080/"
    },
    "id": "57924355",
    "outputId": "b3b86e31-168b-4cca-bb05-5c5519aa99b7"
   },
   "outputs": [
    {
     "name": "stdout",
     "output_type": "stream",
     "text": [
      "At Random state: 0\n",
      "Training score : 94.7\n",
      "Testing score: 94.5\n",
      "At Random state: 1\n",
      "Training score : 94.7\n",
      "Testing score: 94.6\n",
      "At Random state: 2\n",
      "Training score : 94.8\n",
      "Testing score: 94.7\n",
      "At Random state: 3\n",
      "Training score : 94.6\n",
      "Testing score: 94.9\n",
      "At Random state: 4\n",
      "Training score : 94.6\n",
      "Testing score: 94.4\n",
      "At Random state: 5\n",
      "Training score : 94.9\n",
      "Testing score: 94.4\n",
      "At Random state: 6\n",
      "Training score : 94.5\n",
      "Testing score: 94.4\n",
      "At Random state: 7\n",
      "Training score : 94.7\n",
      "Testing score: 94.5\n",
      "At Random state: 8\n",
      "Training score : 94.6\n",
      "Testing score: 94.9\n",
      "At Random state: 9\n",
      "Training score : 94.5\n",
      "Testing score: 94.6\n"
     ]
    }
   ],
   "source": [
    "for i in range(0,10):\n",
    "    x_train,x_test,y_train,y_test = train_test_split(x_scaled, y, random_state = i, test_size = 0.25)\n",
    "    qda.fit(x_train,y_train)\n",
    "    pred_train = qda.predict(x_train)\n",
    "    pred_test = qda.predict(x_test) \n",
    "    if  round(accuracy_score(y_test,pred_test)*100,1) >= 94:\n",
    "        print('At Random state:',i)\n",
    "        print('Training score :',round(accuracy_score(y_train,pred_train)*100,1))\n",
    "        print('Testing score:',round(accuracy_score(y_test,pred_test)*100,1))"
   ]
  },
  {
   "cell_type": "code",
   "execution_count": 75,
   "id": "3d45132d",
   "metadata": {
    "id": "3d45132d"
   },
   "outputs": [],
   "source": [
    "x_train,x_test,y_train,y_test = train_test_split(x_scaled, y, random_state = 3, test_size = 0.25)"
   ]
  },
  {
   "cell_type": "code",
   "execution_count": 76,
   "id": "292d862a",
   "metadata": {
    "colab": {
     "base_uri": "https://localhost:8080/"
    },
    "id": "292d862a",
    "outputId": "4de0a513-16bc-46fe-8c40-71551a0cd523"
   },
   "outputs": [
    {
     "name": "stdout",
     "output_type": "stream",
     "text": [
      "\n",
      " ----- Train Result ----- \n",
      "\n",
      "Accuracy Score: 0.9462165101773545\n",
      "\n",
      " ----- Classification Report ----- \n",
      "               precision    recall  f1-score   support\n",
      "\n",
      "           0       0.89      0.39      0.54      3681\n",
      "           1       0.95      1.00      0.97     41370\n",
      "\n",
      "    accuracy                           0.95     45051\n",
      "   macro avg       0.92      0.69      0.76     45051\n",
      "weighted avg       0.94      0.95      0.94     45051\n",
      "\n",
      "\n",
      " ----- Confusion matrix ----- \n",
      " [[ 1428  2253]\n",
      " [  170 41200]]\n",
      "\n",
      " ----- Test Result ----- \n",
      "\n",
      "Accuracy Score: 0.949127713410574\n",
      "\n",
      " ----- Classification Report ----- \n",
      "               precision    recall  f1-score   support\n",
      "\n",
      "           0       0.88      0.39      0.54      1148\n",
      "           1       0.95      1.00      0.97     13870\n",
      "\n",
      "    accuracy                           0.95     15018\n",
      "   macro avg       0.92      0.69      0.76     15018\n",
      "weighted avg       0.95      0.95      0.94     15018\n",
      "\n",
      "\n",
      " ----- Confusion matrix ----- \n",
      " [[  444   704]\n",
      " [   60 13810]]\n"
     ]
    }
   ],
   "source": [
    "qda.fit(x_train,y_train)\n",
    "score(qda, x_train, x_test, y_train, y_test, train = True)\n",
    "score(qda, x_train, x_test, y_train, y_test, train = False)"
   ]
  },
  {
   "cell_type": "markdown",
   "id": "37c5a2a2",
   "metadata": {
    "id": "37c5a2a2"
   },
   "source": [
    "**As we can conclude that, post tuning score is very close to the previous accuracy score, so we can consider that our model is giving best accuracy score in both of the cases before and after tuning, So can go with both of the parameters.**"
   ]
  },
  {
   "cell_type": "code",
   "execution_count": 76,
   "id": "46898bd5",
   "metadata": {
    "id": "46898bd5"
   },
   "outputs": [],
   "source": []
  },
  {
   "cell_type": "markdown",
   "id": "_6XE6ItQORtO",
   "metadata": {
    "id": "_6XE6ItQORtO"
   },
   "source": [
    "# Pipeline"
   ]
  },
  {
   "cell_type": "code",
   "execution_count": 77,
   "id": "mYFNYrRKOVPA",
   "metadata": {
    "id": "mYFNYrRKOVPA"
   },
   "outputs": [],
   "source": [
    "pipeline_QDA= Pipeline([('Scaler', StandardScaler()),\n",
    "                        ('PCA',PCA(n_components=2)),\n",
    "                        ('QDA',QuadraticDiscriminantAnalysis())])"
   ]
  },
  {
   "cell_type": "code",
   "execution_count": 78,
   "id": "Pm3l-nOIQX-N",
   "metadata": {
    "colab": {
     "base_uri": "https://localhost:8080/"
    },
    "id": "Pm3l-nOIQX-N",
    "outputId": "c78e996a-a0b6-4779-c648-ed31bc42c875"
   },
   "outputs": [
    {
     "data": {
      "text/plain": [
       "0.9208949260886936"
      ]
     },
     "execution_count": 78,
     "metadata": {},
     "output_type": "execute_result"
    }
   ],
   "source": [
    "pipeline_QDA.fit(x_train,y_train)\n",
    "y_pred = pipeline_QDA.predict(x_test)\n",
    "accuracy_score(y_test,y_pred)"
   ]
  }
 ],
 "metadata": {
  "colab": {
   "name": "Prediction of Startup Acquisition status Team B (RF&knn Final) Team B.ipynb",
   "provenance": []
  },
  "kernelspec": {
   "display_name": "Python 3 (ipykernel)",
   "language": "python",
   "name": "python3"
  },
  "language_info": {
   "codemirror_mode": {
    "name": "ipython",
    "version": 3
   },
   "file_extension": ".py",
   "mimetype": "text/x-python",
   "name": "python",
   "nbconvert_exporter": "python",
   "pygments_lexer": "ipython3",
   "version": "3.10.6"
  }
 },
 "nbformat": 4,
 "nbformat_minor": 5
}
